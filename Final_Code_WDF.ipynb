{
  "nbformat": 4,
  "nbformat_minor": 0,
  "metadata": {
    "colab": {
      "name": "Final_Code_WDF.ipynb",
      "provenance": [],
      "collapsed_sections": []
    },
    "kernelspec": {
      "name": "python3",
      "display_name": "Python 3"
    }
  },
  "cells": [
    {
      "cell_type": "markdown",
      "metadata": {
        "id": "Kn6F_58LAIPo"
      },
      "source": [
        "# **Water Demand Forecasting**\n",
        "\n"
      ]
    },
    {
      "cell_type": "code",
      "metadata": {
        "id": "U-ZAS9WIZknj"
      },
      "source": [
        "#Basic Operations Libraries\n",
        "import math\n",
        "from datetime import datetime\n",
        "import warnings\n",
        "warnings.filterwarnings('ignore')\n",
        "#Data Anaysis Libraries\n",
        "import pandas as pd\n",
        "import numpy as np\n",
        "#Data Visulization Libraries\n",
        "import matplotlib.pyplot as plt\n",
        "import seaborn as sns\n",
        "#Machine Learning Libraries\n",
        "from sklearn.preprocessing import MinMaxScaler\n",
        "from sklearn.metrics import mean_squared_error\n",
        "#Deep Learing Libraries\n",
        "from tensorflow import keras\n",
        "from keras.models import Sequential\n",
        "from keras.layers import LSTM, Dropout, Dense"
      ],
      "execution_count": 1,
      "outputs": []
    },
    {
      "cell_type": "markdown",
      "metadata": {
        "id": "i5RXxMYkAbOM"
      },
      "source": [
        "# Importing Dataset for analysis"
      ]
    },
    {
      "cell_type": "code",
      "metadata": {
        "colab": {
          "base_uri": "https://localhost:8080/"
        },
        "id": "XVtpY3IjZmZ0",
        "outputId": "1de5e9b1-b6a9-4706-9782-74309af3e237"
      },
      "source": [
        "# Mount the google drive\n",
        "from google.colab import drive\n",
        "drive.mount('/content/drive')"
      ],
      "execution_count": 2,
      "outputs": [
        {
          "output_type": "stream",
          "text": [
            "Mounted at /content/drive\n"
          ],
          "name": "stdout"
        }
      ]
    },
    {
      "cell_type": "code",
      "metadata": {
        "id": "E7B_KY11Zo79"
      },
      "source": [
        "martes = pd.read_excel('/content/drive/MyDrive/spain data (1).xlsx', sheet_name='martes_2')"
      ],
      "execution_count": 3,
      "outputs": []
    },
    {
      "cell_type": "markdown",
      "metadata": {
        "id": "VCPogTSBAiR5"
      },
      "source": [
        "\n",
        "Creating Timestamps"
      ]
    },
    {
      "cell_type": "code",
      "metadata": {
        "id": "fkutR2XEZ1cl"
      },
      "source": [
        "# creating timestamps for dataframe to sort them further\n",
        "martes['timestamps'] = ['' for i in range(len(martes))]\n",
        "\n",
        "for i in range(len(martes)):\n",
        "  martes.timestamps[i] = martes.date[i] + ' ' + str(martes.h[i])\n",
        "  martes['timestamps'][i] = datetime.strptime(martes['timestamps'][i], \"%y/%m/%d %H:%M:%S\")"
      ],
      "execution_count": 4,
      "outputs": []
    },
    {
      "cell_type": "code",
      "metadata": {
        "id": "mlIpXU0tZ4h2"
      },
      "source": [
        "martes = martes.sort_values(by = 'timestamps') # sorting values by time\n"
      ],
      "execution_count": 5,
      "outputs": []
    },
    {
      "cell_type": "code",
      "metadata": {
        "colab": {
          "base_uri": "https://localhost:8080/",
          "height": 402
        },
        "id": "2GBq-9cE9zkO",
        "outputId": "da07620f-3edd-49e7-cc18-5e172cbe50a6"
      },
      "source": [
        "martes"
      ],
      "execution_count": 6,
      "outputs": [
        {
          "output_type": "execute_result",
          "data": {
            "text/html": [
              "<div>\n",
              "<style scoped>\n",
              "    .dataframe tbody tr th:only-of-type {\n",
              "        vertical-align: middle;\n",
              "    }\n",
              "\n",
              "    .dataframe tbody tr th {\n",
              "        vertical-align: top;\n",
              "    }\n",
              "\n",
              "    .dataframe thead th {\n",
              "        text-align: right;\n",
              "    }\n",
              "</style>\n",
              "<table border=\"1\" class=\"dataframe\">\n",
              "  <thead>\n",
              "    <tr style=\"text-align: right;\">\n",
              "      <th></th>\n",
              "      <th>item</th>\n",
              "      <th>demand</th>\n",
              "      <th>date</th>\n",
              "      <th>h</th>\n",
              "      <th>day</th>\n",
              "      <th>t</th>\n",
              "      <th>wind</th>\n",
              "      <th>mlsp</th>\n",
              "      <th>rain</th>\n",
              "      <th>timestamps</th>\n",
              "    </tr>\n",
              "  </thead>\n",
              "  <tbody>\n",
              "    <tr>\n",
              "      <th>0</th>\n",
              "      <td>73</td>\n",
              "      <td>19.33</td>\n",
              "      <td>05/01/04</td>\n",
              "      <td>00:00:00</td>\n",
              "      <td>2</td>\n",
              "      <td>10.7</td>\n",
              "      <td>3.33</td>\n",
              "      <td>1037.8</td>\n",
              "      <td>2.7</td>\n",
              "      <td>2005-01-04 00:00:00</td>\n",
              "    </tr>\n",
              "    <tr>\n",
              "      <th>1</th>\n",
              "      <td>74</td>\n",
              "      <td>13.83</td>\n",
              "      <td>05/01/04</td>\n",
              "      <td>01:00:00</td>\n",
              "      <td>2</td>\n",
              "      <td>10.7</td>\n",
              "      <td>3.33</td>\n",
              "      <td>1037.8</td>\n",
              "      <td>2.7</td>\n",
              "      <td>2005-01-04 01:00:00</td>\n",
              "    </tr>\n",
              "    <tr>\n",
              "      <th>2</th>\n",
              "      <td>75</td>\n",
              "      <td>12.24</td>\n",
              "      <td>05/01/04</td>\n",
              "      <td>02:00:00</td>\n",
              "      <td>2</td>\n",
              "      <td>10.7</td>\n",
              "      <td>3.33</td>\n",
              "      <td>1037.8</td>\n",
              "      <td>2.7</td>\n",
              "      <td>2005-01-04 02:00:00</td>\n",
              "    </tr>\n",
              "    <tr>\n",
              "      <th>3</th>\n",
              "      <td>76</td>\n",
              "      <td>11.71</td>\n",
              "      <td>05/01/04</td>\n",
              "      <td>03:00:00</td>\n",
              "      <td>2</td>\n",
              "      <td>10.7</td>\n",
              "      <td>3.33</td>\n",
              "      <td>1037.8</td>\n",
              "      <td>2.7</td>\n",
              "      <td>2005-01-04 03:00:00</td>\n",
              "    </tr>\n",
              "    <tr>\n",
              "      <th>4</th>\n",
              "      <td>77</td>\n",
              "      <td>11.98</td>\n",
              "      <td>05/01/04</td>\n",
              "      <td>04:00:00</td>\n",
              "      <td>2</td>\n",
              "      <td>10.7</td>\n",
              "      <td>3.33</td>\n",
              "      <td>1037.8</td>\n",
              "      <td>2.7</td>\n",
              "      <td>2005-01-04 04:00:00</td>\n",
              "    </tr>\n",
              "    <tr>\n",
              "      <th>...</th>\n",
              "      <td>...</td>\n",
              "      <td>...</td>\n",
              "      <td>...</td>\n",
              "      <td>...</td>\n",
              "      <td>...</td>\n",
              "      <td>...</td>\n",
              "      <td>...</td>\n",
              "      <td>...</td>\n",
              "      <td>...</td>\n",
              "      <td>...</td>\n",
              "    </tr>\n",
              "    <tr>\n",
              "      <th>331</th>\n",
              "      <td>2276</td>\n",
              "      <td>14.17</td>\n",
              "      <td>05/04/05</td>\n",
              "      <td>19:00:00</td>\n",
              "      <td>2</td>\n",
              "      <td>15.9</td>\n",
              "      <td>5.00</td>\n",
              "      <td>1028.0</td>\n",
              "      <td>0.0</td>\n",
              "      <td>2005-04-05 19:00:00</td>\n",
              "    </tr>\n",
              "    <tr>\n",
              "      <th>332</th>\n",
              "      <td>2277</td>\n",
              "      <td>16.08</td>\n",
              "      <td>05/04/05</td>\n",
              "      <td>20:00:00</td>\n",
              "      <td>2</td>\n",
              "      <td>15.9</td>\n",
              "      <td>5.00</td>\n",
              "      <td>1028.0</td>\n",
              "      <td>0.0</td>\n",
              "      <td>2005-04-05 20:00:00</td>\n",
              "    </tr>\n",
              "    <tr>\n",
              "      <th>333</th>\n",
              "      <td>2278</td>\n",
              "      <td>20.84</td>\n",
              "      <td>05/04/05</td>\n",
              "      <td>21:00:00</td>\n",
              "      <td>2</td>\n",
              "      <td>15.9</td>\n",
              "      <td>5.00</td>\n",
              "      <td>1028.0</td>\n",
              "      <td>0.0</td>\n",
              "      <td>2005-04-05 21:00:00</td>\n",
              "    </tr>\n",
              "    <tr>\n",
              "      <th>334</th>\n",
              "      <td>2279</td>\n",
              "      <td>34.22</td>\n",
              "      <td>05/04/05</td>\n",
              "      <td>22:00:00</td>\n",
              "      <td>2</td>\n",
              "      <td>15.9</td>\n",
              "      <td>5.00</td>\n",
              "      <td>1028.0</td>\n",
              "      <td>0.0</td>\n",
              "      <td>2005-04-05 22:00:00</td>\n",
              "    </tr>\n",
              "    <tr>\n",
              "      <th>335</th>\n",
              "      <td>2280</td>\n",
              "      <td>26.56</td>\n",
              "      <td>05/04/05</td>\n",
              "      <td>23:00:00</td>\n",
              "      <td>2</td>\n",
              "      <td>15.9</td>\n",
              "      <td>5.00</td>\n",
              "      <td>1028.0</td>\n",
              "      <td>0.0</td>\n",
              "      <td>2005-04-05 23:00:00</td>\n",
              "    </tr>\n",
              "  </tbody>\n",
              "</table>\n",
              "<p>336 rows × 10 columns</p>\n",
              "</div>"
            ],
            "text/plain": [
              "     item  demand      date         h  ...  wind    mlsp  rain           timestamps\n",
              "0      73   19.33  05/01/04  00:00:00  ...  3.33  1037.8   2.7  2005-01-04 00:00:00\n",
              "1      74   13.83  05/01/04  01:00:00  ...  3.33  1037.8   2.7  2005-01-04 01:00:00\n",
              "2      75   12.24  05/01/04  02:00:00  ...  3.33  1037.8   2.7  2005-01-04 02:00:00\n",
              "3      76   11.71  05/01/04  03:00:00  ...  3.33  1037.8   2.7  2005-01-04 03:00:00\n",
              "4      77   11.98  05/01/04  04:00:00  ...  3.33  1037.8   2.7  2005-01-04 04:00:00\n",
              "..    ...     ...       ...       ...  ...   ...     ...   ...                  ...\n",
              "331  2276   14.17  05/04/05  19:00:00  ...  5.00  1028.0   0.0  2005-04-05 19:00:00\n",
              "332  2277   16.08  05/04/05  20:00:00  ...  5.00  1028.0   0.0  2005-04-05 20:00:00\n",
              "333  2278   20.84  05/04/05  21:00:00  ...  5.00  1028.0   0.0  2005-04-05 21:00:00\n",
              "334  2279   34.22  05/04/05  22:00:00  ...  5.00  1028.0   0.0  2005-04-05 22:00:00\n",
              "335  2280   26.56  05/04/05  23:00:00  ...  5.00  1028.0   0.0  2005-04-05 23:00:00\n",
              "\n",
              "[336 rows x 10 columns]"
            ]
          },
          "metadata": {
            "tags": []
          },
          "execution_count": 6
        }
      ]
    },
    {
      "cell_type": "markdown",
      "metadata": {
        "id": "-PmOE2C9AoMS"
      },
      "source": [
        "# Initial Data Inspection"
      ]
    },
    {
      "cell_type": "code",
      "metadata": {
        "colab": {
          "base_uri": "https://localhost:8080/"
        },
        "id": "Epgtge8-7QUE",
        "outputId": "3d5889f0-30be-4fc5-9bf5-6901b89ca97a"
      },
      "source": [
        "martes.info()"
      ],
      "execution_count": 7,
      "outputs": [
        {
          "output_type": "stream",
          "text": [
            "<class 'pandas.core.frame.DataFrame'>\n",
            "Int64Index: 336 entries, 0 to 335\n",
            "Data columns (total 10 columns):\n",
            " #   Column      Non-Null Count  Dtype  \n",
            "---  ------      --------------  -----  \n",
            " 0   item        336 non-null    int64  \n",
            " 1   demand      336 non-null    float64\n",
            " 2   date        336 non-null    object \n",
            " 3   h           336 non-null    object \n",
            " 4   day         336 non-null    int64  \n",
            " 5   t           336 non-null    float64\n",
            " 6   wind        336 non-null    float64\n",
            " 7   mlsp        336 non-null    float64\n",
            " 8   rain        336 non-null    float64\n",
            " 9   timestamps  336 non-null    object \n",
            "dtypes: float64(5), int64(2), object(3)\n",
            "memory usage: 28.9+ KB\n"
          ],
          "name": "stdout"
        }
      ]
    },
    {
      "cell_type": "code",
      "metadata": {
        "colab": {
          "base_uri": "https://localhost:8080/",
          "height": 254
        },
        "id": "mQ4oQke_7QOF",
        "outputId": "3968f31f-f4c3-48c9-9a40-57b15bfb604e"
      },
      "source": [
        "martes.describe().T \n",
        "# No null values found"
      ],
      "execution_count": 8,
      "outputs": [
        {
          "output_type": "execute_result",
          "data": {
            "text/html": [
              "<div>\n",
              "<style scoped>\n",
              "    .dataframe tbody tr th:only-of-type {\n",
              "        vertical-align: middle;\n",
              "    }\n",
              "\n",
              "    .dataframe tbody tr th {\n",
              "        vertical-align: top;\n",
              "    }\n",
              "\n",
              "    .dataframe thead th {\n",
              "        text-align: right;\n",
              "    }\n",
              "</style>\n",
              "<table border=\"1\" class=\"dataframe\">\n",
              "  <thead>\n",
              "    <tr style=\"text-align: right;\">\n",
              "      <th></th>\n",
              "      <th>count</th>\n",
              "      <th>mean</th>\n",
              "      <th>std</th>\n",
              "      <th>min</th>\n",
              "      <th>25%</th>\n",
              "      <th>50%</th>\n",
              "      <th>75%</th>\n",
              "      <th>max</th>\n",
              "    </tr>\n",
              "  </thead>\n",
              "  <tbody>\n",
              "    <tr>\n",
              "      <th>item</th>\n",
              "      <td>336.0</td>\n",
              "      <td>1176.500000</td>\n",
              "      <td>678.275117</td>\n",
              "      <td>73.00</td>\n",
              "      <td>588.7500</td>\n",
              "      <td>1176.500</td>\n",
              "      <td>1764.2500</td>\n",
              "      <td>2280.00</td>\n",
              "    </tr>\n",
              "    <tr>\n",
              "      <th>demand</th>\n",
              "      <td>336.0</td>\n",
              "      <td>17.918988</td>\n",
              "      <td>6.770344</td>\n",
              "      <td>3.51</td>\n",
              "      <td>13.6025</td>\n",
              "      <td>16.335</td>\n",
              "      <td>21.0825</td>\n",
              "      <td>40.27</td>\n",
              "    </tr>\n",
              "    <tr>\n",
              "      <th>day</th>\n",
              "      <td>336.0</td>\n",
              "      <td>2.000000</td>\n",
              "      <td>0.000000</td>\n",
              "      <td>2.00</td>\n",
              "      <td>2.0000</td>\n",
              "      <td>2.000</td>\n",
              "      <td>2.0000</td>\n",
              "      <td>2.00</td>\n",
              "    </tr>\n",
              "    <tr>\n",
              "      <th>t</th>\n",
              "      <td>336.0</td>\n",
              "      <td>10.678571</td>\n",
              "      <td>3.955063</td>\n",
              "      <td>5.40</td>\n",
              "      <td>7.2000</td>\n",
              "      <td>10.150</td>\n",
              "      <td>12.5000</td>\n",
              "      <td>17.70</td>\n",
              "    </tr>\n",
              "    <tr>\n",
              "      <th>wind</th>\n",
              "      <td>336.0</td>\n",
              "      <td>9.047857</td>\n",
              "      <td>5.922365</td>\n",
              "      <td>2.22</td>\n",
              "      <td>4.4400</td>\n",
              "      <td>6.295</td>\n",
              "      <td>13.1500</td>\n",
              "      <td>22.41</td>\n",
              "    </tr>\n",
              "    <tr>\n",
              "      <th>mlsp</th>\n",
              "      <td>336.0</td>\n",
              "      <td>1021.678571</td>\n",
              "      <td>8.443315</td>\n",
              "      <td>1007.90</td>\n",
              "      <td>1014.8000</td>\n",
              "      <td>1021.650</td>\n",
              "      <td>1027.4000</td>\n",
              "      <td>1037.80</td>\n",
              "    </tr>\n",
              "    <tr>\n",
              "      <th>rain</th>\n",
              "      <td>336.0</td>\n",
              "      <td>1.728571</td>\n",
              "      <td>3.824714</td>\n",
              "      <td>0.00</td>\n",
              "      <td>0.0000</td>\n",
              "      <td>0.000</td>\n",
              "      <td>0.0000</td>\n",
              "      <td>12.70</td>\n",
              "    </tr>\n",
              "  </tbody>\n",
              "</table>\n",
              "</div>"
            ],
            "text/plain": [
              "        count         mean         std  ...       50%        75%      max\n",
              "item    336.0  1176.500000  678.275117  ...  1176.500  1764.2500  2280.00\n",
              "demand  336.0    17.918988    6.770344  ...    16.335    21.0825    40.27\n",
              "day     336.0     2.000000    0.000000  ...     2.000     2.0000     2.00\n",
              "t       336.0    10.678571    3.955063  ...    10.150    12.5000    17.70\n",
              "wind    336.0     9.047857    5.922365  ...     6.295    13.1500    22.41\n",
              "mlsp    336.0  1021.678571    8.443315  ...  1021.650  1027.4000  1037.80\n",
              "rain    336.0     1.728571    3.824714  ...     0.000     0.0000    12.70\n",
              "\n",
              "[7 rows x 8 columns]"
            ]
          },
          "metadata": {
            "tags": []
          },
          "execution_count": 8
        }
      ]
    },
    {
      "cell_type": "code",
      "metadata": {
        "colab": {
          "base_uri": "https://localhost:8080/",
          "height": 514
        },
        "id": "4MT7PhrICSqM",
        "outputId": "d95eaf45-994f-4fb6-c415-8d658d2ef232"
      },
      "source": [
        "plt.style.use(\"seaborn\")\n",
        "plt.figure(figsize = (10,8)) #change size of graph\n",
        "plt.hist(martes.demand, bins = 10, label = \"Martes Water Demand\", alpha = 0.5, color = \"blue\") #Histogramm of Water Demand Distibution martes\n",
        "plt.vlines(sum(martes.demand)/len(martes.demand) ,0,82, color = \"red\", linestyle = \"--\", label = \"Mean Water Demand\") #vertical line at NY mean\n",
        "plt.title(\"Martes Water Demand Distibution Histogram\", fontsize = 15) #set title\n",
        "plt.xlabel(\"Water Demand\") #label x-axis\n",
        "plt.ylabel(\"Frequency\") #label y-axis\n",
        "plt.xticks(range(0,45,5)) #set ticks of x-axis\n",
        "plt.axis((0,45,0,85)) #set range of axis\n",
        "plt.grid(True) #enable/disable grid\n",
        "plt.legend(loc = \"center right\", fontsize = 15) #include legend\n",
        "plt.show()"
      ],
      "execution_count": 9,
      "outputs": [
        {
          "output_type": "display_data",
          "data": {
            "image/png": "[encoded data removed]",
            "text/plain": [
              "<Figure size 720x576 with 1 Axes>"
            ]
          },
          "metadata": {
            "tags": []
          }
        }
      ]
    },
    {
      "cell_type": "markdown",
      "metadata": {
        "id": "jJZ-ytSpNFdl"
      },
      "source": [
        ""
      ]
    },
    {
      "cell_type": "code",
      "metadata": {
        "colab": {
          "base_uri": "https://localhost:8080/",
          "height": 504
        },
        "id": "9Kjy193n7QIM",
        "outputId": "8ab7feb6-0a48-4dbf-c1d9-4b84663fb814"
      },
      "source": [
        "f, ax = plt.subplots(figsize = (8, 8))\n",
        "sns.heatmap(martes.drop(['day', 'item'], axis = 1).corr(), annot = True)"
      ],
      "execution_count": 10,
      "outputs": [
        {
          "output_type": "execute_result",
          "data": {
            "text/plain": [
              "<matplotlib.axes._subplots.AxesSubplot at 0x7f8d5485a390>"
            ]
          },
          "metadata": {
            "tags": []
          },
          "execution_count": 10
        },
        {
          "output_type": "display_data",
          "data": {
            "image/png": "[encoded data removed]",
            "text/plain": [
              "<Figure size 576x576 with 2 Axes>"
            ]
          },
          "metadata": {
            "tags": []
          }
        }
      ]
    },
    {
      "cell_type": "markdown",
      "metadata": {
        "id": "V-91j21dNvbZ"
      },
      "source": [
        "# Data Preprocessing"
      ]
    },
    {
      "cell_type": "code",
      "metadata": {
        "colab": {
          "base_uri": "https://localhost:8080/",
          "height": 402
        },
        "id": "O8BhEmVxZ9Qu",
        "outputId": "3947c66e-b699-4b60-f783-79318cf626c4"
      },
      "source": [
        "data = martes.drop(['date', 'h','item', 'timestamps'], axis = 1)\n",
        "data"
      ],
      "execution_count": 11,
      "outputs": [
        {
          "output_type": "execute_result",
          "data": {
            "text/html": [
              "<div>\n",
              "<style scoped>\n",
              "    .dataframe tbody tr th:only-of-type {\n",
              "        vertical-align: middle;\n",
              "    }\n",
              "\n",
              "    .dataframe tbody tr th {\n",
              "        vertical-align: top;\n",
              "    }\n",
              "\n",
              "    .dataframe thead th {\n",
              "        text-align: right;\n",
              "    }\n",
              "</style>\n",
              "<table border=\"1\" class=\"dataframe\">\n",
              "  <thead>\n",
              "    <tr style=\"text-align: right;\">\n",
              "      <th></th>\n",
              "      <th>demand</th>\n",
              "      <th>day</th>\n",
              "      <th>t</th>\n",
              "      <th>wind</th>\n",
              "      <th>mlsp</th>\n",
              "      <th>rain</th>\n",
              "    </tr>\n",
              "  </thead>\n",
              "  <tbody>\n",
              "    <tr>\n",
              "      <th>0</th>\n",
              "      <td>19.33</td>\n",
              "      <td>2</td>\n",
              "      <td>10.7</td>\n",
              "      <td>3.33</td>\n",
              "      <td>1037.8</td>\n",
              "      <td>2.7</td>\n",
              "    </tr>\n",
              "    <tr>\n",
              "      <th>1</th>\n",
              "      <td>13.83</td>\n",
              "      <td>2</td>\n",
              "      <td>10.7</td>\n",
              "      <td>3.33</td>\n",
              "      <td>1037.8</td>\n",
              "      <td>2.7</td>\n",
              "    </tr>\n",
              "    <tr>\n",
              "      <th>2</th>\n",
              "      <td>12.24</td>\n",
              "      <td>2</td>\n",
              "      <td>10.7</td>\n",
              "      <td>3.33</td>\n",
              "      <td>1037.8</td>\n",
              "      <td>2.7</td>\n",
              "    </tr>\n",
              "    <tr>\n",
              "      <th>3</th>\n",
              "      <td>11.71</td>\n",
              "      <td>2</td>\n",
              "      <td>10.7</td>\n",
              "      <td>3.33</td>\n",
              "      <td>1037.8</td>\n",
              "      <td>2.7</td>\n",
              "    </tr>\n",
              "    <tr>\n",
              "      <th>4</th>\n",
              "      <td>11.98</td>\n",
              "      <td>2</td>\n",
              "      <td>10.7</td>\n",
              "      <td>3.33</td>\n",
              "      <td>1037.8</td>\n",
              "      <td>2.7</td>\n",
              "    </tr>\n",
              "    <tr>\n",
              "      <th>...</th>\n",
              "      <td>...</td>\n",
              "      <td>...</td>\n",
              "      <td>...</td>\n",
              "      <td>...</td>\n",
              "      <td>...</td>\n",
              "      <td>...</td>\n",
              "    </tr>\n",
              "    <tr>\n",
              "      <th>331</th>\n",
              "      <td>14.17</td>\n",
              "      <td>2</td>\n",
              "      <td>15.9</td>\n",
              "      <td>5.00</td>\n",
              "      <td>1028.0</td>\n",
              "      <td>0.0</td>\n",
              "    </tr>\n",
              "    <tr>\n",
              "      <th>332</th>\n",
              "      <td>16.08</td>\n",
              "      <td>2</td>\n",
              "      <td>15.9</td>\n",
              "      <td>5.00</td>\n",
              "      <td>1028.0</td>\n",
              "      <td>0.0</td>\n",
              "    </tr>\n",
              "    <tr>\n",
              "      <th>333</th>\n",
              "      <td>20.84</td>\n",
              "      <td>2</td>\n",
              "      <td>15.9</td>\n",
              "      <td>5.00</td>\n",
              "      <td>1028.0</td>\n",
              "      <td>0.0</td>\n",
              "    </tr>\n",
              "    <tr>\n",
              "      <th>334</th>\n",
              "      <td>34.22</td>\n",
              "      <td>2</td>\n",
              "      <td>15.9</td>\n",
              "      <td>5.00</td>\n",
              "      <td>1028.0</td>\n",
              "      <td>0.0</td>\n",
              "    </tr>\n",
              "    <tr>\n",
              "      <th>335</th>\n",
              "      <td>26.56</td>\n",
              "      <td>2</td>\n",
              "      <td>15.9</td>\n",
              "      <td>5.00</td>\n",
              "      <td>1028.0</td>\n",
              "      <td>0.0</td>\n",
              "    </tr>\n",
              "  </tbody>\n",
              "</table>\n",
              "<p>336 rows × 6 columns</p>\n",
              "</div>"
            ],
            "text/plain": [
              "     demand  day     t  wind    mlsp  rain\n",
              "0     19.33    2  10.7  3.33  1037.8   2.7\n",
              "1     13.83    2  10.7  3.33  1037.8   2.7\n",
              "2     12.24    2  10.7  3.33  1037.8   2.7\n",
              "3     11.71    2  10.7  3.33  1037.8   2.7\n",
              "4     11.98    2  10.7  3.33  1037.8   2.7\n",
              "..      ...  ...   ...   ...     ...   ...\n",
              "331   14.17    2  15.9  5.00  1028.0   0.0\n",
              "332   16.08    2  15.9  5.00  1028.0   0.0\n",
              "333   20.84    2  15.9  5.00  1028.0   0.0\n",
              "334   34.22    2  15.9  5.00  1028.0   0.0\n",
              "335   26.56    2  15.9  5.00  1028.0   0.0\n",
              "\n",
              "[336 rows x 6 columns]"
            ]
          },
          "metadata": {
            "tags": []
          },
          "execution_count": 11
        }
      ]
    },
    {
      "cell_type": "code",
      "metadata": {
        "colab": {
          "base_uri": "https://localhost:8080/",
          "height": 402
        },
        "id": "TK-mqms8aEQn",
        "outputId": "7a32e24a-d043-4ed9-b31c-c94d07a32dee"
      },
      "source": [
        "data = data.astype(float)\n",
        "data"
      ],
      "execution_count": 12,
      "outputs": [
        {
          "output_type": "execute_result",
          "data": {
            "text/html": [
              "<div>\n",
              "<style scoped>\n",
              "    .dataframe tbody tr th:only-of-type {\n",
              "        vertical-align: middle;\n",
              "    }\n",
              "\n",
              "    .dataframe tbody tr th {\n",
              "        vertical-align: top;\n",
              "    }\n",
              "\n",
              "    .dataframe thead th {\n",
              "        text-align: right;\n",
              "    }\n",
              "</style>\n",
              "<table border=\"1\" class=\"dataframe\">\n",
              "  <thead>\n",
              "    <tr style=\"text-align: right;\">\n",
              "      <th></th>\n",
              "      <th>demand</th>\n",
              "      <th>day</th>\n",
              "      <th>t</th>\n",
              "      <th>wind</th>\n",
              "      <th>mlsp</th>\n",
              "      <th>rain</th>\n",
              "    </tr>\n",
              "  </thead>\n",
              "  <tbody>\n",
              "    <tr>\n",
              "      <th>0</th>\n",
              "      <td>19.33</td>\n",
              "      <td>2.0</td>\n",
              "      <td>10.7</td>\n",
              "      <td>3.33</td>\n",
              "      <td>1037.8</td>\n",
              "      <td>2.7</td>\n",
              "    </tr>\n",
              "    <tr>\n",
              "      <th>1</th>\n",
              "      <td>13.83</td>\n",
              "      <td>2.0</td>\n",
              "      <td>10.7</td>\n",
              "      <td>3.33</td>\n",
              "      <td>1037.8</td>\n",
              "      <td>2.7</td>\n",
              "    </tr>\n",
              "    <tr>\n",
              "      <th>2</th>\n",
              "      <td>12.24</td>\n",
              "      <td>2.0</td>\n",
              "      <td>10.7</td>\n",
              "      <td>3.33</td>\n",
              "      <td>1037.8</td>\n",
              "      <td>2.7</td>\n",
              "    </tr>\n",
              "    <tr>\n",
              "      <th>3</th>\n",
              "      <td>11.71</td>\n",
              "      <td>2.0</td>\n",
              "      <td>10.7</td>\n",
              "      <td>3.33</td>\n",
              "      <td>1037.8</td>\n",
              "      <td>2.7</td>\n",
              "    </tr>\n",
              "    <tr>\n",
              "      <th>4</th>\n",
              "      <td>11.98</td>\n",
              "      <td>2.0</td>\n",
              "      <td>10.7</td>\n",
              "      <td>3.33</td>\n",
              "      <td>1037.8</td>\n",
              "      <td>2.7</td>\n",
              "    </tr>\n",
              "    <tr>\n",
              "      <th>...</th>\n",
              "      <td>...</td>\n",
              "      <td>...</td>\n",
              "      <td>...</td>\n",
              "      <td>...</td>\n",
              "      <td>...</td>\n",
              "      <td>...</td>\n",
              "    </tr>\n",
              "    <tr>\n",
              "      <th>331</th>\n",
              "      <td>14.17</td>\n",
              "      <td>2.0</td>\n",
              "      <td>15.9</td>\n",
              "      <td>5.00</td>\n",
              "      <td>1028.0</td>\n",
              "      <td>0.0</td>\n",
              "    </tr>\n",
              "    <tr>\n",
              "      <th>332</th>\n",
              "      <td>16.08</td>\n",
              "      <td>2.0</td>\n",
              "      <td>15.9</td>\n",
              "      <td>5.00</td>\n",
              "      <td>1028.0</td>\n",
              "      <td>0.0</td>\n",
              "    </tr>\n",
              "    <tr>\n",
              "      <th>333</th>\n",
              "      <td>20.84</td>\n",
              "      <td>2.0</td>\n",
              "      <td>15.9</td>\n",
              "      <td>5.00</td>\n",
              "      <td>1028.0</td>\n",
              "      <td>0.0</td>\n",
              "    </tr>\n",
              "    <tr>\n",
              "      <th>334</th>\n",
              "      <td>34.22</td>\n",
              "      <td>2.0</td>\n",
              "      <td>15.9</td>\n",
              "      <td>5.00</td>\n",
              "      <td>1028.0</td>\n",
              "      <td>0.0</td>\n",
              "    </tr>\n",
              "    <tr>\n",
              "      <th>335</th>\n",
              "      <td>26.56</td>\n",
              "      <td>2.0</td>\n",
              "      <td>15.9</td>\n",
              "      <td>5.00</td>\n",
              "      <td>1028.0</td>\n",
              "      <td>0.0</td>\n",
              "    </tr>\n",
              "  </tbody>\n",
              "</table>\n",
              "<p>336 rows × 6 columns</p>\n",
              "</div>"
            ],
            "text/plain": [
              "     demand  day     t  wind    mlsp  rain\n",
              "0     19.33  2.0  10.7  3.33  1037.8   2.7\n",
              "1     13.83  2.0  10.7  3.33  1037.8   2.7\n",
              "2     12.24  2.0  10.7  3.33  1037.8   2.7\n",
              "3     11.71  2.0  10.7  3.33  1037.8   2.7\n",
              "4     11.98  2.0  10.7  3.33  1037.8   2.7\n",
              "..      ...  ...   ...   ...     ...   ...\n",
              "331   14.17  2.0  15.9  5.00  1028.0   0.0\n",
              "332   16.08  2.0  15.9  5.00  1028.0   0.0\n",
              "333   20.84  2.0  15.9  5.00  1028.0   0.0\n",
              "334   34.22  2.0  15.9  5.00  1028.0   0.0\n",
              "335   26.56  2.0  15.9  5.00  1028.0   0.0\n",
              "\n",
              "[336 rows x 6 columns]"
            ]
          },
          "metadata": {
            "tags": []
          },
          "execution_count": 12
        }
      ]
    },
    {
      "cell_type": "code",
      "metadata": {
        "id": "UMG1ZjGQaG_f"
      },
      "source": [
        "demands = data['demand']\n",
        "targets = list()\n",
        "\n",
        "for i in range(len(demands)):\n",
        "  if  i != 0:\n",
        "    targets.append(demands[i])\n",
        "\n",
        "targets.append(None)"
      ],
      "execution_count": 13,
      "outputs": []
    },
    {
      "cell_type": "code",
      "metadata": {
        "id": "wFI8SbcIaKpw"
      },
      "source": [
        "data['Targets'] = targets"
      ],
      "execution_count": 14,
      "outputs": []
    },
    {
      "cell_type": "code",
      "metadata": {
        "colab": {
          "base_uri": "https://localhost:8080/",
          "height": 402
        },
        "id": "Naw3RStwaNOh",
        "outputId": "e8096709-a238-4a27-e441-aab619d2c98c"
      },
      "source": [
        "data"
      ],
      "execution_count": 15,
      "outputs": [
        {
          "output_type": "execute_result",
          "data": {
            "text/html": [
              "<div>\n",
              "<style scoped>\n",
              "    .dataframe tbody tr th:only-of-type {\n",
              "        vertical-align: middle;\n",
              "    }\n",
              "\n",
              "    .dataframe tbody tr th {\n",
              "        vertical-align: top;\n",
              "    }\n",
              "\n",
              "    .dataframe thead th {\n",
              "        text-align: right;\n",
              "    }\n",
              "</style>\n",
              "<table border=\"1\" class=\"dataframe\">\n",
              "  <thead>\n",
              "    <tr style=\"text-align: right;\">\n",
              "      <th></th>\n",
              "      <th>demand</th>\n",
              "      <th>day</th>\n",
              "      <th>t</th>\n",
              "      <th>wind</th>\n",
              "      <th>mlsp</th>\n",
              "      <th>rain</th>\n",
              "      <th>Targets</th>\n",
              "    </tr>\n",
              "  </thead>\n",
              "  <tbody>\n",
              "    <tr>\n",
              "      <th>0</th>\n",
              "      <td>19.33</td>\n",
              "      <td>2.0</td>\n",
              "      <td>10.7</td>\n",
              "      <td>3.33</td>\n",
              "      <td>1037.8</td>\n",
              "      <td>2.7</td>\n",
              "      <td>13.83</td>\n",
              "    </tr>\n",
              "    <tr>\n",
              "      <th>1</th>\n",
              "      <td>13.83</td>\n",
              "      <td>2.0</td>\n",
              "      <td>10.7</td>\n",
              "      <td>3.33</td>\n",
              "      <td>1037.8</td>\n",
              "      <td>2.7</td>\n",
              "      <td>12.24</td>\n",
              "    </tr>\n",
              "    <tr>\n",
              "      <th>2</th>\n",
              "      <td>12.24</td>\n",
              "      <td>2.0</td>\n",
              "      <td>10.7</td>\n",
              "      <td>3.33</td>\n",
              "      <td>1037.8</td>\n",
              "      <td>2.7</td>\n",
              "      <td>11.71</td>\n",
              "    </tr>\n",
              "    <tr>\n",
              "      <th>3</th>\n",
              "      <td>11.71</td>\n",
              "      <td>2.0</td>\n",
              "      <td>10.7</td>\n",
              "      <td>3.33</td>\n",
              "      <td>1037.8</td>\n",
              "      <td>2.7</td>\n",
              "      <td>11.98</td>\n",
              "    </tr>\n",
              "    <tr>\n",
              "      <th>4</th>\n",
              "      <td>11.98</td>\n",
              "      <td>2.0</td>\n",
              "      <td>10.7</td>\n",
              "      <td>3.33</td>\n",
              "      <td>1037.8</td>\n",
              "      <td>2.7</td>\n",
              "      <td>12.86</td>\n",
              "    </tr>\n",
              "    <tr>\n",
              "      <th>...</th>\n",
              "      <td>...</td>\n",
              "      <td>...</td>\n",
              "      <td>...</td>\n",
              "      <td>...</td>\n",
              "      <td>...</td>\n",
              "      <td>...</td>\n",
              "      <td>...</td>\n",
              "    </tr>\n",
              "    <tr>\n",
              "      <th>331</th>\n",
              "      <td>14.17</td>\n",
              "      <td>2.0</td>\n",
              "      <td>15.9</td>\n",
              "      <td>5.00</td>\n",
              "      <td>1028.0</td>\n",
              "      <td>0.0</td>\n",
              "      <td>16.08</td>\n",
              "    </tr>\n",
              "    <tr>\n",
              "      <th>332</th>\n",
              "      <td>16.08</td>\n",
              "      <td>2.0</td>\n",
              "      <td>15.9</td>\n",
              "      <td>5.00</td>\n",
              "      <td>1028.0</td>\n",
              "      <td>0.0</td>\n",
              "      <td>20.84</td>\n",
              "    </tr>\n",
              "    <tr>\n",
              "      <th>333</th>\n",
              "      <td>20.84</td>\n",
              "      <td>2.0</td>\n",
              "      <td>15.9</td>\n",
              "      <td>5.00</td>\n",
              "      <td>1028.0</td>\n",
              "      <td>0.0</td>\n",
              "      <td>34.22</td>\n",
              "    </tr>\n",
              "    <tr>\n",
              "      <th>334</th>\n",
              "      <td>34.22</td>\n",
              "      <td>2.0</td>\n",
              "      <td>15.9</td>\n",
              "      <td>5.00</td>\n",
              "      <td>1028.0</td>\n",
              "      <td>0.0</td>\n",
              "      <td>26.56</td>\n",
              "    </tr>\n",
              "    <tr>\n",
              "      <th>335</th>\n",
              "      <td>26.56</td>\n",
              "      <td>2.0</td>\n",
              "      <td>15.9</td>\n",
              "      <td>5.00</td>\n",
              "      <td>1028.0</td>\n",
              "      <td>0.0</td>\n",
              "      <td>NaN</td>\n",
              "    </tr>\n",
              "  </tbody>\n",
              "</table>\n",
              "<p>336 rows × 7 columns</p>\n",
              "</div>"
            ],
            "text/plain": [
              "     demand  day     t  wind    mlsp  rain  Targets\n",
              "0     19.33  2.0  10.7  3.33  1037.8   2.7    13.83\n",
              "1     13.83  2.0  10.7  3.33  1037.8   2.7    12.24\n",
              "2     12.24  2.0  10.7  3.33  1037.8   2.7    11.71\n",
              "3     11.71  2.0  10.7  3.33  1037.8   2.7    11.98\n",
              "4     11.98  2.0  10.7  3.33  1037.8   2.7    12.86\n",
              "..      ...  ...   ...   ...     ...   ...      ...\n",
              "331   14.17  2.0  15.9  5.00  1028.0   0.0    16.08\n",
              "332   16.08  2.0  15.9  5.00  1028.0   0.0    20.84\n",
              "333   20.84  2.0  15.9  5.00  1028.0   0.0    34.22\n",
              "334   34.22  2.0  15.9  5.00  1028.0   0.0    26.56\n",
              "335   26.56  2.0  15.9  5.00  1028.0   0.0      NaN\n",
              "\n",
              "[336 rows x 7 columns]"
            ]
          },
          "metadata": {
            "tags": []
          },
          "execution_count": 15
        }
      ]
    },
    {
      "cell_type": "code",
      "metadata": {
        "colab": {
          "base_uri": "https://localhost:8080/",
          "height": 500
        },
        "id": "NkBt5HYF_SpU",
        "outputId": "df222e9c-c5b8-4fde-f1cb-2971fd010dc8"
      },
      "source": [
        "plt.figure(figsize = (15,8))\n",
        "plt.xticks(ticks = range(0,350,10))\n",
        "plt.plot(data['demand'])"
      ],
      "execution_count": 16,
      "outputs": [
        {
          "output_type": "execute_result",
          "data": {
            "text/plain": [
              "[<matplotlib.lines.Line2D at 0x7f8d4c0818d0>]"
            ]
          },
          "metadata": {
            "tags": []
          },
          "execution_count": 16
        },
        {
          "output_type": "display_data",
          "data": {
            "image/png": "[encoded data removed]",
            "text/plain": [
              "<Figure size 1080x576 with 1 Axes>"
            ]
          },
          "metadata": {
            "tags": []
          }
        }
      ]
    },
    {
      "cell_type": "code",
      "metadata": {
        "id": "soUllOiqH8d9"
      },
      "source": [
        ""
      ],
      "execution_count": 16,
      "outputs": []
    },
    {
      "cell_type": "code",
      "metadata": {
        "id": "QCtuOrlcaPue"
      },
      "source": [
        "# Remove the last row as it will be a null value\n",
        "data = data[:-1]\n",
        "data = data.loc[:, ['demand', 'wind', 'rain','mlsp', 'Targets']]"
      ],
      "execution_count": 17,
      "outputs": []
    },
    {
      "cell_type": "code",
      "metadata": {
        "id": "0TUe1Xh7aWc6"
      },
      "source": [
        "data = data.loc[:, ['demand','rain', 'Targets']]"
      ],
      "execution_count": 18,
      "outputs": []
    },
    {
      "cell_type": "code",
      "metadata": {
        "colab": {
          "base_uri": "https://localhost:8080/",
          "height": 402
        },
        "id": "TQGYOR_4aY1d",
        "outputId": "4f6fea40-9e29-4d6e-eef9-cbf4fd0fa36c"
      },
      "source": [
        "data"
      ],
      "execution_count": 19,
      "outputs": [
        {
          "output_type": "execute_result",
          "data": {
            "text/html": [
              "<div>\n",
              "<style scoped>\n",
              "    .dataframe tbody tr th:only-of-type {\n",
              "        vertical-align: middle;\n",
              "    }\n",
              "\n",
              "    .dataframe tbody tr th {\n",
              "        vertical-align: top;\n",
              "    }\n",
              "\n",
              "    .dataframe thead th {\n",
              "        text-align: right;\n",
              "    }\n",
              "</style>\n",
              "<table border=\"1\" class=\"dataframe\">\n",
              "  <thead>\n",
              "    <tr style=\"text-align: right;\">\n",
              "      <th></th>\n",
              "      <th>demand</th>\n",
              "      <th>rain</th>\n",
              "      <th>Targets</th>\n",
              "    </tr>\n",
              "  </thead>\n",
              "  <tbody>\n",
              "    <tr>\n",
              "      <th>0</th>\n",
              "      <td>19.33</td>\n",
              "      <td>2.7</td>\n",
              "      <td>13.83</td>\n",
              "    </tr>\n",
              "    <tr>\n",
              "      <th>1</th>\n",
              "      <td>13.83</td>\n",
              "      <td>2.7</td>\n",
              "      <td>12.24</td>\n",
              "    </tr>\n",
              "    <tr>\n",
              "      <th>2</th>\n",
              "      <td>12.24</td>\n",
              "      <td>2.7</td>\n",
              "      <td>11.71</td>\n",
              "    </tr>\n",
              "    <tr>\n",
              "      <th>3</th>\n",
              "      <td>11.71</td>\n",
              "      <td>2.7</td>\n",
              "      <td>11.98</td>\n",
              "    </tr>\n",
              "    <tr>\n",
              "      <th>4</th>\n",
              "      <td>11.98</td>\n",
              "      <td>2.7</td>\n",
              "      <td>12.86</td>\n",
              "    </tr>\n",
              "    <tr>\n",
              "      <th>...</th>\n",
              "      <td>...</td>\n",
              "      <td>...</td>\n",
              "      <td>...</td>\n",
              "    </tr>\n",
              "    <tr>\n",
              "      <th>330</th>\n",
              "      <td>12.04</td>\n",
              "      <td>0.0</td>\n",
              "      <td>14.17</td>\n",
              "    </tr>\n",
              "    <tr>\n",
              "      <th>331</th>\n",
              "      <td>14.17</td>\n",
              "      <td>0.0</td>\n",
              "      <td>16.08</td>\n",
              "    </tr>\n",
              "    <tr>\n",
              "      <th>332</th>\n",
              "      <td>16.08</td>\n",
              "      <td>0.0</td>\n",
              "      <td>20.84</td>\n",
              "    </tr>\n",
              "    <tr>\n",
              "      <th>333</th>\n",
              "      <td>20.84</td>\n",
              "      <td>0.0</td>\n",
              "      <td>34.22</td>\n",
              "    </tr>\n",
              "    <tr>\n",
              "      <th>334</th>\n",
              "      <td>34.22</td>\n",
              "      <td>0.0</td>\n",
              "      <td>26.56</td>\n",
              "    </tr>\n",
              "  </tbody>\n",
              "</table>\n",
              "<p>335 rows × 3 columns</p>\n",
              "</div>"
            ],
            "text/plain": [
              "     demand  rain  Targets\n",
              "0     19.33   2.7    13.83\n",
              "1     13.83   2.7    12.24\n",
              "2     12.24   2.7    11.71\n",
              "3     11.71   2.7    11.98\n",
              "4     11.98   2.7    12.86\n",
              "..      ...   ...      ...\n",
              "330   12.04   0.0    14.17\n",
              "331   14.17   0.0    16.08\n",
              "332   16.08   0.0    20.84\n",
              "333   20.84   0.0    34.22\n",
              "334   34.22   0.0    26.56\n",
              "\n",
              "[335 rows x 3 columns]"
            ]
          },
          "metadata": {
            "tags": []
          },
          "execution_count": 19
        }
      ]
    },
    {
      "cell_type": "code",
      "metadata": {
        "colab": {
          "base_uri": "https://localhost:8080/",
          "height": 362
        },
        "id": "otUumGHVH-xL",
        "outputId": "55ca5036-5df0-49a4-f0f0-33d99ca4226d"
      },
      "source": [
        "from statsmodels.graphics.tsaplots import plot_acf\n",
        "from matplotlib import pyplot\n",
        "plot_acf(data['demand'])\n",
        "pyplot.show()"
      ],
      "execution_count": 20,
      "outputs": [
        {
          "output_type": "display_data",
          "data": {
            "image/png": "[encoded data removed]",
            "text/plain": [
              "<Figure size 576x396 with 1 Axes>"
            ]
          },
          "metadata": {
            "tags": []
          }
        }
      ]
    },
    {
      "cell_type": "code",
      "metadata": {
        "id": "_fzjawDKKrQ-"
      },
      "source": [
        "# from above graph we get that we should look back upto 3 days to forecast next step"
      ],
      "execution_count": 21,
      "outputs": []
    },
    {
      "cell_type": "code",
      "metadata": {
        "id": "7TaXlgfVK1T4",
        "colab": {
          "base_uri": "https://localhost:8080/",
          "height": 402
        },
        "outputId": "35ad4071-b664-401a-de04-d93256a389b8"
      },
      "source": [
        "df1 = data.loc[:,['demand', 'rain']]\n",
        "df1"
      ],
      "execution_count": 22,
      "outputs": [
        {
          "output_type": "execute_result",
          "data": {
            "text/html": [
              "<div>\n",
              "<style scoped>\n",
              "    .dataframe tbody tr th:only-of-type {\n",
              "        vertical-align: middle;\n",
              "    }\n",
              "\n",
              "    .dataframe tbody tr th {\n",
              "        vertical-align: top;\n",
              "    }\n",
              "\n",
              "    .dataframe thead th {\n",
              "        text-align: right;\n",
              "    }\n",
              "</style>\n",
              "<table border=\"1\" class=\"dataframe\">\n",
              "  <thead>\n",
              "    <tr style=\"text-align: right;\">\n",
              "      <th></th>\n",
              "      <th>demand</th>\n",
              "      <th>rain</th>\n",
              "    </tr>\n",
              "  </thead>\n",
              "  <tbody>\n",
              "    <tr>\n",
              "      <th>0</th>\n",
              "      <td>19.33</td>\n",
              "      <td>2.7</td>\n",
              "    </tr>\n",
              "    <tr>\n",
              "      <th>1</th>\n",
              "      <td>13.83</td>\n",
              "      <td>2.7</td>\n",
              "    </tr>\n",
              "    <tr>\n",
              "      <th>2</th>\n",
              "      <td>12.24</td>\n",
              "      <td>2.7</td>\n",
              "    </tr>\n",
              "    <tr>\n",
              "      <th>3</th>\n",
              "      <td>11.71</td>\n",
              "      <td>2.7</td>\n",
              "    </tr>\n",
              "    <tr>\n",
              "      <th>4</th>\n",
              "      <td>11.98</td>\n",
              "      <td>2.7</td>\n",
              "    </tr>\n",
              "    <tr>\n",
              "      <th>...</th>\n",
              "      <td>...</td>\n",
              "      <td>...</td>\n",
              "    </tr>\n",
              "    <tr>\n",
              "      <th>330</th>\n",
              "      <td>12.04</td>\n",
              "      <td>0.0</td>\n",
              "    </tr>\n",
              "    <tr>\n",
              "      <th>331</th>\n",
              "      <td>14.17</td>\n",
              "      <td>0.0</td>\n",
              "    </tr>\n",
              "    <tr>\n",
              "      <th>332</th>\n",
              "      <td>16.08</td>\n",
              "      <td>0.0</td>\n",
              "    </tr>\n",
              "    <tr>\n",
              "      <th>333</th>\n",
              "      <td>20.84</td>\n",
              "      <td>0.0</td>\n",
              "    </tr>\n",
              "    <tr>\n",
              "      <th>334</th>\n",
              "      <td>34.22</td>\n",
              "      <td>0.0</td>\n",
              "    </tr>\n",
              "  </tbody>\n",
              "</table>\n",
              "<p>335 rows × 2 columns</p>\n",
              "</div>"
            ],
            "text/plain": [
              "     demand  rain\n",
              "0     19.33   2.7\n",
              "1     13.83   2.7\n",
              "2     12.24   2.7\n",
              "3     11.71   2.7\n",
              "4     11.98   2.7\n",
              "..      ...   ...\n",
              "330   12.04   0.0\n",
              "331   14.17   0.0\n",
              "332   16.08   0.0\n",
              "333   20.84   0.0\n",
              "334   34.22   0.0\n",
              "\n",
              "[335 rows x 2 columns]"
            ]
          },
          "metadata": {
            "tags": []
          },
          "execution_count": 22
        }
      ]
    },
    {
      "cell_type": "code",
      "metadata": {
        "id": "YypmyCvEOQOS"
      },
      "source": [
        "scaler=MinMaxScaler(feature_range=(0,1))\n",
        "df1=scaler.fit_transform(np.array(df1).reshape(-1,2))"
      ],
      "execution_count": 23,
      "outputs": []
    },
    {
      "cell_type": "code",
      "metadata": {
        "colab": {
          "base_uri": "https://localhost:8080/"
        },
        "id": "t-_buwhFGv4G",
        "outputId": "9599d75f-88e5-448d-851c-9f1c206f7ed2"
      },
      "source": [
        "df1.shape"
      ],
      "execution_count": 24,
      "outputs": [
        {
          "output_type": "execute_result",
          "data": {
            "text/plain": [
              "(335, 2)"
            ]
          },
          "metadata": {
            "tags": []
          },
          "execution_count": 24
        }
      ]
    },
    {
      "cell_type": "code",
      "metadata": {
        "id": "TDL1SdkUahnZ"
      },
      "source": [
        "##splitting dataset into train and test split\n",
        "training_size=int(len(df1)*0.65)\n",
        "test_size=len(df1)-training_size\n",
        "train_data,test_data=df1[0:training_size,:],df1[training_size:len(df1),:]"
      ],
      "execution_count": 25,
      "outputs": []
    },
    {
      "cell_type": "code",
      "metadata": {
        "colab": {
          "base_uri": "https://localhost:8080/"
        },
        "id": "2Gv1gHEuHUD3",
        "outputId": "11c35815-46d9-480e-e3b1-d6584576f8bb"
      },
      "source": [
        "train_data.shape, test_data.shape"
      ],
      "execution_count": 26,
      "outputs": [
        {
          "output_type": "execute_result",
          "data": {
            "text/plain": [
              "((217, 2), (118, 2))"
            ]
          },
          "metadata": {
            "tags": []
          },
          "execution_count": 26
        }
      ]
    },
    {
      "cell_type": "code",
      "metadata": {
        "colab": {
          "base_uri": "https://localhost:8080/"
        },
        "id": "v4aaJk3QAE0j",
        "outputId": "347f1c6c-4a4b-4ad5-f785-952a4c1b4e3c"
      },
      "source": [
        "targets = list(train_data[4:]) + list(test_data[4:])\n",
        "len(targets)\n"
      ],
      "execution_count": 27,
      "outputs": [
        {
          "output_type": "execute_result",
          "data": {
            "text/plain": [
              "327"
            ]
          },
          "metadata": {
            "tags": []
          },
          "execution_count": 27
        }
      ]
    },
    {
      "cell_type": "code",
      "metadata": {
        "colab": {
          "base_uri": "https://localhost:8080/"
        },
        "id": "KotThrtrAiww",
        "outputId": "a86e79bf-8e40-49bb-c37f-4e7878d388bf"
      },
      "source": [
        "targets"
      ],
      "execution_count": 28,
      "outputs": [
        {
          "output_type": "execute_result",
          "data": {
            "text/plain": [
              "[array([0.23041349, 0.21259843]),\n",
              " array([0.25435256, 0.21259843]),\n",
              " array([0.31392818, 0.21259843]),\n",
              " array([0.50816104, 0.21259843]),\n",
              " array([0.17002176, 0.21259843]),\n",
              " array([0.20538629, 0.21259843]),\n",
              " array([0.33487486, 0.21259843]),\n",
              " array([0.32535365, 0.21259843]),\n",
              " array([0.23612622, 0.21259843]),\n",
              " array([0.14200218, 0.21259843]),\n",
              " array([0.20837867, 0.21259843]),\n",
              " array([0.27937976, 0.21259843]),\n",
              " array([0.20837867, 0.21259843]),\n",
              " array([0.08623504, 0.21259843]),\n",
              " array([0.09521219, 0.21259843]),\n",
              " array([0.08895539, 0.21259843]),\n",
              " array([0.20402612, 0.21259843]),\n",
              " array([0.30005441, 0.21259843]),\n",
              " array([0.640642  , 0.21259843]),\n",
              " array([0.53645267, 0.21259843]),\n",
              " array([0.33705114, 0.        ]),\n",
              " array([0.26523395, 0.        ]),\n",
              " array([0.2445593, 0.       ]),\n",
              " array([0.2437432, 0.       ]),\n",
              " array([0.24537541, 0.        ]),\n",
              " array([0.24755169, 0.        ]),\n",
              " array([0.29542982, 0.        ]),\n",
              " array([0.68144723, 0.        ]),\n",
              " array([0.18226333, 0.        ]),\n",
              " array([0.1468988, 0.       ]),\n",
              " array([0.16349293, 0.        ]),\n",
              " array([0.23313384, 0.        ]),\n",
              " array([0.20375408, 0.        ]),\n",
              " array([0.25244831, 0.        ]),\n",
              " array([0.34874864, 0.        ]),\n",
              " array([0.30930359, 0.        ]),\n",
              " array([0.10990207, 0.        ]),\n",
              " array([0.02774755, 0.        ]),\n",
              " array([0., 0.]),\n",
              " array([0.13601741, 0.        ]),\n",
              " array([0.24619151, 0.        ]),\n",
              " array([0.28400435, 0.        ]),\n",
              " array([0.54189336, 0.        ]),\n",
              " array([0.58079434, 0.        ]),\n",
              " array([0.3898259, 0.       ]),\n",
              " array([0.30576714, 0.        ]),\n",
              " array([0.28155604, 0.        ]),\n",
              " array([0.27529924, 0.        ]),\n",
              " array([0.25272035, 0.        ]),\n",
              " array([0.25027203, 0.        ]),\n",
              " array([0.29406964, 0.        ]),\n",
              " array([0.57943417, 0.        ]),\n",
              " array([0.554679, 0.      ]),\n",
              " array([0.37976061, 0.        ]),\n",
              " array([0.48367791, 0.        ]),\n",
              " array([0.4398803, 0.       ]),\n",
              " array([0.46735582, 0.        ]),\n",
              " array([0.41458107, 0.        ]),\n",
              " array([0.52720348, 0.        ]),\n",
              " array([0.50353645, 0.        ]),\n",
              " array([0.36371055, 0.        ]),\n",
              " array([0.28400435, 0.        ]),\n",
              " array([0.33215452, 0.        ]),\n",
              " array([0.4211099, 0.       ]),\n",
              " array([0.44314472, 0.        ]),\n",
              " array([0.54107726, 0.        ]),\n",
              " array([0.36942329, 0.        ]),\n",
              " array([0.43960827, 0.        ]),\n",
              " array([0.42328618, 0.        ]),\n",
              " array([0.32943417, 0.        ]),\n",
              " array([0.27774755, 0.        ]),\n",
              " array([0.28998912, 0.        ]),\n",
              " array([0.27801959, 0.        ]),\n",
              " array([0.27801959, 0.        ]),\n",
              " array([0.35799782, 0.        ]),\n",
              " array([0.62350381, 0.        ]),\n",
              " array([0.8054951, 0.       ]),\n",
              " array([0.41757345, 0.        ]),\n",
              " array([0.4398803, 0.       ]),\n",
              " array([0.4570185, 0.       ]),\n",
              " array([0.47905332, 0.        ]),\n",
              " array([0.51985854, 0.        ]),\n",
              " array([0.59820457, 0.        ]),\n",
              " array([0.50788901, 0.        ]),\n",
              " array([0.29189336, 0.        ]),\n",
              " array([0.23150163, 0.        ]),\n",
              " array([0.3468444, 0.       ]),\n",
              " array([0.42464635, 0.        ]),\n",
              " array([0.50054407, 0.        ]),\n",
              " array([0.59738847, 0.        ]),\n",
              " array([0.66730141, 0.        ]),\n",
              " array([0.55875952, 0.        ]),\n",
              " array([0.49075082, 0.        ]),\n",
              " array([0.32589771, 0.        ]),\n",
              " array([0.28998912, 0.        ]),\n",
              " array([0.28726877, 0.        ]),\n",
              " array([0.26305767, 0.        ]),\n",
              " array([0.27557127, 0.        ]),\n",
              " array([0.35201306, 0.        ]),\n",
              " array([0.57780196, 0.        ]),\n",
              " array([0.5609358, 0.       ]),\n",
              " array([0.34412405, 0.        ]),\n",
              " array([0.28645267, 0.        ]),\n",
              " array([0.45457018, 0.        ]),\n",
              " array([0.38220892, 0.        ]),\n",
              " array([0.46001088, 0.        ]),\n",
              " array([0.51577802, 0.        ]),\n",
              " array([0.58188248, 0.        ]),\n",
              " array([0.4202938, 0.       ]),\n",
              " array([0.34793254, 0.        ]),\n",
              " array([0.3422198, 0.       ]),\n",
              " array([0.34738847, 0.        ]),\n",
              " array([0.32317737, 0.        ]),\n",
              " array([0.32589771, 0.        ]),\n",
              " array([0.49401523, 0.        ]),\n",
              " array([0.58297062, 0.        ]),\n",
              " array([0.45565832, 1.        ]),\n",
              " array([0.33868335, 1.        ]),\n",
              " array([0.3109358, 1.       ]),\n",
              " array([0.29107726, 1.        ]),\n",
              " array([0.28835691, 1.        ]),\n",
              " array([0.2984222, 1.       ]),\n",
              " array([0.39281828, 1.        ]),\n",
              " array([0.59548422, 1.        ]),\n",
              " array([0.77937976, 1.        ]),\n",
              " array([0.82453754, 1.        ]),\n",
              " array([0.92709467, 1.        ]),\n",
              " array([0.86615887, 1.        ]),\n",
              " array([0.9148531, 1.       ]),\n",
              " array([0.91240479, 1.        ]),\n",
              " array([0.91458107, 1.        ]),\n",
              " array([0.95457018, 1.        ]),\n",
              " array([0.79869423, 1.        ]),\n",
              " array([0.70184984, 1.        ]),\n",
              " array([0.69912949, 1.        ]),\n",
              " array([0.87377584, 1.        ]),\n",
              " array([0.96001088, 1.        ]),\n",
              " array([0.9812296, 1.       ]),\n",
              " array([0.859358, 1.      ]),\n",
              " array([0.61942329, 1.        ]),\n",
              " array([0.46789989, 0.        ]),\n",
              " array([0.40424374, 0.        ]),\n",
              " array([0.37078346, 0.        ]),\n",
              " array([0.36833515, 0.        ]),\n",
              " array([0.33623504, 0.        ]),\n",
              " array([0.32018498, 0.        ]),\n",
              " array([0.39581066, 0.        ]),\n",
              " array([0.65832427, 0.        ]),\n",
              " array([0.94994559, 0.        ]),\n",
              " array([0.57372144, 0.        ]),\n",
              " array([0.44994559, 0.        ]),\n",
              " array([0.45239391, 0.        ]),\n",
              " array([0.46490751, 0.        ]),\n",
              " array([0.05223069, 0.        ]),\n",
              " array([0.44396083, 0.        ]),\n",
              " array([0.40696409, 0.        ]),\n",
              " array([0.19831338, 0.        ]),\n",
              " array([0.10745375, 0.        ]),\n",
              " array([0.14961915, 0.        ]),\n",
              " array([0.22388466, 0.        ]),\n",
              " array([0.38384113, 0.        ]),\n",
              " array([0.42002176, 0.        ]),\n",
              " array([0.52312296, 0.        ]),\n",
              " array([0.24755169, 0.        ]),\n",
              " array([0.39417845, 0.        ]),\n",
              " array([0.33813928, 0.        ]),\n",
              " array([0.29488575, 0.        ]),\n",
              " array([0.27149075, 0.        ]),\n",
              " array([0.28073993, 0.        ]),\n",
              " array([0.30984766, 0.        ]),\n",
              " array([0.33079434, 0.        ]),\n",
              " array([0.59031556, 0.        ]),\n",
              " array([1., 0.]),\n",
              " array([0.69695321, 0.        ]),\n",
              " array([0.55005441, 0.        ]),\n",
              " array([0.57861806, 0.        ]),\n",
              " array([0.48612622, 0.        ]),\n",
              " array([0.38574538, 0.        ]),\n",
              " array([0.55794342, 0.        ]),\n",
              " array([0.55114255, 0.        ]),\n",
              " array([0.45130577, 0.        ]),\n",
              " array([0.359358, 0.      ]),\n",
              " array([0.38900979, 0.        ]),\n",
              " array([0.4390642, 0.       ]),\n",
              " array([0.53318825, 0.        ]),\n",
              " array([0.62568009, 0.        ]),\n",
              " array([0.71109902, 0.        ]),\n",
              " array([0.68090316, 0.        ]),\n",
              " array([0.42519042, 0.69291339]),\n",
              " array([0.3781284 , 0.69291339]),\n",
              " array([0.30331882, 0.69291339]),\n",
              " array([0.30250272, 0.69291339]),\n",
              " array([0.30250272, 0.69291339]),\n",
              " array([0.29624592, 0.69291339]),\n",
              " array([0.38928183, 0.69291339]),\n",
              " array([0.36806311, 0.69291339]),\n",
              " array([0.35636561, 0.69291339]),\n",
              " array([0.35718172, 0.69291339]),\n",
              " array([0.34113166, 0.69291339]),\n",
              " array([0.38112078, 0.69291339]),\n",
              " array([0.38139282, 0.69291339]),\n",
              " array([0.33188248, 0.69291339]),\n",
              " array([0.4578346 , 0.69291339]),\n",
              " array([0.47279652, 0.69291339]),\n",
              " array([0.31828074, 0.69291339]),\n",
              " array([0.15424374, 0.69291339]),\n",
              " array([0.12595212, 0.69291339]),\n",
              " array([0.23884657, 0.69291339]),\n",
              " array([0.37051143, 0.69291339]),\n",
              " array([0.44586507, 0.69291339]),\n",
              " array([0.48041349, 0.69291339]),\n",
              " array([0.59630033, 0.69291339]),\n",
              " array([0.45892274, 0.        ]),\n",
              " array([0.33541893, 0.        ]),\n",
              " array([0.44423286, 0.        ]),\n",
              " array([0.70946681, 0.        ]),\n",
              " array([0.44314472, 0.        ]),\n",
              " array([0.38248096, 0.        ]),\n",
              " array([0.43852013, 0.        ]),\n",
              " array([0.29787813, 0.        ]),\n",
              " array([0.33541893, 0.        ]),\n",
              " array([0.27067465, 0.        ]),\n",
              " array([0.34357998, 0.        ]),\n",
              " array([0.38248096, 0.        ]),\n",
              " array([0.26496192, 0.        ]),\n",
              " array([0.23258977, 0.        ]),\n",
              " array([0.07752992, 0.        ]),\n",
              " array([0.34738847, 0.        ]),\n",
              " array([0.45212187, 0.        ]),\n",
              " array([0.45321001, 0.        ]),\n",
              " array([0.34902067, 0.        ]),\n",
              " array([0.45511425, 0.        ]),\n",
              " array([0.39417845, 0.        ]),\n",
              " array([0.26550598, 0.        ]),\n",
              " array([0.20538629, 0.        ]),\n",
              " array([0.18634385, 0.        ]),\n",
              " array([0.19205658, 0.        ]),\n",
              " array([0.20103373, 0.        ]),\n",
              " array([0.31528836, 0.        ]),\n",
              " array([0.60174102, 0.        ]),\n",
              " array([0.89499456, 0.        ]),\n",
              " array([0.73286181, 0.        ]),\n",
              " array([0.60065288, 0.        ]),\n",
              " array([0.27611534, 0.        ]),\n",
              " array([0.30114255, 0.        ]),\n",
              " array([0.33705114, 0.        ]),\n",
              " array([0.46191513, 0.        ]),\n",
              " array([0.44341676, 0.        ]),\n",
              " array([0.13601741, 0.        ]),\n",
              " array([0.17981502, 0.        ]),\n",
              " array([0.23884657, 0.        ]),\n",
              " array([0.304679, 0.      ]),\n",
              " array([0.40070729, 0.        ]),\n",
              " array([0.49809576, 0.        ]),\n",
              " array([0.2921654, 0.       ]),\n",
              " array([0.28808487, 0.        ]),\n",
              " array([0.43063112, 0.        ]),\n",
              " array([0.29488575, 0.        ]),\n",
              " array([0.27312296, 0.        ]),\n",
              " array([0.2750272, 0.       ]),\n",
              " array([0.2687704, 0.       ]),\n",
              " array([0.24809576, 0.        ]),\n",
              " array([0.38030468, 0.        ]),\n",
              " array([0.47769314, 0.        ]),\n",
              " array([0.30223069, 0.        ]),\n",
              " array([0.59657236, 0.        ]),\n",
              " array([0.40886834, 0.        ]),\n",
              " array([0.46164309, 0.        ]),\n",
              " array([0.60990207, 0.        ]),\n",
              " array([0.52992383, 0.        ]),\n",
              " array([0.54434168, 0.        ]),\n",
              " array([0.53645267, 0.        ]),\n",
              " array([0.19722524, 0.        ]),\n",
              " array([0.1273123, 0.       ]),\n",
              " array([0.08378672, 0.        ]),\n",
              " array([0.20565832, 0.        ]),\n",
              " array([0.33188248, 0.        ]),\n",
              " array([0.35010881, 0.        ]),\n",
              " array([0.60554951, 0.        ]),\n",
              " array([0.55603917, 0.        ]),\n",
              " array([0.47252448, 0.        ]),\n",
              " array([0.3234494, 0.       ]),\n",
              " array([0.21245919, 0.        ]),\n",
              " array([0.19314472, 0.        ]),\n",
              " array([0.18960827, 0.        ]),\n",
              " array([0.17546246, 0.        ]),\n",
              " array([0.21898803, 0.        ]),\n",
              " array([0.31202394, 0.        ]),\n",
              " array([0.45184984, 0.        ]),\n",
              " array([0.58433079, 0.        ]),\n",
              " array([0.41050054, 0.        ]),\n",
              " array([0.55195865, 0.        ]),\n",
              " array([0.49129489, 0.        ]),\n",
              " array([0.5116975, 0.       ]),\n",
              " array([0.28482046, 0.        ]),\n",
              " array([0.26686616, 0.        ]),\n",
              " array([0.17791077, 0.        ]),\n",
              " array([0.14091404, 0.        ]),\n",
              " array([0.20293798, 0.        ]),\n",
              " array([0.22361262, 0.        ]),\n",
              " array([0.23150163, 0.        ]),\n",
              " array([0.38928183, 0.        ]),\n",
              " array([0.47388466, 0.        ]),\n",
              " array([0.54978237, 0.        ]),\n",
              " array([0.42002176, 0.        ]),\n",
              " array([0.22361262, 0.        ]),\n",
              " array([0.17410229, 0.        ]),\n",
              " array([0.16077258, 0.        ]),\n",
              " array([0.18389554, 0.        ]),\n",
              " array([0.1882481, 0.       ]),\n",
              " array([0.28890098, 0.        ]),\n",
              " array([0.47170838, 0.        ]),\n",
              " array([0.26441785, 0.        ]),\n",
              " array([0.4382481, 0.       ]),\n",
              " array([0.29896627, 0.        ]),\n",
              " array([0.30277476, 0.        ]),\n",
              " array([0.31447225, 0.        ]),\n",
              " array([0.22932535, 0.        ]),\n",
              " array([0.33460283, 0.        ]),\n",
              " array([0.39581066, 0.        ]),\n",
              " array([0.23667029, 0.        ]),\n",
              " array([0.18743199, 0.        ]),\n",
              " array([0.2320457, 0.       ]),\n",
              " array([0.28998912, 0.        ]),\n",
              " array([0.34194777, 0.        ]),\n",
              " array([0.47143634, 0.        ]),\n",
              " array([0.83541893, 0.        ])]"
            ]
          },
          "metadata": {
            "tags": []
          },
          "execution_count": 28
        }
      ]
    },
    {
      "cell_type": "code",
      "metadata": {
        "id": "0c4LM3V1alKT"
      },
      "source": [
        "import numpy\n",
        "# convert an array of values into a dataset matrix\n",
        "def create_dataset(dataset, time_step=1):\n",
        "\tdataX, dataY = [], []\n",
        "\tfor i in range(len(dataset)-time_step-1):\n",
        "\t\ta = dataset[i:(i+time_step), 0]   ###i=0, 0,1,2,3-----99   100 \n",
        "\t\tdataX.append(a)\n",
        "\t\tdataY.append(dataset[i + time_step, 0])\n",
        "\treturn numpy.array(dataX), numpy.array(dataY)"
      ],
      "execution_count": 29,
      "outputs": []
    },
    {
      "cell_type": "code",
      "metadata": {
        "id": "AFKUL0pVOn5M"
      },
      "source": [
        "# reshape into X=t,t+1,t+2,t+3 and Y=t+4\n",
        "time_step = 3\n",
        "X_train, y_train = create_dataset(train_data[:,0].reshape(-1,1), time_step)\n",
        "X_test, ytest = create_dataset(test_data[:,0].reshape(-1,1), time_step)"
      ],
      "execution_count": 30,
      "outputs": []
    },
    {
      "cell_type": "code",
      "metadata": {
        "colab": {
          "base_uri": "https://localhost:8080/"
        },
        "id": "weWLujmyK0SB",
        "outputId": "580be86e-51d0-492f-b597-575d453d7513"
      },
      "source": [
        "X_train.shape"
      ],
      "execution_count": 31,
      "outputs": [
        {
          "output_type": "execute_result",
          "data": {
            "text/plain": [
              "(213, 3)"
            ]
          },
          "metadata": {
            "tags": []
          },
          "execution_count": 31
        }
      ]
    },
    {
      "cell_type": "code",
      "metadata": {
        "colab": {
          "base_uri": "https://localhost:8080/"
        },
        "id": "P5rh_H-_-6zV",
        "outputId": "03b514b5-c702-4b2d-e26f-8f08dd66d451"
      },
      "source": [
        "X_test.shape"
      ],
      "execution_count": 32,
      "outputs": [
        {
          "output_type": "execute_result",
          "data": {
            "text/plain": [
              "(114, 3)"
            ]
          },
          "metadata": {
            "tags": []
          },
          "execution_count": 32
        }
      ]
    },
    {
      "cell_type": "code",
      "metadata": {
        "colab": {
          "base_uri": "https://localhost:8080/"
        },
        "id": "AKEJQQie_dLX",
        "outputId": "5e55da5d-0953-4196-e093-4eb3c050a687"
      },
      "source": [
        "y_train.shape"
      ],
      "execution_count": 33,
      "outputs": [
        {
          "output_type": "execute_result",
          "data": {
            "text/plain": [
              "(213,)"
            ]
          },
          "metadata": {
            "tags": []
          },
          "execution_count": 33
        }
      ]
    },
    {
      "cell_type": "code",
      "metadata": {
        "colab": {
          "base_uri": "https://localhost:8080/"
        },
        "id": "765sd3i5_gY7",
        "outputId": "f9b893cc-bae8-46df-d96d-2d58949ae7b3"
      },
      "source": [
        "ytest.shape"
      ],
      "execution_count": 34,
      "outputs": [
        {
          "output_type": "execute_result",
          "data": {
            "text/plain": [
              "(114,)"
            ]
          },
          "metadata": {
            "tags": []
          },
          "execution_count": 34
        }
      ]
    },
    {
      "cell_type": "code",
      "metadata": {
        "id": "0v-vXXK1J3xS"
      },
      "source": [
        "X_train = np.append(X_train, train_data[time_step+1:,1].reshape(-1,1), axis = 1)\n",
        "X_test = np.append(X_test, test_data[time_step+1:,1].reshape(-1,1), axis = 1)\n"
      ],
      "execution_count": 35,
      "outputs": []
    },
    {
      "cell_type": "code",
      "metadata": {
        "colab": {
          "base_uri": "https://localhost:8080/"
        },
        "id": "m30SoSSn_ugI",
        "outputId": "7229b143-f3ad-4567-ad80-36e700657e6e"
      },
      "source": [
        "X_train.shape, X_test.shape"
      ],
      "execution_count": 36,
      "outputs": [
        {
          "output_type": "execute_result",
          "data": {
            "text/plain": [
              "((213, 4), (114, 4))"
            ]
          },
          "metadata": {
            "tags": []
          },
          "execution_count": 36
        }
      ]
    },
    {
      "cell_type": "code",
      "metadata": {
        "id": "tRxWRrP-PAo_"
      },
      "source": [
        "\n",
        "# reshape input to be [samples, time steps, features] which is required for LSTM\n",
        "X_train =X_train.reshape(X_train.shape[0],X_train.shape[1] , 1)\n",
        "X_test = X_test.reshape(X_test.shape[0],X_test.shape[1] , 1)"
      ],
      "execution_count": 37,
      "outputs": []
    },
    {
      "cell_type": "markdown",
      "metadata": {
        "id": "th2ip9vPN5bK"
      },
      "source": [
        "# LSTM Based Model Building"
      ]
    },
    {
      "cell_type": "code",
      "metadata": {
        "id": "Fp5i-4AgPF4s"
      },
      "source": [
        "\n",
        "model=Sequential()\n",
        "model.add(LSTM(550,return_sequences=True,input_shape=(X_train.shape[1],1)))\n",
        "model.add(LSTM(550,return_sequences=True))\n",
        "model.add(LSTM(550))\n",
        "model.add(Dense(1))\n",
        "model.compile(loss='mean_squared_error',optimizer='adam')"
      ],
      "execution_count": 38,
      "outputs": []
    },
    {
      "cell_type": "code",
      "metadata": {
        "colab": {
          "base_uri": "https://localhost:8080/"
        },
        "id": "Z1Zzh3RNPJl7",
        "outputId": "9f984588-945a-47a5-88c1-d36db08a338f"
      },
      "source": [
        "model.summary()\n"
      ],
      "execution_count": 39,
      "outputs": [
        {
          "output_type": "stream",
          "text": [
            "Model: \"sequential\"\n",
            "_________________________________________________________________\n",
            "Layer (type)                 Output Shape              Param #   \n",
            "=================================================================\n",
            "lstm (LSTM)                  (None, 4, 550)            1214400   \n",
            "_________________________________________________________________\n",
            "lstm_1 (LSTM)                (None, 4, 550)            2422200   \n",
            "_________________________________________________________________\n",
            "lstm_2 (LSTM)                (None, 550)               2422200   \n",
            "_________________________________________________________________\n",
            "dense (Dense)                (None, 1)                 551       \n",
            "=================================================================\n",
            "Total params: 6,059,351\n",
            "Trainable params: 6,059,351\n",
            "Non-trainable params: 0\n",
            "_________________________________________________________________\n"
          ],
          "name": "stdout"
        }
      ]
    },
    {
      "cell_type": "markdown",
      "metadata": {
        "id": "WyivRTnoN_vH"
      },
      "source": [
        "# Training The Model"
      ]
    },
    {
      "cell_type": "code",
      "metadata": {
        "colab": {
          "base_uri": "https://localhost:8080/"
        },
        "id": "36A3vHVFPN6d",
        "outputId": "30b8bd75-73f3-4c44-87aa-d041ab16e82b"
      },
      "source": [
        " history = model.fit(X_train,y_train,validation_data=(X_test,ytest),epochs=150,batch_size=64,verbose=1)\n"
      ],
      "execution_count": 40,
      "outputs": [
        {
          "output_type": "stream",
          "text": [
            "Epoch 1/150\n",
            "4/4 [==============================] - 9s 1s/step - loss: 0.1613 - val_loss: 0.1097\n",
            "Epoch 2/150\n",
            "4/4 [==============================] - 1s 379ms/step - loss: 0.0809 - val_loss: 0.0336\n",
            "Epoch 3/150\n",
            "4/4 [==============================] - 1s 376ms/step - loss: 0.0520 - val_loss: 0.0216\n",
            "Epoch 4/150\n",
            "4/4 [==============================] - 1s 371ms/step - loss: 0.0332 - val_loss: 0.0399\n",
            "Epoch 5/150\n",
            "4/4 [==============================] - 1s 378ms/step - loss: 0.0351 - val_loss: 0.0206\n",
            "Epoch 6/150\n",
            "4/4 [==============================] - 1s 364ms/step - loss: 0.0288 - val_loss: 0.0209\n",
            "Epoch 7/150\n",
            "4/4 [==============================] - 1s 373ms/step - loss: 0.0255 - val_loss: 0.0264\n",
            "Epoch 8/150\n",
            "4/4 [==============================] - 1s 370ms/step - loss: 0.0273 - val_loss: 0.0219\n",
            "Epoch 9/150\n",
            "4/4 [==============================] - 1s 375ms/step - loss: 0.0261 - val_loss: 0.0207\n",
            "Epoch 10/150\n",
            "4/4 [==============================] - 1s 374ms/step - loss: 0.0242 - val_loss: 0.0224\n",
            "Epoch 11/150\n",
            "4/4 [==============================] - 1s 386ms/step - loss: 0.0249 - val_loss: 0.0229\n",
            "Epoch 12/150\n",
            "4/4 [==============================] - 1s 379ms/step - loss: 0.0250 - val_loss: 0.0210\n",
            "Epoch 13/150\n",
            "4/4 [==============================] - 1s 374ms/step - loss: 0.0249 - val_loss: 0.0218\n",
            "Epoch 14/150\n",
            "4/4 [==============================] - 1s 375ms/step - loss: 0.0241 - val_loss: 0.0218\n",
            "Epoch 15/150\n",
            "4/4 [==============================] - 1s 366ms/step - loss: 0.0249 - val_loss: 0.0208\n",
            "Epoch 16/150\n",
            "4/4 [==============================] - 1s 365ms/step - loss: 0.0245 - val_loss: 0.0215\n",
            "Epoch 17/150\n",
            "4/4 [==============================] - 1s 360ms/step - loss: 0.0241 - val_loss: 0.0208\n",
            "Epoch 18/150\n",
            "4/4 [==============================] - 1s 378ms/step - loss: 0.0252 - val_loss: 0.0215\n",
            "Epoch 19/150\n",
            "4/4 [==============================] - 1s 368ms/step - loss: 0.0221 - val_loss: 0.0205\n",
            "Epoch 20/150\n",
            "4/4 [==============================] - 1s 371ms/step - loss: 0.0218 - val_loss: 0.0203\n",
            "Epoch 21/150\n",
            "4/4 [==============================] - 1s 372ms/step - loss: 0.0239 - val_loss: 0.0200\n",
            "Epoch 22/150\n",
            "4/4 [==============================] - 1s 380ms/step - loss: 0.0260 - val_loss: 0.0199\n",
            "Epoch 23/150\n",
            "4/4 [==============================] - 1s 373ms/step - loss: 0.0246 - val_loss: 0.0202\n",
            "Epoch 24/150\n",
            "4/4 [==============================] - 1s 373ms/step - loss: 0.0238 - val_loss: 0.0197\n",
            "Epoch 25/150\n",
            "4/4 [==============================] - 1s 369ms/step - loss: 0.0236 - val_loss: 0.0207\n",
            "Epoch 26/150\n",
            "4/4 [==============================] - 1s 367ms/step - loss: 0.0206 - val_loss: 0.0194\n",
            "Epoch 27/150\n",
            "4/4 [==============================] - 1s 370ms/step - loss: 0.0249 - val_loss: 0.0207\n",
            "Epoch 28/150\n",
            "4/4 [==============================] - 1s 360ms/step - loss: 0.0239 - val_loss: 0.0187\n",
            "Epoch 29/150\n",
            "4/4 [==============================] - 1s 368ms/step - loss: 0.0215 - val_loss: 0.0189\n",
            "Epoch 30/150\n",
            "4/4 [==============================] - 1s 375ms/step - loss: 0.0215 - val_loss: 0.0197\n",
            "Epoch 31/150\n",
            "4/4 [==============================] - 1s 368ms/step - loss: 0.0227 - val_loss: 0.0183\n",
            "Epoch 32/150\n",
            "4/4 [==============================] - 1s 370ms/step - loss: 0.0205 - val_loss: 0.0185\n",
            "Epoch 33/150\n",
            "4/4 [==============================] - 1s 367ms/step - loss: 0.0209 - val_loss: 0.0180\n",
            "Epoch 34/150\n",
            "4/4 [==============================] - 1s 381ms/step - loss: 0.0219 - val_loss: 0.0181\n",
            "Epoch 35/150\n",
            "4/4 [==============================] - 1s 364ms/step - loss: 0.0220 - val_loss: 0.0182\n",
            "Epoch 36/150\n",
            "4/4 [==============================] - 1s 370ms/step - loss: 0.0244 - val_loss: 0.0177\n",
            "Epoch 37/150\n",
            "4/4 [==============================] - 1s 362ms/step - loss: 0.0215 - val_loss: 0.0172\n",
            "Epoch 38/150\n",
            "4/4 [==============================] - 1s 371ms/step - loss: 0.0215 - val_loss: 0.0170\n",
            "Epoch 39/150\n",
            "4/4 [==============================] - 1s 364ms/step - loss: 0.0229 - val_loss: 0.0168\n",
            "Epoch 40/150\n",
            "4/4 [==============================] - 1s 375ms/step - loss: 0.0206 - val_loss: 0.0160\n",
            "Epoch 41/150\n",
            "4/4 [==============================] - 1s 387ms/step - loss: 0.0206 - val_loss: 0.0185\n",
            "Epoch 42/150\n",
            "4/4 [==============================] - 1s 384ms/step - loss: 0.0244 - val_loss: 0.0162\n",
            "Epoch 43/150\n",
            "4/4 [==============================] - 1s 371ms/step - loss: 0.0222 - val_loss: 0.0161\n",
            "Epoch 44/150\n",
            "4/4 [==============================] - 1s 381ms/step - loss: 0.0212 - val_loss: 0.0161\n",
            "Epoch 45/150\n",
            "4/4 [==============================] - 1s 376ms/step - loss: 0.0196 - val_loss: 0.0157\n",
            "Epoch 46/150\n",
            "4/4 [==============================] - 1s 366ms/step - loss: 0.0204 - val_loss: 0.0155\n",
            "Epoch 47/150\n",
            "4/4 [==============================] - 1s 366ms/step - loss: 0.0194 - val_loss: 0.0151\n",
            "Epoch 48/150\n",
            "4/4 [==============================] - 1s 371ms/step - loss: 0.0208 - val_loss: 0.0168\n",
            "Epoch 49/150\n",
            "4/4 [==============================] - 1s 371ms/step - loss: 0.0209 - val_loss: 0.0152\n",
            "Epoch 50/150\n",
            "4/4 [==============================] - 1s 374ms/step - loss: 0.0210 - val_loss: 0.0162\n",
            "Epoch 51/150\n",
            "4/4 [==============================] - 1s 377ms/step - loss: 0.0199 - val_loss: 0.0163\n",
            "Epoch 52/150\n",
            "4/4 [==============================] - 1s 374ms/step - loss: 0.0210 - val_loss: 0.0153\n",
            "Epoch 53/150\n",
            "4/4 [==============================] - 1s 374ms/step - loss: 0.0213 - val_loss: 0.0148\n",
            "Epoch 54/150\n",
            "4/4 [==============================] - 1s 374ms/step - loss: 0.0193 - val_loss: 0.0150\n",
            "Epoch 55/150\n",
            "4/4 [==============================] - 2s 381ms/step - loss: 0.0212 - val_loss: 0.0150\n",
            "Epoch 56/150\n",
            "4/4 [==============================] - 1s 380ms/step - loss: 0.0192 - val_loss: 0.0163\n",
            "Epoch 57/150\n",
            "4/4 [==============================] - 1s 374ms/step - loss: 0.0209 - val_loss: 0.0148\n",
            "Epoch 58/150\n",
            "4/4 [==============================] - 1s 375ms/step - loss: 0.0211 - val_loss: 0.0146\n",
            "Epoch 59/150\n",
            "4/4 [==============================] - 1s 364ms/step - loss: 0.0206 - val_loss: 0.0158\n",
            "Epoch 60/150\n",
            "4/4 [==============================] - 1s 372ms/step - loss: 0.0184 - val_loss: 0.0156\n",
            "Epoch 61/150\n",
            "4/4 [==============================] - 1s 377ms/step - loss: 0.0202 - val_loss: 0.0179\n",
            "Epoch 62/150\n",
            "4/4 [==============================] - 1s 375ms/step - loss: 0.0200 - val_loss: 0.0157\n",
            "Epoch 63/150\n",
            "4/4 [==============================] - 2s 385ms/step - loss: 0.0201 - val_loss: 0.0176\n",
            "Epoch 64/150\n",
            "4/4 [==============================] - 1s 374ms/step - loss: 0.0213 - val_loss: 0.0150\n",
            "Epoch 65/150\n",
            "4/4 [==============================] - 1s 384ms/step - loss: 0.0195 - val_loss: 0.0148\n",
            "Epoch 66/150\n",
            "4/4 [==============================] - 1s 376ms/step - loss: 0.0190 - val_loss: 0.0145\n",
            "Epoch 67/150\n",
            "4/4 [==============================] - 1s 378ms/step - loss: 0.0195 - val_loss: 0.0149\n",
            "Epoch 68/150\n",
            "4/4 [==============================] - 1s 367ms/step - loss: 0.0187 - val_loss: 0.0146\n",
            "Epoch 69/150\n",
            "4/4 [==============================] - 1s 379ms/step - loss: 0.0194 - val_loss: 0.0142\n",
            "Epoch 70/150\n",
            "4/4 [==============================] - 1s 371ms/step - loss: 0.0203 - val_loss: 0.0161\n",
            "Epoch 71/150\n",
            "4/4 [==============================] - 1s 382ms/step - loss: 0.0177 - val_loss: 0.0149\n",
            "Epoch 72/150\n",
            "4/4 [==============================] - 1s 377ms/step - loss: 0.0204 - val_loss: 0.0152\n",
            "Epoch 73/150\n",
            "4/4 [==============================] - 1s 378ms/step - loss: 0.0184 - val_loss: 0.0138\n",
            "Epoch 74/150\n",
            "4/4 [==============================] - 1s 374ms/step - loss: 0.0185 - val_loss: 0.0152\n",
            "Epoch 75/150\n",
            "4/4 [==============================] - 1s 372ms/step - loss: 0.0200 - val_loss: 0.0141\n",
            "Epoch 76/150\n",
            "4/4 [==============================] - 1s 370ms/step - loss: 0.0186 - val_loss: 0.0169\n",
            "Epoch 77/150\n",
            "4/4 [==============================] - 1s 378ms/step - loss: 0.0239 - val_loss: 0.0145\n",
            "Epoch 78/150\n",
            "4/4 [==============================] - 1s 368ms/step - loss: 0.0215 - val_loss: 0.0155\n",
            "Epoch 79/150\n",
            "4/4 [==============================] - 1s 367ms/step - loss: 0.0190 - val_loss: 0.0135\n",
            "Epoch 80/150\n",
            "4/4 [==============================] - 1s 373ms/step - loss: 0.0170 - val_loss: 0.0137\n",
            "Epoch 81/150\n",
            "4/4 [==============================] - 1s 372ms/step - loss: 0.0151 - val_loss: 0.0132\n",
            "Epoch 82/150\n",
            "4/4 [==============================] - 1s 374ms/step - loss: 0.0163 - val_loss: 0.0130\n",
            "Epoch 83/150\n",
            "4/4 [==============================] - 1s 374ms/step - loss: 0.0152 - val_loss: 0.0134\n",
            "Epoch 84/150\n",
            "4/4 [==============================] - 1s 379ms/step - loss: 0.0164 - val_loss: 0.0134\n",
            "Epoch 85/150\n",
            "4/4 [==============================] - 1s 373ms/step - loss: 0.0167 - val_loss: 0.0141\n",
            "Epoch 86/150\n",
            "4/4 [==============================] - 1s 370ms/step - loss: 0.0134 - val_loss: 0.0140\n",
            "Epoch 87/150\n",
            "4/4 [==============================] - 1s 365ms/step - loss: 0.0167 - val_loss: 0.0177\n",
            "Epoch 88/150\n",
            "4/4 [==============================] - 1s 368ms/step - loss: 0.0174 - val_loss: 0.0144\n",
            "Epoch 89/150\n",
            "4/4 [==============================] - 1s 367ms/step - loss: 0.0161 - val_loss: 0.0160\n",
            "Epoch 90/150\n",
            "4/4 [==============================] - 1s 359ms/step - loss: 0.0168 - val_loss: 0.0129\n",
            "Epoch 91/150\n",
            "4/4 [==============================] - 1s 371ms/step - loss: 0.0162 - val_loss: 0.0139\n",
            "Epoch 92/150\n",
            "4/4 [==============================] - 1s 383ms/step - loss: 0.0173 - val_loss: 0.0129\n",
            "Epoch 93/150\n",
            "4/4 [==============================] - 1s 370ms/step - loss: 0.0169 - val_loss: 0.0137\n",
            "Epoch 94/150\n",
            "4/4 [==============================] - 1s 371ms/step - loss: 0.0143 - val_loss: 0.0142\n",
            "Epoch 95/150\n",
            "4/4 [==============================] - 1s 365ms/step - loss: 0.0129 - val_loss: 0.0128\n",
            "Epoch 96/150\n",
            "4/4 [==============================] - 1s 364ms/step - loss: 0.0145 - val_loss: 0.0152\n",
            "Epoch 97/150\n",
            "4/4 [==============================] - 1s 365ms/step - loss: 0.0164 - val_loss: 0.0131\n",
            "Epoch 98/150\n",
            "4/4 [==============================] - 1s 366ms/step - loss: 0.0144 - val_loss: 0.0147\n",
            "Epoch 99/150\n",
            "4/4 [==============================] - 1s 372ms/step - loss: 0.0143 - val_loss: 0.0141\n",
            "Epoch 100/150\n",
            "4/4 [==============================] - 1s 371ms/step - loss: 0.0141 - val_loss: 0.0134\n",
            "Epoch 101/150\n",
            "4/4 [==============================] - 1s 366ms/step - loss: 0.0134 - val_loss: 0.0129\n",
            "Epoch 102/150\n",
            "4/4 [==============================] - 1s 367ms/step - loss: 0.0146 - val_loss: 0.0131\n",
            "Epoch 103/150\n",
            "4/4 [==============================] - 1s 369ms/step - loss: 0.0142 - val_loss: 0.0133\n",
            "Epoch 104/150\n",
            "4/4 [==============================] - 1s 370ms/step - loss: 0.0139 - val_loss: 0.0133\n",
            "Epoch 105/150\n",
            "4/4 [==============================] - 1s 369ms/step - loss: 0.0151 - val_loss: 0.0131\n",
            "Epoch 106/150\n",
            "4/4 [==============================] - 1s 365ms/step - loss: 0.0142 - val_loss: 0.0148\n",
            "Epoch 107/150\n",
            "4/4 [==============================] - 1s 369ms/step - loss: 0.0141 - val_loss: 0.0133\n",
            "Epoch 108/150\n",
            "4/4 [==============================] - 1s 369ms/step - loss: 0.0134 - val_loss: 0.0136\n",
            "Epoch 109/150\n",
            "4/4 [==============================] - 1s 366ms/step - loss: 0.0132 - val_loss: 0.0129\n",
            "Epoch 110/150\n",
            "4/4 [==============================] - 1s 363ms/step - loss: 0.0142 - val_loss: 0.0143\n",
            "Epoch 111/150\n",
            "4/4 [==============================] - 1s 362ms/step - loss: 0.0155 - val_loss: 0.0132\n",
            "Epoch 112/150\n",
            "4/4 [==============================] - 1s 363ms/step - loss: 0.0158 - val_loss: 0.0138\n",
            "Epoch 113/150\n",
            "4/4 [==============================] - 1s 375ms/step - loss: 0.0144 - val_loss: 0.0131\n",
            "Epoch 114/150\n",
            "4/4 [==============================] - 1s 380ms/step - loss: 0.0169 - val_loss: 0.0142\n",
            "Epoch 115/150\n",
            "4/4 [==============================] - 1s 376ms/step - loss: 0.0145 - val_loss: 0.0143\n",
            "Epoch 116/150\n",
            "4/4 [==============================] - 1s 370ms/step - loss: 0.0153 - val_loss: 0.0136\n",
            "Epoch 117/150\n",
            "4/4 [==============================] - 1s 371ms/step - loss: 0.0145 - val_loss: 0.0174\n",
            "Epoch 118/150\n",
            "4/4 [==============================] - 1s 367ms/step - loss: 0.0162 - val_loss: 0.0124\n",
            "Epoch 119/150\n",
            "4/4 [==============================] - 1s 359ms/step - loss: 0.0150 - val_loss: 0.0143\n",
            "Epoch 120/150\n",
            "4/4 [==============================] - 1s 368ms/step - loss: 0.0152 - val_loss: 0.0131\n",
            "Epoch 121/150\n",
            "4/4 [==============================] - 1s 370ms/step - loss: 0.0170 - val_loss: 0.0138\n",
            "Epoch 122/150\n",
            "4/4 [==============================] - 1s 373ms/step - loss: 0.0145 - val_loss: 0.0174\n",
            "Epoch 123/150\n",
            "4/4 [==============================] - 1s 369ms/step - loss: 0.0165 - val_loss: 0.0129\n",
            "Epoch 124/150\n",
            "4/4 [==============================] - 1s 388ms/step - loss: 0.0138 - val_loss: 0.0144\n",
            "Epoch 125/150\n",
            "4/4 [==============================] - 1s 370ms/step - loss: 0.0143 - val_loss: 0.0131\n",
            "Epoch 126/150\n",
            "4/4 [==============================] - 1s 371ms/step - loss: 0.0142 - val_loss: 0.0136\n",
            "Epoch 127/150\n",
            "4/4 [==============================] - 1s 369ms/step - loss: 0.0145 - val_loss: 0.0135\n",
            "Epoch 128/150\n",
            "4/4 [==============================] - 1s 375ms/step - loss: 0.0126 - val_loss: 0.0131\n",
            "Epoch 129/150\n",
            "4/4 [==============================] - 1s 361ms/step - loss: 0.0149 - val_loss: 0.0138\n",
            "Epoch 130/150\n",
            "4/4 [==============================] - 1s 357ms/step - loss: 0.0135 - val_loss: 0.0131\n",
            "Epoch 131/150\n",
            "4/4 [==============================] - 1s 367ms/step - loss: 0.0118 - val_loss: 0.0134\n",
            "Epoch 132/150\n",
            "4/4 [==============================] - 1s 360ms/step - loss: 0.0121 - val_loss: 0.0130\n",
            "Epoch 133/150\n",
            "4/4 [==============================] - 1s 369ms/step - loss: 0.0132 - val_loss: 0.0132\n",
            "Epoch 134/150\n",
            "4/4 [==============================] - 1s 385ms/step - loss: 0.0148 - val_loss: 0.0133\n",
            "Epoch 135/150\n",
            "4/4 [==============================] - 1s 368ms/step - loss: 0.0123 - val_loss: 0.0132\n",
            "Epoch 136/150\n",
            "4/4 [==============================] - 2s 388ms/step - loss: 0.0123 - val_loss: 0.0131\n",
            "Epoch 137/150\n",
            "4/4 [==============================] - 1s 373ms/step - loss: 0.0121 - val_loss: 0.0131\n",
            "Epoch 138/150\n",
            "4/4 [==============================] - 1s 381ms/step - loss: 0.0134 - val_loss: 0.0133\n",
            "Epoch 139/150\n",
            "4/4 [==============================] - 1s 370ms/step - loss: 0.0147 - val_loss: 0.0132\n",
            "Epoch 140/150\n",
            "4/4 [==============================] - 1s 372ms/step - loss: 0.0137 - val_loss: 0.0129\n",
            "Epoch 141/150\n",
            "4/4 [==============================] - 1s 375ms/step - loss: 0.0131 - val_loss: 0.0128\n",
            "Epoch 142/150\n",
            "4/4 [==============================] - 1s 371ms/step - loss: 0.0129 - val_loss: 0.0127\n",
            "Epoch 143/150\n",
            "4/4 [==============================] - 1s 372ms/step - loss: 0.0130 - val_loss: 0.0132\n",
            "Epoch 144/150\n",
            "4/4 [==============================] - 1s 367ms/step - loss: 0.0141 - val_loss: 0.0133\n",
            "Epoch 145/150\n",
            "4/4 [==============================] - 1s 374ms/step - loss: 0.0122 - val_loss: 0.0133\n",
            "Epoch 146/150\n",
            "4/4 [==============================] - 1s 374ms/step - loss: 0.0137 - val_loss: 0.0131\n",
            "Epoch 147/150\n",
            "4/4 [==============================] - 1s 371ms/step - loss: 0.0138 - val_loss: 0.0130\n",
            "Epoch 148/150\n",
            "4/4 [==============================] - 1s 374ms/step - loss: 0.0146 - val_loss: 0.0134\n",
            "Epoch 149/150\n",
            "4/4 [==============================] - 1s 371ms/step - loss: 0.0130 - val_loss: 0.0130\n",
            "Epoch 150/150\n",
            "4/4 [==============================] - 1s 378ms/step - loss: 0.0145 - val_loss: 0.0130\n"
          ],
          "name": "stdout"
        }
      ]
    },
    {
      "cell_type": "code",
      "metadata": {
        "id": "KQf-8I1EiojG"
      },
      "source": [
        "plt.style.use(\"seaborn\")"
      ],
      "execution_count": 41,
      "outputs": []
    },
    {
      "cell_type": "code",
      "metadata": {
        "colab": {
          "base_uri": "https://localhost:8080/",
          "height": 364
        },
        "id": "hhjwetreibRN",
        "outputId": "0d540027-8184-46e9-c2c0-7393c6ce48f1"
      },
      "source": [
        "plt.plot(history.history['loss'], label = \"Training Loss\")\n",
        "plt.plot(history.history['val_loss'], label = \"Validation Loss\")\n",
        "plt.legend()"
      ],
      "execution_count": 42,
      "outputs": [
        {
          "output_type": "execute_result",
          "data": {
            "text/plain": [
              "<matplotlib.legend.Legend at 0x7f8d3fdeaf50>"
            ]
          },
          "metadata": {
            "tags": []
          },
          "execution_count": 42
        },
        {
          "output_type": "display_data",
          "data": {
            "image/png": "[encoded data removed]",
            "text/plain": [
              "<Figure size 576x396 with 1 Axes>"
            ]
          },
          "metadata": {
            "tags": []
          }
        }
      ]
    },
    {
      "cell_type": "code",
      "metadata": {
        "id": "KVbWWJ1oPRz0"
      },
      "source": [
        "\n",
        "### Lets Do the prediction and check performance metrics\n",
        "train_predict=model.predict(X_train)\n",
        "test_predict=model.predict(X_test)"
      ],
      "execution_count": 43,
      "outputs": []
    },
    {
      "cell_type": "code",
      "metadata": {
        "colab": {
          "base_uri": "https://localhost:8080/"
        },
        "id": "hgYqiLYPVLM6",
        "outputId": "82134600-674b-4b30-d02f-d2fb1232821a"
      },
      "source": [
        "(train_predict[:,0]).shape"
      ],
      "execution_count": 44,
      "outputs": [
        {
          "output_type": "execute_result",
          "data": {
            "text/plain": [
              "(213,)"
            ]
          },
          "metadata": {
            "tags": []
          },
          "execution_count": 44
        }
      ]
    },
    {
      "cell_type": "code",
      "metadata": {
        "id": "bCJXTkXoPY42"
      },
      "source": [
        "##Transformback to original form\n",
        "train_predict= scaler.inverse_transform(np.repeat(train_predict, 2, axis = -1))\n",
        "test_predict= scaler.inverse_transform(np.repeat(test_predict, 2, axis = -1))\n",
        "\n",
        "train_predict = train_predict[:,0]\n",
        "test_predict = test_predict[:,0]\n"
      ],
      "execution_count": 45,
      "outputs": []
    },
    {
      "cell_type": "markdown",
      "metadata": {
        "id": "Mt-ETpNjOLyE"
      },
      "source": [
        "Results"
      ]
    },
    {
      "cell_type": "code",
      "metadata": {
        "colab": {
          "base_uri": "https://localhost:8080/"
        },
        "id": "Z2smbt8FPbDo",
        "outputId": "08aec011-239e-4d2b-b30e-bc7f6a61a700"
      },
      "source": [
        "import math\n",
        "from sklearn.metrics import mean_squared_error\n",
        "math.sqrt(mean_squared_error(y_train,train_predict))"
      ],
      "execution_count": 46,
      "outputs": [
        {
          "output_type": "execute_result",
          "data": {
            "text/plain": [
              "18.98189316000364"
            ]
          },
          "metadata": {
            "tags": []
          },
          "execution_count": 46
        }
      ]
    },
    {
      "cell_type": "code",
      "metadata": {
        "colab": {
          "base_uri": "https://localhost:8080/"
        },
        "id": "7kE5wgFoPdN5",
        "outputId": "6f9b03be-a77c-4b62-c6dc-1f9b1c66c544"
      },
      "source": [
        "\n",
        "### Test Data RMSE\n",
        "math.sqrt(mean_squared_error(ytest,test_predict))"
      ],
      "execution_count": 47,
      "outputs": [
        {
          "output_type": "execute_result",
          "data": {
            "text/plain": [
              "16.84302739043652"
            ]
          },
          "metadata": {
            "tags": []
          },
          "execution_count": 47
        }
      ]
    },
    {
      "cell_type": "code",
      "metadata": {
        "id": "_FVpp1kB6att"
      },
      "source": [
        "Predicted = list(train_predict) + list(test_predict)"
      ],
      "execution_count": 48,
      "outputs": []
    },
    {
      "cell_type": "code",
      "metadata": {
        "id": "CB3hfpN_C1AW"
      },
      "source": [
        "df_predicted = pd.DataFrame()"
      ],
      "execution_count": 49,
      "outputs": []
    },
    {
      "cell_type": "code",
      "metadata": {
        "id": "JiLDuiFO8Jb_"
      },
      "source": [
        "df_predicted['Targets'] = list(data['Targets'][3:216]) + list(data['Targets'][220:-1])"
      ],
      "execution_count": 50,
      "outputs": []
    },
    {
      "cell_type": "code",
      "metadata": {
        "id": "CL3XBr8x67Kl"
      },
      "source": [
        "df_predicted['Predicted'] = Predicted"
      ],
      "execution_count": 51,
      "outputs": []
    },
    {
      "cell_type": "code",
      "metadata": {
        "colab": {
          "base_uri": "https://localhost:8080/",
          "height": 402
        },
        "id": "4gHZIMdp7IIs",
        "outputId": "7c362791-8421-4090-cdbd-e29b12e64aea"
      },
      "source": [
        "df_predicted"
      ],
      "execution_count": 52,
      "outputs": [
        {
          "output_type": "execute_result",
          "data": {
            "text/html": [
              "<div>\n",
              "<style scoped>\n",
              "    .dataframe tbody tr th:only-of-type {\n",
              "        vertical-align: middle;\n",
              "    }\n",
              "\n",
              "    .dataframe tbody tr th {\n",
              "        vertical-align: top;\n",
              "    }\n",
              "\n",
              "    .dataframe thead th {\n",
              "        text-align: right;\n",
              "    }\n",
              "</style>\n",
              "<table border=\"1\" class=\"dataframe\">\n",
              "  <thead>\n",
              "    <tr style=\"text-align: right;\">\n",
              "      <th></th>\n",
              "      <th>Targets</th>\n",
              "      <th>Predicted</th>\n",
              "    </tr>\n",
              "  </thead>\n",
              "  <tbody>\n",
              "    <tr>\n",
              "      <th>0</th>\n",
              "      <td>11.98</td>\n",
              "      <td>13.653911</td>\n",
              "    </tr>\n",
              "    <tr>\n",
              "      <th>1</th>\n",
              "      <td>12.86</td>\n",
              "      <td>13.791368</td>\n",
              "    </tr>\n",
              "    <tr>\n",
              "      <th>2</th>\n",
              "      <td>15.05</td>\n",
              "      <td>14.256540</td>\n",
              "    </tr>\n",
              "    <tr>\n",
              "      <th>3</th>\n",
              "      <td>22.19</td>\n",
              "      <td>15.050906</td>\n",
              "    </tr>\n",
              "    <tr>\n",
              "      <th>4</th>\n",
              "      <td>9.76</td>\n",
              "      <td>16.894047</td>\n",
              "    </tr>\n",
              "    <tr>\n",
              "      <th>...</th>\n",
              "      <td>...</td>\n",
              "      <td>...</td>\n",
              "    </tr>\n",
              "    <tr>\n",
              "      <th>322</th>\n",
              "      <td>12.04</td>\n",
              "      <td>13.048200</td>\n",
              "    </tr>\n",
              "    <tr>\n",
              "      <th>323</th>\n",
              "      <td>14.17</td>\n",
              "      <td>12.603465</td>\n",
              "    </tr>\n",
              "    <tr>\n",
              "      <th>324</th>\n",
              "      <td>16.08</td>\n",
              "      <td>15.043895</td>\n",
              "    </tr>\n",
              "    <tr>\n",
              "      <th>325</th>\n",
              "      <td>20.84</td>\n",
              "      <td>16.428516</td>\n",
              "    </tr>\n",
              "    <tr>\n",
              "      <th>326</th>\n",
              "      <td>34.22</td>\n",
              "      <td>17.347532</td>\n",
              "    </tr>\n",
              "  </tbody>\n",
              "</table>\n",
              "<p>327 rows × 2 columns</p>\n",
              "</div>"
            ],
            "text/plain": [
              "     Targets  Predicted\n",
              "0      11.98  13.653911\n",
              "1      12.86  13.791368\n",
              "2      15.05  14.256540\n",
              "3      22.19  15.050906\n",
              "4       9.76  16.894047\n",
              "..       ...        ...\n",
              "322    12.04  13.048200\n",
              "323    14.17  12.603465\n",
              "324    16.08  15.043895\n",
              "325    20.84  16.428516\n",
              "326    34.22  17.347532\n",
              "\n",
              "[327 rows x 2 columns]"
            ]
          },
          "metadata": {
            "tags": []
          },
          "execution_count": 52
        }
      ]
    },
    {
      "cell_type": "code",
      "metadata": {
        "colab": {
          "base_uri": "https://localhost:8080/",
          "height": 483
        },
        "id": "4r3YC_KD7t9m",
        "outputId": "c1cf649e-5dd6-4a15-cd47-06dc313c2ef1"
      },
      "source": [
        "plt.style.use(\"seaborn\")\n",
        "plt.figure(figsize = (15,8))\n",
        "plt.plot(df_predicted.index , df_predicted.loc[:, 'Targets'], label = \"Targets\")\n",
        "plt.plot(df_predicted.index , df_predicted.loc[:, 'Predicted'], label = \"Predicted\")\n",
        "plt.legend()\n",
        "plt.show()"
      ],
      "execution_count": 53,
      "outputs": [
        {
          "output_type": "display_data",
          "data": {
            "image/png": "[encoded data removed]",
            "text/plain": [
              "<Figure size 1080x576 with 1 Axes>"
            ]
          },
          "metadata": {
            "tags": []
          }
        }
      ]
    },
    {
      "cell_type": "markdown",
      "metadata": {
        "id": "wGQwbHjdWDua"
      },
      "source": [
        "# Observations\n",
        "\n",
        "1. Model conservatively predicts lower demands.\n",
        "2. Model under predicts higher demands.\n",
        "3. There is very less diffrence between training Data Loss and testing data loss(loss: RMSE) which shows model is not overfitting the data."
      ]
    },
    {
      "cell_type": "code",
      "metadata": {
        "id": "148usqfSC95e"
      },
      "source": [
        ""
      ],
      "execution_count": 53,
      "outputs": []
    }
  ]
}