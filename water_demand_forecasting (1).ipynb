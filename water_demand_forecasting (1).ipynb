{
  "nbformat": 4,
  "nbformat_minor": 0,
  "metadata": {
    "colab": {
      "name": "water_demand_forecasting.ipynb",
      "provenance": [],
      "collapsed_sections": []
    },
    "kernelspec": {
      "display_name": "Python 3",
      "name": "python3"
    }
  },
  "cells": [
    {
      "cell_type": "markdown",
      "metadata": {
        "id": "Kn6F_58LAIPo"
      },
      "source": [
        "# **Water Demand Forecasting**\r\n",
        "\r\n",
        "## Using Deep Learing Algorithm for Time Series forecasting called LSTM(Long Short Term Memory) \r\n",
        "\r\n",
        "Importing Useful Libraries\r\n",
        "\r\n"
      ]
    },
    {
      "cell_type": "code",
      "metadata": {
        "id": "nk_Xmv-dgg1G"
      },
      "source": [
        "#Basic Operations Libraries\r\n",
        "import math\r\n",
        "from datetime import datetime\r\n",
        "import warnings\r\n",
        "warnings.filterwarnings('ignore')\r\n",
        "#Data Anaysis Libraries\r\n",
        "import pandas as pd\r\n",
        "import numpy as np\r\n",
        "#Data Visulization Libraries\r\n",
        "import matplotlib.pyplot as plt\r\n",
        "import seaborn as sns\r\n",
        "#Machine Learning Libraries\r\n",
        "from sklearn.preprocessing import MinMaxScaler\r\n",
        "from sklearn.metrics import mean_squared_error\r\n",
        "#Deep Learing Libraries\r\n",
        "from tensorflow import keras\r\n",
        "from keras.models import Sequential\r\n",
        "from keras.layers import LSTM, Dropout, Dense"
      ],
      "execution_count": 1,
      "outputs": []
    },
    {
      "cell_type": "markdown",
      "metadata": {
        "id": "i5RXxMYkAbOM"
      },
      "source": [
        "# Importing Dataset for analysis"
      ]
    },
    {
      "cell_type": "code",
      "metadata": {
        "colab": {
          "base_uri": "https://localhost:8080/"
        },
        "id": "f45RBxGtgkoP",
        "outputId": "84308b8d-29c2-4742-c1df-2f5d709ac8a7"
      },
      "source": [
        "# Mount the google drive\r\n",
        "from google.colab import drive\r\n",
        "drive.mount('/content/drive')"
      ],
      "execution_count": 2,
      "outputs": [
        {
          "output_type": "stream",
          "text": [
            "Drive already mounted at /content/drive; to attempt to forcibly remount, call drive.mount(\"/content/drive\", force_remount=True).\n"
          ],
          "name": "stdout"
        }
      ]
    },
    {
      "cell_type": "code",
      "metadata": {
        "id": "okB2viqPguZq"
      },
      "source": [
        "martes = pd.read_excel('/content/drive/MyDrive/spain data (1).xlsx', sheet_name='martes_2')"
      ],
      "execution_count": 3,
      "outputs": []
    },
    {
      "cell_type": "markdown",
      "metadata": {
        "id": "VCPogTSBAiR5"
      },
      "source": [
        "# Creating Timestamps"
      ]
    },
    {
      "cell_type": "code",
      "metadata": {
        "id": "Fnx80XtzmEin"
      },
      "source": [
        "# creating timestamps for dataframe to sort them further\r\n",
        "martes['timestamps'] = ['' for i in range(len(martes))]\r\n",
        "\r\n",
        "for i in range(len(martes)):\r\n",
        "  martes.timestamps[i] = martes.date[i] + ' ' + str(martes.h[i])\r\n",
        "  martes['timestamps'][i] = datetime.strptime(martes['timestamps'][i], \"%y/%m/%d %H:%M:%S\")"
      ],
      "execution_count": 4,
      "outputs": []
    },
    {
      "cell_type": "code",
      "metadata": {
        "id": "qzEmoKFX7R3k"
      },
      "source": [
        "martes = martes.sort_values(by = 'timestamps') # sorting values by time\r\n"
      ],
      "execution_count": 5,
      "outputs": []
    },
    {
      "cell_type": "markdown",
      "metadata": {
        "id": "-PmOE2C9AoMS"
      },
      "source": [
        "# Initial Data Inspection"
      ]
    },
    {
      "cell_type": "code",
      "metadata": {
        "colab": {
          "base_uri": "https://localhost:8080/"
        },
        "id": "Epgtge8-7QUE",
        "outputId": "2d639db7-10aa-46d2-ed7e-2b5388e92ac2"
      },
      "source": [
        "martes.info()\r\n",
        "# No null values found"
      ],
      "execution_count": 6,
      "outputs": [
        {
          "output_type": "stream",
          "text": [
            "<class 'pandas.core.frame.DataFrame'>\n",
            "Int64Index: 336 entries, 0 to 335\n",
            "Data columns (total 10 columns):\n",
            " #   Column      Non-Null Count  Dtype  \n",
            "---  ------      --------------  -----  \n",
            " 0   item        336 non-null    int64  \n",
            " 1   demand      336 non-null    float64\n",
            " 2   date        336 non-null    object \n",
            " 3   h           336 non-null    object \n",
            " 4   day         336 non-null    int64  \n",
            " 5   t           336 non-null    float64\n",
            " 6   wind        336 non-null    float64\n",
            " 7   mlsp        336 non-null    float64\n",
            " 8   rain        336 non-null    float64\n",
            " 9   timestamps  336 non-null    object \n",
            "dtypes: float64(5), int64(2), object(3)\n",
            "memory usage: 28.9+ KB\n"
          ],
          "name": "stdout"
        }
      ]
    },
    {
      "cell_type": "code",
      "metadata": {
        "colab": {
          "base_uri": "https://localhost:8080/",
          "height": 254
        },
        "id": "mQ4oQke_7QOF",
        "outputId": "543d0ccb-6d43-410c-d24e-6d9090bedda2"
      },
      "source": [
        "martes.describe().T \r\n"
      ],
      "execution_count": 7,
      "outputs": [
        {
          "output_type": "execute_result",
          "data": {
            "text/html": [
              "<div>\n",
              "<style scoped>\n",
              "    .dataframe tbody tr th:only-of-type {\n",
              "        vertical-align: middle;\n",
              "    }\n",
              "\n",
              "    .dataframe tbody tr th {\n",
              "        vertical-align: top;\n",
              "    }\n",
              "\n",
              "    .dataframe thead th {\n",
              "        text-align: right;\n",
              "    }\n",
              "</style>\n",
              "<table border=\"1\" class=\"dataframe\">\n",
              "  <thead>\n",
              "    <tr style=\"text-align: right;\">\n",
              "      <th></th>\n",
              "      <th>count</th>\n",
              "      <th>mean</th>\n",
              "      <th>std</th>\n",
              "      <th>min</th>\n",
              "      <th>25%</th>\n",
              "      <th>50%</th>\n",
              "      <th>75%</th>\n",
              "      <th>max</th>\n",
              "    </tr>\n",
              "  </thead>\n",
              "  <tbody>\n",
              "    <tr>\n",
              "      <th>item</th>\n",
              "      <td>336.0</td>\n",
              "      <td>1176.500000</td>\n",
              "      <td>678.275117</td>\n",
              "      <td>73.00</td>\n",
              "      <td>588.7500</td>\n",
              "      <td>1176.500</td>\n",
              "      <td>1764.2500</td>\n",
              "      <td>2280.00</td>\n",
              "    </tr>\n",
              "    <tr>\n",
              "      <th>demand</th>\n",
              "      <td>336.0</td>\n",
              "      <td>17.918988</td>\n",
              "      <td>6.770344</td>\n",
              "      <td>3.51</td>\n",
              "      <td>13.6025</td>\n",
              "      <td>16.335</td>\n",
              "      <td>21.0825</td>\n",
              "      <td>40.27</td>\n",
              "    </tr>\n",
              "    <tr>\n",
              "      <th>day</th>\n",
              "      <td>336.0</td>\n",
              "      <td>2.000000</td>\n",
              "      <td>0.000000</td>\n",
              "      <td>2.00</td>\n",
              "      <td>2.0000</td>\n",
              "      <td>2.000</td>\n",
              "      <td>2.0000</td>\n",
              "      <td>2.00</td>\n",
              "    </tr>\n",
              "    <tr>\n",
              "      <th>t</th>\n",
              "      <td>336.0</td>\n",
              "      <td>10.678571</td>\n",
              "      <td>3.955063</td>\n",
              "      <td>5.40</td>\n",
              "      <td>7.2000</td>\n",
              "      <td>10.150</td>\n",
              "      <td>12.5000</td>\n",
              "      <td>17.70</td>\n",
              "    </tr>\n",
              "    <tr>\n",
              "      <th>wind</th>\n",
              "      <td>336.0</td>\n",
              "      <td>9.047857</td>\n",
              "      <td>5.922365</td>\n",
              "      <td>2.22</td>\n",
              "      <td>4.4400</td>\n",
              "      <td>6.295</td>\n",
              "      <td>13.1500</td>\n",
              "      <td>22.41</td>\n",
              "    </tr>\n",
              "    <tr>\n",
              "      <th>mlsp</th>\n",
              "      <td>336.0</td>\n",
              "      <td>1021.678571</td>\n",
              "      <td>8.443315</td>\n",
              "      <td>1007.90</td>\n",
              "      <td>1014.8000</td>\n",
              "      <td>1021.650</td>\n",
              "      <td>1027.4000</td>\n",
              "      <td>1037.80</td>\n",
              "    </tr>\n",
              "    <tr>\n",
              "      <th>rain</th>\n",
              "      <td>336.0</td>\n",
              "      <td>1.728571</td>\n",
              "      <td>3.824714</td>\n",
              "      <td>0.00</td>\n",
              "      <td>0.0000</td>\n",
              "      <td>0.000</td>\n",
              "      <td>0.0000</td>\n",
              "      <td>12.70</td>\n",
              "    </tr>\n",
              "  </tbody>\n",
              "</table>\n",
              "</div>"
            ],
            "text/plain": [
              "        count         mean         std  ...       50%        75%      max\n",
              "item    336.0  1176.500000  678.275117  ...  1176.500  1764.2500  2280.00\n",
              "demand  336.0    17.918988    6.770344  ...    16.335    21.0825    40.27\n",
              "day     336.0     2.000000    0.000000  ...     2.000     2.0000     2.00\n",
              "t       336.0    10.678571    3.955063  ...    10.150    12.5000    17.70\n",
              "wind    336.0     9.047857    5.922365  ...     6.295    13.1500    22.41\n",
              "mlsp    336.0  1021.678571    8.443315  ...  1021.650  1027.4000  1037.80\n",
              "rain    336.0     1.728571    3.824714  ...     0.000     0.0000    12.70\n",
              "\n",
              "[7 rows x 8 columns]"
            ]
          },
          "metadata": {
            "tags": []
          },
          "execution_count": 7
        }
      ]
    },
    {
      "cell_type": "markdown",
      "metadata": {
        "id": "dYYwT8fZAvF8"
      },
      "source": [
        "\r\n",
        "\r\n",
        "*   range of every column is very diffrent so feature scaling would be requird for building ML model Here..... MinMaxScaler for Data Normalization is used.\r\n",
        "\r\n"
      ]
    },
    {
      "cell_type": "code",
      "metadata": {
        "id": "4MT7PhrICSqM",
        "colab": {
          "base_uri": "https://localhost:8080/",
          "height": 894
        },
        "outputId": "9e2e303d-312f-4f79-e0a7-a262c0df4642"
      },
      "source": [
        "# Plotting Histogram for Water Demand Dataset : To observe Range, Mean, and Distribution of the data\r\n",
        "plt.style.use(\"seaborn\")\r\n",
        "plt.figure(figsize = (18,15)) #change size of graph\r\n",
        "plt.hist(martes.demand, bins = 10, label = \"Martes Water Demand\", alpha = 0.5, color = \"blue\") #Histogramm of Water Demand Distibution martes\r\n",
        "plt.vlines(sum(martes.demand)/len(martes.demand) ,0,82, color = \"red\", linestyle = \"--\", label = \"Mean Water Demand\") #vertical line at NY mean\r\n",
        "plt.title(\"Martes Water Demand Distibution Histogram\", fontsize = 15) #set title\r\n",
        "plt.xlabel(\"Water Demand\") #label x-axis\r\n",
        "plt.ylabel(\"Frequency\") #label y-axis\r\n",
        "plt.xticks(range(0,45,5)) #set ticks of x-axis\r\n",
        "plt.axis((0,45,0,85)) #set range of axis\r\n",
        "plt.grid(True) #enable/disable grid\r\n",
        "plt.legend(loc = \"center right\", fontsize = 15) #include legend\r\n",
        "plt.show()"
      ],
      "execution_count": 8,
      "outputs": [
        {
          "output_type": "display_data",
          "data": {
            "image/png": "[encoded data removed]",
            "text/plain": [
              "<Figure size 1296x1080 with 1 Axes>"
            ]
          },
          "metadata": {
            "tags": []
          }
        }
      ]
    },
    {
      "cell_type": "code",
      "metadata": {
        "id": "9Kjy193n7QIM",
        "colab": {
          "base_uri": "https://localhost:8080/",
          "height": 721
        },
        "outputId": "651fa4b2-ede5-4f1d-86ae-b7c6624d57d8"
      },
      "source": [
        "f, ax = plt.subplots(figsize = (12, 12))\r\n",
        "sns.heatmap(martes.drop(['day', 'item'], axis = 1).corr(), annot = True)\r\n",
        "\r\n",
        "# Correlation matrix is used to identify variables which have strong correlation with the Target variable(Demand) the one with least correlation is dropped to increase efficiency of the model."
      ],
      "execution_count": 9,
      "outputs": [
        {
          "output_type": "execute_result",
          "data": {
            "text/plain": [
              "<matplotlib.axes._subplots.AxesSubplot at 0x7ff1a1477fd0>"
            ]
          },
          "metadata": {
            "tags": []
          },
          "execution_count": 9
        },
        {
          "output_type": "display_data",
          "data": {
            "image/png": "[encoded data removed]",
            "text/plain": [
              "<Figure size 864x864 with 2 Axes>"
            ]
          },
          "metadata": {
            "tags": []
          }
        }
      ]
    },
    {
      "cell_type": "code",
      "metadata": {
        "id": "h0kZhCKC7QD-",
        "colab": {
          "base_uri": "https://localhost:8080/",
          "height": 402
        },
        "outputId": "1f29ae2b-5980-43a5-ccb4-82a68de6484b"
      },
      "source": [
        "data = martes.drop(['date', 'h','item', 'timestamps'], axis = 1)\r\n",
        "data"
      ],
      "execution_count": 10,
      "outputs": [
        {
          "output_type": "execute_result",
          "data": {
            "text/html": [
              "<div>\n",
              "<style scoped>\n",
              "    .dataframe tbody tr th:only-of-type {\n",
              "        vertical-align: middle;\n",
              "    }\n",
              "\n",
              "    .dataframe tbody tr th {\n",
              "        vertical-align: top;\n",
              "    }\n",
              "\n",
              "    .dataframe thead th {\n",
              "        text-align: right;\n",
              "    }\n",
              "</style>\n",
              "<table border=\"1\" class=\"dataframe\">\n",
              "  <thead>\n",
              "    <tr style=\"text-align: right;\">\n",
              "      <th></th>\n",
              "      <th>demand</th>\n",
              "      <th>day</th>\n",
              "      <th>t</th>\n",
              "      <th>wind</th>\n",
              "      <th>mlsp</th>\n",
              "      <th>rain</th>\n",
              "    </tr>\n",
              "  </thead>\n",
              "  <tbody>\n",
              "    <tr>\n",
              "      <th>0</th>\n",
              "      <td>19.33</td>\n",
              "      <td>2</td>\n",
              "      <td>10.7</td>\n",
              "      <td>3.33</td>\n",
              "      <td>1037.8</td>\n",
              "      <td>2.7</td>\n",
              "    </tr>\n",
              "    <tr>\n",
              "      <th>1</th>\n",
              "      <td>13.83</td>\n",
              "      <td>2</td>\n",
              "      <td>10.7</td>\n",
              "      <td>3.33</td>\n",
              "      <td>1037.8</td>\n",
              "      <td>2.7</td>\n",
              "    </tr>\n",
              "    <tr>\n",
              "      <th>2</th>\n",
              "      <td>12.24</td>\n",
              "      <td>2</td>\n",
              "      <td>10.7</td>\n",
              "      <td>3.33</td>\n",
              "      <td>1037.8</td>\n",
              "      <td>2.7</td>\n",
              "    </tr>\n",
              "    <tr>\n",
              "      <th>3</th>\n",
              "      <td>11.71</td>\n",
              "      <td>2</td>\n",
              "      <td>10.7</td>\n",
              "      <td>3.33</td>\n",
              "      <td>1037.8</td>\n",
              "      <td>2.7</td>\n",
              "    </tr>\n",
              "    <tr>\n",
              "      <th>4</th>\n",
              "      <td>11.98</td>\n",
              "      <td>2</td>\n",
              "      <td>10.7</td>\n",
              "      <td>3.33</td>\n",
              "      <td>1037.8</td>\n",
              "      <td>2.7</td>\n",
              "    </tr>\n",
              "    <tr>\n",
              "      <th>...</th>\n",
              "      <td>...</td>\n",
              "      <td>...</td>\n",
              "      <td>...</td>\n",
              "      <td>...</td>\n",
              "      <td>...</td>\n",
              "      <td>...</td>\n",
              "    </tr>\n",
              "    <tr>\n",
              "      <th>331</th>\n",
              "      <td>14.17</td>\n",
              "      <td>2</td>\n",
              "      <td>15.9</td>\n",
              "      <td>5.00</td>\n",
              "      <td>1028.0</td>\n",
              "      <td>0.0</td>\n",
              "    </tr>\n",
              "    <tr>\n",
              "      <th>332</th>\n",
              "      <td>16.08</td>\n",
              "      <td>2</td>\n",
              "      <td>15.9</td>\n",
              "      <td>5.00</td>\n",
              "      <td>1028.0</td>\n",
              "      <td>0.0</td>\n",
              "    </tr>\n",
              "    <tr>\n",
              "      <th>333</th>\n",
              "      <td>20.84</td>\n",
              "      <td>2</td>\n",
              "      <td>15.9</td>\n",
              "      <td>5.00</td>\n",
              "      <td>1028.0</td>\n",
              "      <td>0.0</td>\n",
              "    </tr>\n",
              "    <tr>\n",
              "      <th>334</th>\n",
              "      <td>34.22</td>\n",
              "      <td>2</td>\n",
              "      <td>15.9</td>\n",
              "      <td>5.00</td>\n",
              "      <td>1028.0</td>\n",
              "      <td>0.0</td>\n",
              "    </tr>\n",
              "    <tr>\n",
              "      <th>335</th>\n",
              "      <td>26.56</td>\n",
              "      <td>2</td>\n",
              "      <td>15.9</td>\n",
              "      <td>5.00</td>\n",
              "      <td>1028.0</td>\n",
              "      <td>0.0</td>\n",
              "    </tr>\n",
              "  </tbody>\n",
              "</table>\n",
              "<p>336 rows × 6 columns</p>\n",
              "</div>"
            ],
            "text/plain": [
              "     demand  day     t  wind    mlsp  rain\n",
              "0     19.33    2  10.7  3.33  1037.8   2.7\n",
              "1     13.83    2  10.7  3.33  1037.8   2.7\n",
              "2     12.24    2  10.7  3.33  1037.8   2.7\n",
              "3     11.71    2  10.7  3.33  1037.8   2.7\n",
              "4     11.98    2  10.7  3.33  1037.8   2.7\n",
              "..      ...  ...   ...   ...     ...   ...\n",
              "331   14.17    2  15.9  5.00  1028.0   0.0\n",
              "332   16.08    2  15.9  5.00  1028.0   0.0\n",
              "333   20.84    2  15.9  5.00  1028.0   0.0\n",
              "334   34.22    2  15.9  5.00  1028.0   0.0\n",
              "335   26.56    2  15.9  5.00  1028.0   0.0\n",
              "\n",
              "[336 rows x 6 columns]"
            ]
          },
          "metadata": {
            "tags": []
          },
          "execution_count": 10
        }
      ]
    },
    {
      "cell_type": "code",
      "metadata": {
        "id": "SJLsU_ig05uV",
        "colab": {
          "base_uri": "https://localhost:8080/",
          "height": 195
        },
        "outputId": "4f679e4b-18b3-480c-ff93-887d3b2b84af"
      },
      "source": [
        "data.head(5)"
      ],
      "execution_count": 11,
      "outputs": [
        {
          "output_type": "execute_result",
          "data": {
            "text/html": [
              "<div>\n",
              "<style scoped>\n",
              "    .dataframe tbody tr th:only-of-type {\n",
              "        vertical-align: middle;\n",
              "    }\n",
              "\n",
              "    .dataframe tbody tr th {\n",
              "        vertical-align: top;\n",
              "    }\n",
              "\n",
              "    .dataframe thead th {\n",
              "        text-align: right;\n",
              "    }\n",
              "</style>\n",
              "<table border=\"1\" class=\"dataframe\">\n",
              "  <thead>\n",
              "    <tr style=\"text-align: right;\">\n",
              "      <th></th>\n",
              "      <th>demand</th>\n",
              "      <th>day</th>\n",
              "      <th>t</th>\n",
              "      <th>wind</th>\n",
              "      <th>mlsp</th>\n",
              "      <th>rain</th>\n",
              "    </tr>\n",
              "  </thead>\n",
              "  <tbody>\n",
              "    <tr>\n",
              "      <th>0</th>\n",
              "      <td>19.33</td>\n",
              "      <td>2</td>\n",
              "      <td>10.7</td>\n",
              "      <td>3.33</td>\n",
              "      <td>1037.8</td>\n",
              "      <td>2.7</td>\n",
              "    </tr>\n",
              "    <tr>\n",
              "      <th>1</th>\n",
              "      <td>13.83</td>\n",
              "      <td>2</td>\n",
              "      <td>10.7</td>\n",
              "      <td>3.33</td>\n",
              "      <td>1037.8</td>\n",
              "      <td>2.7</td>\n",
              "    </tr>\n",
              "    <tr>\n",
              "      <th>2</th>\n",
              "      <td>12.24</td>\n",
              "      <td>2</td>\n",
              "      <td>10.7</td>\n",
              "      <td>3.33</td>\n",
              "      <td>1037.8</td>\n",
              "      <td>2.7</td>\n",
              "    </tr>\n",
              "    <tr>\n",
              "      <th>3</th>\n",
              "      <td>11.71</td>\n",
              "      <td>2</td>\n",
              "      <td>10.7</td>\n",
              "      <td>3.33</td>\n",
              "      <td>1037.8</td>\n",
              "      <td>2.7</td>\n",
              "    </tr>\n",
              "    <tr>\n",
              "      <th>4</th>\n",
              "      <td>11.98</td>\n",
              "      <td>2</td>\n",
              "      <td>10.7</td>\n",
              "      <td>3.33</td>\n",
              "      <td>1037.8</td>\n",
              "      <td>2.7</td>\n",
              "    </tr>\n",
              "  </tbody>\n",
              "</table>\n",
              "</div>"
            ],
            "text/plain": [
              "   demand  day     t  wind    mlsp  rain\n",
              "0   19.33    2  10.7  3.33  1037.8   2.7\n",
              "1   13.83    2  10.7  3.33  1037.8   2.7\n",
              "2   12.24    2  10.7  3.33  1037.8   2.7\n",
              "3   11.71    2  10.7  3.33  1037.8   2.7\n",
              "4   11.98    2  10.7  3.33  1037.8   2.7"
            ]
          },
          "metadata": {
            "tags": []
          },
          "execution_count": 11
        }
      ]
    },
    {
      "cell_type": "code",
      "metadata": {
        "id": "01uOoVmePFHZ",
        "colab": {
          "base_uri": "https://localhost:8080/",
          "height": 402
        },
        "outputId": "8f9246e1-ee1b-4269-bbf1-cb76681911ce"
      },
      "source": [
        "data = data.astype(float)\r\n",
        "data"
      ],
      "execution_count": 12,
      "outputs": [
        {
          "output_type": "execute_result",
          "data": {
            "text/html": [
              "<div>\n",
              "<style scoped>\n",
              "    .dataframe tbody tr th:only-of-type {\n",
              "        vertical-align: middle;\n",
              "    }\n",
              "\n",
              "    .dataframe tbody tr th {\n",
              "        vertical-align: top;\n",
              "    }\n",
              "\n",
              "    .dataframe thead th {\n",
              "        text-align: right;\n",
              "    }\n",
              "</style>\n",
              "<table border=\"1\" class=\"dataframe\">\n",
              "  <thead>\n",
              "    <tr style=\"text-align: right;\">\n",
              "      <th></th>\n",
              "      <th>demand</th>\n",
              "      <th>day</th>\n",
              "      <th>t</th>\n",
              "      <th>wind</th>\n",
              "      <th>mlsp</th>\n",
              "      <th>rain</th>\n",
              "    </tr>\n",
              "  </thead>\n",
              "  <tbody>\n",
              "    <tr>\n",
              "      <th>0</th>\n",
              "      <td>19.33</td>\n",
              "      <td>2.0</td>\n",
              "      <td>10.7</td>\n",
              "      <td>3.33</td>\n",
              "      <td>1037.8</td>\n",
              "      <td>2.7</td>\n",
              "    </tr>\n",
              "    <tr>\n",
              "      <th>1</th>\n",
              "      <td>13.83</td>\n",
              "      <td>2.0</td>\n",
              "      <td>10.7</td>\n",
              "      <td>3.33</td>\n",
              "      <td>1037.8</td>\n",
              "      <td>2.7</td>\n",
              "    </tr>\n",
              "    <tr>\n",
              "      <th>2</th>\n",
              "      <td>12.24</td>\n",
              "      <td>2.0</td>\n",
              "      <td>10.7</td>\n",
              "      <td>3.33</td>\n",
              "      <td>1037.8</td>\n",
              "      <td>2.7</td>\n",
              "    </tr>\n",
              "    <tr>\n",
              "      <th>3</th>\n",
              "      <td>11.71</td>\n",
              "      <td>2.0</td>\n",
              "      <td>10.7</td>\n",
              "      <td>3.33</td>\n",
              "      <td>1037.8</td>\n",
              "      <td>2.7</td>\n",
              "    </tr>\n",
              "    <tr>\n",
              "      <th>4</th>\n",
              "      <td>11.98</td>\n",
              "      <td>2.0</td>\n",
              "      <td>10.7</td>\n",
              "      <td>3.33</td>\n",
              "      <td>1037.8</td>\n",
              "      <td>2.7</td>\n",
              "    </tr>\n",
              "    <tr>\n",
              "      <th>...</th>\n",
              "      <td>...</td>\n",
              "      <td>...</td>\n",
              "      <td>...</td>\n",
              "      <td>...</td>\n",
              "      <td>...</td>\n",
              "      <td>...</td>\n",
              "    </tr>\n",
              "    <tr>\n",
              "      <th>331</th>\n",
              "      <td>14.17</td>\n",
              "      <td>2.0</td>\n",
              "      <td>15.9</td>\n",
              "      <td>5.00</td>\n",
              "      <td>1028.0</td>\n",
              "      <td>0.0</td>\n",
              "    </tr>\n",
              "    <tr>\n",
              "      <th>332</th>\n",
              "      <td>16.08</td>\n",
              "      <td>2.0</td>\n",
              "      <td>15.9</td>\n",
              "      <td>5.00</td>\n",
              "      <td>1028.0</td>\n",
              "      <td>0.0</td>\n",
              "    </tr>\n",
              "    <tr>\n",
              "      <th>333</th>\n",
              "      <td>20.84</td>\n",
              "      <td>2.0</td>\n",
              "      <td>15.9</td>\n",
              "      <td>5.00</td>\n",
              "      <td>1028.0</td>\n",
              "      <td>0.0</td>\n",
              "    </tr>\n",
              "    <tr>\n",
              "      <th>334</th>\n",
              "      <td>34.22</td>\n",
              "      <td>2.0</td>\n",
              "      <td>15.9</td>\n",
              "      <td>5.00</td>\n",
              "      <td>1028.0</td>\n",
              "      <td>0.0</td>\n",
              "    </tr>\n",
              "    <tr>\n",
              "      <th>335</th>\n",
              "      <td>26.56</td>\n",
              "      <td>2.0</td>\n",
              "      <td>15.9</td>\n",
              "      <td>5.00</td>\n",
              "      <td>1028.0</td>\n",
              "      <td>0.0</td>\n",
              "    </tr>\n",
              "  </tbody>\n",
              "</table>\n",
              "<p>336 rows × 6 columns</p>\n",
              "</div>"
            ],
            "text/plain": [
              "     demand  day     t  wind    mlsp  rain\n",
              "0     19.33  2.0  10.7  3.33  1037.8   2.7\n",
              "1     13.83  2.0  10.7  3.33  1037.8   2.7\n",
              "2     12.24  2.0  10.7  3.33  1037.8   2.7\n",
              "3     11.71  2.0  10.7  3.33  1037.8   2.7\n",
              "4     11.98  2.0  10.7  3.33  1037.8   2.7\n",
              "..      ...  ...   ...   ...     ...   ...\n",
              "331   14.17  2.0  15.9  5.00  1028.0   0.0\n",
              "332   16.08  2.0  15.9  5.00  1028.0   0.0\n",
              "333   20.84  2.0  15.9  5.00  1028.0   0.0\n",
              "334   34.22  2.0  15.9  5.00  1028.0   0.0\n",
              "335   26.56  2.0  15.9  5.00  1028.0   0.0\n",
              "\n",
              "[336 rows x 6 columns]"
            ]
          },
          "metadata": {
            "tags": []
          },
          "execution_count": 12
        }
      ]
    },
    {
      "cell_type": "code",
      "metadata": {
        "id": "JqOHLKqacqiy"
      },
      "source": [
        "# Creating Target column which will have value of demand for present in the next step\r\n",
        "demands = data['demand']\r\n",
        "targets = list()\r\n",
        "\r\n",
        "for i in range(len(demands)):\r\n",
        "  if  i != 0:\r\n",
        "    targets.append(demands[i])\r\n",
        "\r\n",
        "targets.append(None)"
      ],
      "execution_count": 13,
      "outputs": []
    },
    {
      "cell_type": "code",
      "metadata": {
        "id": "p98yTISbeYK_"
      },
      "source": [
        "data['Targets'] = targets"
      ],
      "execution_count": 14,
      "outputs": []
    },
    {
      "cell_type": "code",
      "metadata": {
        "colab": {
          "base_uri": "https://localhost:8080/",
          "height": 402
        },
        "id": "lquOAbJ7ec2C",
        "outputId": "562a3dd5-326f-419d-a718-4a4869c20d27"
      },
      "source": [
        "data"
      ],
      "execution_count": 15,
      "outputs": [
        {
          "output_type": "execute_result",
          "data": {
            "text/html": [
              "<div>\n",
              "<style scoped>\n",
              "    .dataframe tbody tr th:only-of-type {\n",
              "        vertical-align: middle;\n",
              "    }\n",
              "\n",
              "    .dataframe tbody tr th {\n",
              "        vertical-align: top;\n",
              "    }\n",
              "\n",
              "    .dataframe thead th {\n",
              "        text-align: right;\n",
              "    }\n",
              "</style>\n",
              "<table border=\"1\" class=\"dataframe\">\n",
              "  <thead>\n",
              "    <tr style=\"text-align: right;\">\n",
              "      <th></th>\n",
              "      <th>demand</th>\n",
              "      <th>day</th>\n",
              "      <th>t</th>\n",
              "      <th>wind</th>\n",
              "      <th>mlsp</th>\n",
              "      <th>rain</th>\n",
              "      <th>Targets</th>\n",
              "    </tr>\n",
              "  </thead>\n",
              "  <tbody>\n",
              "    <tr>\n",
              "      <th>0</th>\n",
              "      <td>19.33</td>\n",
              "      <td>2.0</td>\n",
              "      <td>10.7</td>\n",
              "      <td>3.33</td>\n",
              "      <td>1037.8</td>\n",
              "      <td>2.7</td>\n",
              "      <td>13.83</td>\n",
              "    </tr>\n",
              "    <tr>\n",
              "      <th>1</th>\n",
              "      <td>13.83</td>\n",
              "      <td>2.0</td>\n",
              "      <td>10.7</td>\n",
              "      <td>3.33</td>\n",
              "      <td>1037.8</td>\n",
              "      <td>2.7</td>\n",
              "      <td>12.24</td>\n",
              "    </tr>\n",
              "    <tr>\n",
              "      <th>2</th>\n",
              "      <td>12.24</td>\n",
              "      <td>2.0</td>\n",
              "      <td>10.7</td>\n",
              "      <td>3.33</td>\n",
              "      <td>1037.8</td>\n",
              "      <td>2.7</td>\n",
              "      <td>11.71</td>\n",
              "    </tr>\n",
              "    <tr>\n",
              "      <th>3</th>\n",
              "      <td>11.71</td>\n",
              "      <td>2.0</td>\n",
              "      <td>10.7</td>\n",
              "      <td>3.33</td>\n",
              "      <td>1037.8</td>\n",
              "      <td>2.7</td>\n",
              "      <td>11.98</td>\n",
              "    </tr>\n",
              "    <tr>\n",
              "      <th>4</th>\n",
              "      <td>11.98</td>\n",
              "      <td>2.0</td>\n",
              "      <td>10.7</td>\n",
              "      <td>3.33</td>\n",
              "      <td>1037.8</td>\n",
              "      <td>2.7</td>\n",
              "      <td>12.86</td>\n",
              "    </tr>\n",
              "    <tr>\n",
              "      <th>...</th>\n",
              "      <td>...</td>\n",
              "      <td>...</td>\n",
              "      <td>...</td>\n",
              "      <td>...</td>\n",
              "      <td>...</td>\n",
              "      <td>...</td>\n",
              "      <td>...</td>\n",
              "    </tr>\n",
              "    <tr>\n",
              "      <th>331</th>\n",
              "      <td>14.17</td>\n",
              "      <td>2.0</td>\n",
              "      <td>15.9</td>\n",
              "      <td>5.00</td>\n",
              "      <td>1028.0</td>\n",
              "      <td>0.0</td>\n",
              "      <td>16.08</td>\n",
              "    </tr>\n",
              "    <tr>\n",
              "      <th>332</th>\n",
              "      <td>16.08</td>\n",
              "      <td>2.0</td>\n",
              "      <td>15.9</td>\n",
              "      <td>5.00</td>\n",
              "      <td>1028.0</td>\n",
              "      <td>0.0</td>\n",
              "      <td>20.84</td>\n",
              "    </tr>\n",
              "    <tr>\n",
              "      <th>333</th>\n",
              "      <td>20.84</td>\n",
              "      <td>2.0</td>\n",
              "      <td>15.9</td>\n",
              "      <td>5.00</td>\n",
              "      <td>1028.0</td>\n",
              "      <td>0.0</td>\n",
              "      <td>34.22</td>\n",
              "    </tr>\n",
              "    <tr>\n",
              "      <th>334</th>\n",
              "      <td>34.22</td>\n",
              "      <td>2.0</td>\n",
              "      <td>15.9</td>\n",
              "      <td>5.00</td>\n",
              "      <td>1028.0</td>\n",
              "      <td>0.0</td>\n",
              "      <td>26.56</td>\n",
              "    </tr>\n",
              "    <tr>\n",
              "      <th>335</th>\n",
              "      <td>26.56</td>\n",
              "      <td>2.0</td>\n",
              "      <td>15.9</td>\n",
              "      <td>5.00</td>\n",
              "      <td>1028.0</td>\n",
              "      <td>0.0</td>\n",
              "      <td>NaN</td>\n",
              "    </tr>\n",
              "  </tbody>\n",
              "</table>\n",
              "<p>336 rows × 7 columns</p>\n",
              "</div>"
            ],
            "text/plain": [
              "     demand  day     t  wind    mlsp  rain  Targets\n",
              "0     19.33  2.0  10.7  3.33  1037.8   2.7    13.83\n",
              "1     13.83  2.0  10.7  3.33  1037.8   2.7    12.24\n",
              "2     12.24  2.0  10.7  3.33  1037.8   2.7    11.71\n",
              "3     11.71  2.0  10.7  3.33  1037.8   2.7    11.98\n",
              "4     11.98  2.0  10.7  3.33  1037.8   2.7    12.86\n",
              "..      ...  ...   ...   ...     ...   ...      ...\n",
              "331   14.17  2.0  15.9  5.00  1028.0   0.0    16.08\n",
              "332   16.08  2.0  15.9  5.00  1028.0   0.0    20.84\n",
              "333   20.84  2.0  15.9  5.00  1028.0   0.0    34.22\n",
              "334   34.22  2.0  15.9  5.00  1028.0   0.0    26.56\n",
              "335   26.56  2.0  15.9  5.00  1028.0   0.0      NaN\n",
              "\n",
              "[336 rows x 7 columns]"
            ]
          },
          "metadata": {
            "tags": []
          },
          "execution_count": 15
        }
      ]
    },
    {
      "cell_type": "code",
      "metadata": {
        "id": "K2LMCcuPfDIH"
      },
      "source": [
        "# Remove the last row as it will be a null value\r\n",
        "data = data[:-1]\r\n",
        "data = data.loc[:, ['demand', 'wind', 'rain','mlsp', 'Targets']]"
      ],
      "execution_count": 16,
      "outputs": []
    },
    {
      "cell_type": "markdown",
      "metadata": {
        "id": "sli5FuoUTgwB"
      },
      "source": [
        "## **Data Preprocessing**\r\n",
        "Normalization is required as it is a Multivariate Model"
      ]
    },
    {
      "cell_type": "code",
      "metadata": {
        "id": "dKRAHMnI0WTF"
      },
      "source": [
        "scaler = MinMaxScaler()\r\n",
        "scaled_df = scaler.fit_transform(data)\r\n",
        "scaled_df = pd.DataFrame(scaled_df, columns = data.columns)"
      ],
      "execution_count": 17,
      "outputs": []
    },
    {
      "cell_type": "code",
      "metadata": {
        "id": "_FHFSdyYUMXs",
        "colab": {
          "base_uri": "https://localhost:8080/"
        },
        "outputId": "c61327b2-b981-486b-94a5-a9066781ab65"
      },
      "source": [
        "scaled_df.shape"
      ],
      "execution_count": 18,
      "outputs": [
        {
          "output_type": "execute_result",
          "data": {
            "text/plain": [
              "(335, 5)"
            ]
          },
          "metadata": {
            "tags": []
          },
          "execution_count": 18
        }
      ]
    },
    {
      "cell_type": "code",
      "metadata": {
        "id": "KfSQM-q4UQtu",
        "colab": {
          "base_uri": "https://localhost:8080/",
          "height": 402
        },
        "outputId": "e57a3d7e-c097-4539-93d9-111246b2aae1"
      },
      "source": [
        "pd.DataFrame(scaled_df)"
      ],
      "execution_count": 19,
      "outputs": [
        {
          "output_type": "execute_result",
          "data": {
            "text/html": [
              "<div>\n",
              "<style scoped>\n",
              "    .dataframe tbody tr th:only-of-type {\n",
              "        vertical-align: middle;\n",
              "    }\n",
              "\n",
              "    .dataframe tbody tr th {\n",
              "        vertical-align: top;\n",
              "    }\n",
              "\n",
              "    .dataframe thead th {\n",
              "        text-align: right;\n",
              "    }\n",
              "</style>\n",
              "<table border=\"1\" class=\"dataframe\">\n",
              "  <thead>\n",
              "    <tr style=\"text-align: right;\">\n",
              "      <th></th>\n",
              "      <th>demand</th>\n",
              "      <th>wind</th>\n",
              "      <th>rain</th>\n",
              "      <th>mlsp</th>\n",
              "      <th>Targets</th>\n",
              "    </tr>\n",
              "  </thead>\n",
              "  <tbody>\n",
              "    <tr>\n",
              "      <th>0</th>\n",
              "      <td>0.430359</td>\n",
              "      <td>0.054978</td>\n",
              "      <td>0.212598</td>\n",
              "      <td>1.000000</td>\n",
              "      <td>0.280740</td>\n",
              "    </tr>\n",
              "    <tr>\n",
              "      <th>1</th>\n",
              "      <td>0.280740</td>\n",
              "      <td>0.054978</td>\n",
              "      <td>0.212598</td>\n",
              "      <td>1.000000</td>\n",
              "      <td>0.237486</td>\n",
              "    </tr>\n",
              "    <tr>\n",
              "      <th>2</th>\n",
              "      <td>0.237486</td>\n",
              "      <td>0.054978</td>\n",
              "      <td>0.212598</td>\n",
              "      <td>1.000000</td>\n",
              "      <td>0.223069</td>\n",
              "    </tr>\n",
              "    <tr>\n",
              "      <th>3</th>\n",
              "      <td>0.223069</td>\n",
              "      <td>0.054978</td>\n",
              "      <td>0.212598</td>\n",
              "      <td>1.000000</td>\n",
              "      <td>0.230413</td>\n",
              "    </tr>\n",
              "    <tr>\n",
              "      <th>4</th>\n",
              "      <td>0.230413</td>\n",
              "      <td>0.054978</td>\n",
              "      <td>0.212598</td>\n",
              "      <td>1.000000</td>\n",
              "      <td>0.254353</td>\n",
              "    </tr>\n",
              "    <tr>\n",
              "      <th>...</th>\n",
              "      <td>...</td>\n",
              "      <td>...</td>\n",
              "      <td>...</td>\n",
              "      <td>...</td>\n",
              "      <td>...</td>\n",
              "    </tr>\n",
              "    <tr>\n",
              "      <th>330</th>\n",
              "      <td>0.232046</td>\n",
              "      <td>0.137692</td>\n",
              "      <td>0.000000</td>\n",
              "      <td>0.672241</td>\n",
              "      <td>0.289989</td>\n",
              "    </tr>\n",
              "    <tr>\n",
              "      <th>331</th>\n",
              "      <td>0.289989</td>\n",
              "      <td>0.137692</td>\n",
              "      <td>0.000000</td>\n",
              "      <td>0.672241</td>\n",
              "      <td>0.341948</td>\n",
              "    </tr>\n",
              "    <tr>\n",
              "      <th>332</th>\n",
              "      <td>0.341948</td>\n",
              "      <td>0.137692</td>\n",
              "      <td>0.000000</td>\n",
              "      <td>0.672241</td>\n",
              "      <td>0.471436</td>\n",
              "    </tr>\n",
              "    <tr>\n",
              "      <th>333</th>\n",
              "      <td>0.471436</td>\n",
              "      <td>0.137692</td>\n",
              "      <td>0.000000</td>\n",
              "      <td>0.672241</td>\n",
              "      <td>0.835419</td>\n",
              "    </tr>\n",
              "    <tr>\n",
              "      <th>334</th>\n",
              "      <td>0.835419</td>\n",
              "      <td>0.137692</td>\n",
              "      <td>0.000000</td>\n",
              "      <td>0.672241</td>\n",
              "      <td>0.627040</td>\n",
              "    </tr>\n",
              "  </tbody>\n",
              "</table>\n",
              "<p>335 rows × 5 columns</p>\n",
              "</div>"
            ],
            "text/plain": [
              "       demand      wind      rain      mlsp   Targets\n",
              "0    0.430359  0.054978  0.212598  1.000000  0.280740\n",
              "1    0.280740  0.054978  0.212598  1.000000  0.237486\n",
              "2    0.237486  0.054978  0.212598  1.000000  0.223069\n",
              "3    0.223069  0.054978  0.212598  1.000000  0.230413\n",
              "4    0.230413  0.054978  0.212598  1.000000  0.254353\n",
              "..        ...       ...       ...       ...       ...\n",
              "330  0.232046  0.137692  0.000000  0.672241  0.289989\n",
              "331  0.289989  0.137692  0.000000  0.672241  0.341948\n",
              "332  0.341948  0.137692  0.000000  0.672241  0.471436\n",
              "333  0.471436  0.137692  0.000000  0.672241  0.835419\n",
              "334  0.835419  0.137692  0.000000  0.672241  0.627040\n",
              "\n",
              "[335 rows x 5 columns]"
            ]
          },
          "metadata": {
            "tags": []
          },
          "execution_count": 19
        }
      ]
    },
    {
      "cell_type": "code",
      "metadata": {
        "id": "hYispYTFwW6H"
      },
      "source": [
        "X, y = scaled_df.iloc[:, :-1], scaled_df.iloc[:, -1]"
      ],
      "execution_count": 20,
      "outputs": []
    },
    {
      "cell_type": "code",
      "metadata": {
        "id": "dtDm7ZGfUqIB",
        "colab": {
          "base_uri": "https://localhost:8080/"
        },
        "outputId": "6fabe416-bc77-4f62-dc04-106fa6d8d757"
      },
      "source": [
        "X.shape, y.shape"
      ],
      "execution_count": 21,
      "outputs": [
        {
          "output_type": "execute_result",
          "data": {
            "text/plain": [
              "((335, 4), (335,))"
            ]
          },
          "metadata": {
            "tags": []
          },
          "execution_count": 21
        }
      ]
    },
    {
      "cell_type": "code",
      "metadata": {
        "id": "fjhMRULTyWh-"
      },
      "source": [
        "length_of_data = len(data)\r\n",
        "train_proportion = 0.66\r\n",
        "\r\n",
        "train_split = int(length_of_data*(train_proportion))"
      ],
      "execution_count": 22,
      "outputs": []
    },
    {
      "cell_type": "markdown",
      "metadata": {
        "id": "6Qmn3-hdT6jT"
      },
      "source": [
        "Train Test split of data (2/3)rd for Training (1/3) for testing"
      ]
    },
    {
      "cell_type": "code",
      "metadata": {
        "id": "0JNw_v-Nx7zC"
      },
      "source": [
        "X_train, X_test = np.array(X.iloc[:train_split,:]), np.array(X.iloc[ train_split:,:])\r\n",
        "y_train, y_test = np.array(y.iloc[:train_split]), np.array(y.iloc[train_split:])"
      ],
      "execution_count": 23,
      "outputs": []
    },
    {
      "cell_type": "code",
      "metadata": {
        "id": "rSwlZTZjx7o8",
        "colab": {
          "base_uri": "https://localhost:8080/"
        },
        "outputId": "af0aba51-76c2-4cb3-a1ff-92f75baa026a"
      },
      "source": [
        "X_train.shape, X_test.shape, y_train.shape, y_test.shape"
      ],
      "execution_count": 24,
      "outputs": [
        {
          "output_type": "execute_result",
          "data": {
            "text/plain": [
              "((221, 4), (114, 4), (221,), (114,))"
            ]
          },
          "metadata": {
            "tags": []
          },
          "execution_count": 24
        }
      ]
    },
    {
      "cell_type": "markdown",
      "metadata": {
        "id": "ziMYjOW7UjWh"
      },
      "source": [
        "Visulaizing Train Test Split"
      ]
    },
    {
      "cell_type": "code",
      "metadata": {
        "colab": {
          "base_uri": "https://localhost:8080/",
          "height": 653
        },
        "id": "y1MujpJeiNNm",
        "outputId": "8b0f32e1-c61f-404c-8a1f-519f0e2c587b"
      },
      "source": [
        "# Define a data plotting function\r\n",
        "def show_plot(data, title):\r\n",
        "  plt.figure(figsize = (13, 5))\r\n",
        "  plt.plot(data, linewidth = 3)\r\n",
        "  plt.title(title)\r\n",
        "  plt.grid()\r\n",
        "  \r\n",
        "\r\n",
        "show_plot(X_train[:, 0], 'Training Data')\r\n",
        "show_plot(X_test[:,0], 'Testing Data')\r\n"
      ],
      "execution_count": 25,
      "outputs": [
        {
          "output_type": "display_data",
          "data": {
            "image/png": "[encoded data removed]",
            "text/plain": [
              "<Figure size 936x360 with 1 Axes>"
            ]
          },
          "metadata": {
            "tags": []
          }
        },
        {
          "output_type": "display_data",
          "data": {
            "image/png": "[encoded data removed]",
            "text/plain": [
              "<Figure size 936x360 with 1 Axes>"
            ]
          },
          "metadata": {
            "tags": []
          }
        }
      ]
    },
    {
      "cell_type": "code",
      "metadata": {
        "id": "XBlaQNB0VN64"
      },
      "source": [
        "# Data is to be formated in which it can be accepted by LSTM model which is ( [samples, time steps and features]  )\r\n",
        "X_train = X_train.reshape(X_train.shape[0], 1,  X_train.shape[1] )\r\n",
        "X_test = X_test.reshape(X_test.shape[0], 1, X_test.shape[1])\r\n"
      ],
      "execution_count": 26,
      "outputs": []
    },
    {
      "cell_type": "code",
      "metadata": {
        "colab": {
          "base_uri": "https://localhost:8080/"
        },
        "id": "j5SUE5ADVHWs",
        "outputId": "a5c0e403-f770-4648-fe54-e241acfaf9d4"
      },
      "source": [
        "X_train.shape, X_test.shape"
      ],
      "execution_count": 27,
      "outputs": [
        {
          "output_type": "execute_result",
          "data": {
            "text/plain": [
              "((221, 1, 4), (114, 1, 4))"
            ]
          },
          "metadata": {
            "tags": []
          },
          "execution_count": 27
        }
      ]
    },
    {
      "cell_type": "markdown",
      "metadata": {
        "id": "BL7Jq_ZQVMuS"
      },
      "source": [
        "## **Deep Learning Model**\r\n",
        "\r\n",
        "### Algorithms used is **Stacked LSTM (Long- Short Term Memory) **"
      ]
    },
    {
      "cell_type": "code",
      "metadata": {
        "colab": {
          "base_uri": "https://localhost:8080/"
        },
        "id": "-iA7wFgiqFWc",
        "outputId": "771e2111-92fb-4af1-c5ee-1058774afcfd"
      },
      "source": [
        "inputs = keras.layers.Input(shape=(X_train.shape[1], X_train.shape[2]))\r\n",
        "x = keras.layers.LSTM(150, return_sequences= True)(inputs)\r\n",
        "x = keras.layers.Dropout(0.1)(x)\r\n",
        "x = keras.layers.LSTM(150, return_sequences= True)(x)\r\n",
        "x = keras.layers.Dropout(0.1)(x)\r\n",
        "x = keras.layers.LSTM(150)(x)\r\n",
        "outputs = keras.layers.Dense(1, activation='linear')(x)\r\n",
        "\r\n",
        "model = keras.Model(inputs=inputs, outputs=outputs)\r\n",
        "model.compile(optimizer='adam', loss=\"mse\")\r\n",
        "model.summary()"
      ],
      "execution_count": 28,
      "outputs": [
        {
          "output_type": "stream",
          "text": [
            "Model: \"model\"\n",
            "_________________________________________________________________\n",
            "Layer (type)                 Output Shape              Param #   \n",
            "=================================================================\n",
            "input_1 (InputLayer)         [(None, 1, 4)]            0         \n",
            "_________________________________________________________________\n",
            "lstm (LSTM)                  (None, 1, 150)            93000     \n",
            "_________________________________________________________________\n",
            "dropout (Dropout)            (None, 1, 150)            0         \n",
            "_________________________________________________________________\n",
            "lstm_1 (LSTM)                (None, 1, 150)            180600    \n",
            "_________________________________________________________________\n",
            "dropout_1 (Dropout)          (None, 1, 150)            0         \n",
            "_________________________________________________________________\n",
            "lstm_2 (LSTM)                (None, 150)               180600    \n",
            "_________________________________________________________________\n",
            "dense (Dense)                (None, 1)                 151       \n",
            "=================================================================\n",
            "Total params: 454,351\n",
            "Trainable params: 454,351\n",
            "Non-trainable params: 0\n",
            "_________________________________________________________________\n"
          ],
          "name": "stdout"
        }
      ]
    },
    {
      "cell_type": "code",
      "metadata": {
        "id": "nF3vqtyZZ3hZ",
        "colab": {
          "base_uri": "https://localhost:8080/"
        },
        "outputId": "c490f1a7-60cd-4978-b010-44f0d26a53c9"
      },
      "source": [
        "history = model.fit(\r\n",
        "    X_train, y_train,\r\n",
        "    epochs = 50,\r\n",
        "    batch_size = 32,\r\n",
        "    validation_data = (X_test, y_test) \r\n",
        ")\r\n"
      ],
      "execution_count": 29,
      "outputs": [
        {
          "output_type": "stream",
          "text": [
            "Epoch 1/50\n",
            "7/7 [==============================] - 6s 246ms/step - loss: 0.1929 - val_loss: 0.1162\n",
            "Epoch 2/50\n",
            "7/7 [==============================] - 0s 13ms/step - loss: 0.1369 - val_loss: 0.0648\n",
            "Epoch 3/50\n",
            "7/7 [==============================] - 0s 14ms/step - loss: 0.0690 - val_loss: 0.0219\n",
            "Epoch 4/50\n",
            "7/7 [==============================] - 0s 13ms/step - loss: 0.0332 - val_loss: 0.0295\n",
            "Epoch 5/50\n",
            "7/7 [==============================] - 0s 13ms/step - loss: 0.0311 - val_loss: 0.0221\n",
            "Epoch 6/50\n",
            "7/7 [==============================] - 0s 13ms/step - loss: 0.0320 - val_loss: 0.0235\n",
            "Epoch 7/50\n",
            "7/7 [==============================] - 0s 13ms/step - loss: 0.0289 - val_loss: 0.0200\n",
            "Epoch 8/50\n",
            "7/7 [==============================] - 0s 13ms/step - loss: 0.0227 - val_loss: 0.0194\n",
            "Epoch 9/50\n",
            "7/7 [==============================] - 0s 13ms/step - loss: 0.0200 - val_loss: 0.0192\n",
            "Epoch 10/50\n",
            "7/7 [==============================] - 0s 13ms/step - loss: 0.0223 - val_loss: 0.0192\n",
            "Epoch 11/50\n",
            "7/7 [==============================] - 0s 14ms/step - loss: 0.0208 - val_loss: 0.0180\n",
            "Epoch 12/50\n",
            "7/7 [==============================] - 0s 13ms/step - loss: 0.0192 - val_loss: 0.0174\n",
            "Epoch 13/50\n",
            "7/7 [==============================] - 0s 15ms/step - loss: 0.0173 - val_loss: 0.0178\n",
            "Epoch 14/50\n",
            "7/7 [==============================] - 0s 13ms/step - loss: 0.0169 - val_loss: 0.0162\n",
            "Epoch 15/50\n",
            "7/7 [==============================] - 0s 14ms/step - loss: 0.0173 - val_loss: 0.0159\n",
            "Epoch 16/50\n",
            "7/7 [==============================] - 0s 14ms/step - loss: 0.0191 - val_loss: 0.0155\n",
            "Epoch 17/50\n",
            "7/7 [==============================] - 0s 14ms/step - loss: 0.0149 - val_loss: 0.0151\n",
            "Epoch 18/50\n",
            "7/7 [==============================] - 0s 13ms/step - loss: 0.0139 - val_loss: 0.0150\n",
            "Epoch 19/50\n",
            "7/7 [==============================] - 0s 13ms/step - loss: 0.0151 - val_loss: 0.0150\n",
            "Epoch 20/50\n",
            "7/7 [==============================] - 0s 14ms/step - loss: 0.0118 - val_loss: 0.0151\n",
            "Epoch 21/50\n",
            "7/7 [==============================] - 0s 14ms/step - loss: 0.0190 - val_loss: 0.0150\n",
            "Epoch 22/50\n",
            "7/7 [==============================] - 0s 14ms/step - loss: 0.0155 - val_loss: 0.0149\n",
            "Epoch 23/50\n",
            "7/7 [==============================] - 0s 13ms/step - loss: 0.0153 - val_loss: 0.0149\n",
            "Epoch 24/50\n",
            "7/7 [==============================] - 0s 20ms/step - loss: 0.0161 - val_loss: 0.0151\n",
            "Epoch 25/50\n",
            "7/7 [==============================] - 0s 13ms/step - loss: 0.0173 - val_loss: 0.0152\n",
            "Epoch 26/50\n",
            "7/7 [==============================] - 0s 13ms/step - loss: 0.0147 - val_loss: 0.0151\n",
            "Epoch 27/50\n",
            "7/7 [==============================] - 0s 13ms/step - loss: 0.0172 - val_loss: 0.0150\n",
            "Epoch 28/50\n",
            "7/7 [==============================] - 0s 14ms/step - loss: 0.0157 - val_loss: 0.0151\n",
            "Epoch 29/50\n",
            "7/7 [==============================] - 0s 13ms/step - loss: 0.0162 - val_loss: 0.0149\n",
            "Epoch 30/50\n",
            "7/7 [==============================] - 0s 13ms/step - loss: 0.0151 - val_loss: 0.0149\n",
            "Epoch 31/50\n",
            "7/7 [==============================] - 0s 14ms/step - loss: 0.0139 - val_loss: 0.0150\n",
            "Epoch 32/50\n",
            "7/7 [==============================] - 0s 14ms/step - loss: 0.0130 - val_loss: 0.0150\n",
            "Epoch 33/50\n",
            "7/7 [==============================] - 0s 14ms/step - loss: 0.0159 - val_loss: 0.0149\n",
            "Epoch 34/50\n",
            "7/7 [==============================] - 0s 14ms/step - loss: 0.0124 - val_loss: 0.0149\n",
            "Epoch 35/50\n",
            "7/7 [==============================] - 0s 13ms/step - loss: 0.0145 - val_loss: 0.0149\n",
            "Epoch 36/50\n",
            "7/7 [==============================] - 0s 13ms/step - loss: 0.0137 - val_loss: 0.0149\n",
            "Epoch 37/50\n",
            "7/7 [==============================] - 0s 13ms/step - loss: 0.0128 - val_loss: 0.0150\n",
            "Epoch 38/50\n",
            "7/7 [==============================] - 0s 13ms/step - loss: 0.0149 - val_loss: 0.0150\n",
            "Epoch 39/50\n",
            "7/7 [==============================] - 0s 13ms/step - loss: 0.0158 - val_loss: 0.0149\n",
            "Epoch 40/50\n",
            "7/7 [==============================] - 0s 13ms/step - loss: 0.0169 - val_loss: 0.0149\n",
            "Epoch 41/50\n",
            "7/7 [==============================] - 0s 14ms/step - loss: 0.0146 - val_loss: 0.0149\n",
            "Epoch 42/50\n",
            "7/7 [==============================] - 0s 13ms/step - loss: 0.0164 - val_loss: 0.0149\n",
            "Epoch 43/50\n",
            "7/7 [==============================] - 0s 14ms/step - loss: 0.0171 - val_loss: 0.0149\n",
            "Epoch 44/50\n",
            "7/7 [==============================] - 0s 14ms/step - loss: 0.0144 - val_loss: 0.0149\n",
            "Epoch 45/50\n",
            "7/7 [==============================] - 0s 16ms/step - loss: 0.0120 - val_loss: 0.0150\n",
            "Epoch 46/50\n",
            "7/7 [==============================] - 0s 14ms/step - loss: 0.0156 - val_loss: 0.0149\n",
            "Epoch 47/50\n",
            "7/7 [==============================] - 0s 13ms/step - loss: 0.0155 - val_loss: 0.0149\n",
            "Epoch 48/50\n",
            "7/7 [==============================] - 0s 13ms/step - loss: 0.0157 - val_loss: 0.0150\n",
            "Epoch 49/50\n",
            "7/7 [==============================] - 0s 14ms/step - loss: 0.0140 - val_loss: 0.0150\n",
            "Epoch 50/50\n",
            "7/7 [==============================] - 0s 13ms/step - loss: 0.0172 - val_loss: 0.0149\n"
          ],
          "name": "stdout"
        }
      ]
    },
    {
      "cell_type": "code",
      "metadata": {
        "id": "0dLKCWCDahpN",
        "colab": {
          "base_uri": "https://localhost:8080/",
          "height": 364
        },
        "outputId": "1d261657-2b87-467f-8819-5369a97d3d30"
      },
      "source": [
        "# MSE (Mean Squared error for Trianing and Testing Data(Here called Validation Data))\r\n",
        "plt.plot(history.history['loss'], label = \"Training Loss\")\r\n",
        "plt.plot(history.history['val_loss'], label = \"Validation Loss\")\r\n",
        "plt.legend()"
      ],
      "execution_count": 30,
      "outputs": [
        {
          "output_type": "execute_result",
          "data": {
            "text/plain": [
              "<matplotlib.legend.Legend at 0x7ff18fa657f0>"
            ]
          },
          "metadata": {
            "tags": []
          },
          "execution_count": 30
        },
        {
          "output_type": "display_data",
          "data": {
            "image/png": "[encoded data removed]",
            "text/plain": [
              "<Figure size 576x396 with 1 Axes>"
            ]
          },
          "metadata": {
            "tags": []
          }
        }
      ]
    },
    {
      "cell_type": "code",
      "metadata": {
        "id": "C9srZBYamjuY"
      },
      "source": [
        "X_train_predict = model.predict(X_train)\r\n",
        "X_test_predict = model.predict(X_test)"
      ],
      "execution_count": 31,
      "outputs": []
    },
    {
      "cell_type": "code",
      "metadata": {
        "id": "FqeZYf05nqKm"
      },
      "source": [
        "X_train_forecast_copies = np.repeat(X_train_predict, data.shape[1], axis = -1)\r\n",
        "X_test_forecast_copies = np.repeat(X_test_predict, data.shape[1], axis = -1)\r\n",
        "\r\n",
        "# Inverse Scaling used to get back Orignal Values\r\n",
        "X_train_predict = scaler.inverse_transform(X_train_forecast_copies)\r\n",
        "X_test_predict = scaler.inverse_transform(X_test_forecast_copies)\r\n",
        "\r\n"
      ],
      "execution_count": 32,
      "outputs": []
    },
    {
      "cell_type": "code",
      "metadata": {
        "id": "pkr9YmN8oMW4"
      },
      "source": [
        "X_train_predict_1 = pd.DataFrame(X_train_predict).iloc[:,0]\r\n",
        "X_test_predict_1 = pd.DataFrame(X_test_predict).iloc[:,0]\r\n"
      ],
      "execution_count": 33,
      "outputs": []
    },
    {
      "cell_type": "code",
      "metadata": {
        "id": "akKqbuFsvpzm",
        "colab": {
          "base_uri": "https://localhost:8080/"
        },
        "outputId": "37b62503-8437-4330-df0b-d2806d9c3031"
      },
      "source": [
        "X_train_predict.shape"
      ],
      "execution_count": 34,
      "outputs": [
        {
          "output_type": "execute_result",
          "data": {
            "text/plain": [
              "(221, 5)"
            ]
          },
          "metadata": {
            "tags": []
          },
          "execution_count": 34
        }
      ]
    },
    {
      "cell_type": "code",
      "metadata": {
        "id": "wWdRnkLCu9Z9",
        "colab": {
          "base_uri": "https://localhost:8080/"
        },
        "outputId": "3b82eadb-1c01-4d90-a187-9ec4826938ec"
      },
      "source": [
        "math.sqrt(mean_squared_error(y_train, X_train_predict_1))"
      ],
      "execution_count": 35,
      "outputs": [
        {
          "output_type": "execute_result",
          "data": {
            "text/plain": [
              "18.93653898784443"
            ]
          },
          "metadata": {
            "tags": []
          },
          "execution_count": 35
        }
      ]
    },
    {
      "cell_type": "code",
      "metadata": {
        "id": "RcUh11Tdvmxo",
        "colab": {
          "base_uri": "https://localhost:8080/"
        },
        "outputId": "76d33bec-477b-4fd3-9434-c153115dc554"
      },
      "source": [
        "math.sqrt(mean_squared_error(y_test, X_test_predict_1))"
      ],
      "execution_count": 36,
      "outputs": [
        {
          "output_type": "execute_result",
          "data": {
            "text/plain": [
              "16.60955775493471"
            ]
          },
          "metadata": {
            "tags": []
          },
          "execution_count": 36
        }
      ]
    },
    {
      "cell_type": "code",
      "metadata": {
        "id": "m_2CoKuRT6LL"
      },
      "source": [
        "data['Predicted'] = X_train_predict_1.append(X_test_predict_1, ignore_index= True)\r\n"
      ],
      "execution_count": 37,
      "outputs": []
    },
    {
      "cell_type": "code",
      "metadata": {
        "id": "3vr2MMEpR9Hw",
        "colab": {
          "base_uri": "https://localhost:8080/",
          "height": 402
        },
        "outputId": "eed29013-f5a8-4ca6-dbd5-a50b2693bb37"
      },
      "source": [
        "data"
      ],
      "execution_count": 38,
      "outputs": [
        {
          "output_type": "execute_result",
          "data": {
            "text/html": [
              "<div>\n",
              "<style scoped>\n",
              "    .dataframe tbody tr th:only-of-type {\n",
              "        vertical-align: middle;\n",
              "    }\n",
              "\n",
              "    .dataframe tbody tr th {\n",
              "        vertical-align: top;\n",
              "    }\n",
              "\n",
              "    .dataframe thead th {\n",
              "        text-align: right;\n",
              "    }\n",
              "</style>\n",
              "<table border=\"1\" class=\"dataframe\">\n",
              "  <thead>\n",
              "    <tr style=\"text-align: right;\">\n",
              "      <th></th>\n",
              "      <th>demand</th>\n",
              "      <th>wind</th>\n",
              "      <th>rain</th>\n",
              "      <th>mlsp</th>\n",
              "      <th>Targets</th>\n",
              "      <th>Predicted</th>\n",
              "    </tr>\n",
              "  </thead>\n",
              "  <tbody>\n",
              "    <tr>\n",
              "      <th>0</th>\n",
              "      <td>19.33</td>\n",
              "      <td>3.33</td>\n",
              "      <td>2.7</td>\n",
              "      <td>1037.8</td>\n",
              "      <td>13.83</td>\n",
              "      <td>17.574575</td>\n",
              "    </tr>\n",
              "    <tr>\n",
              "      <th>1</th>\n",
              "      <td>13.83</td>\n",
              "      <td>3.33</td>\n",
              "      <td>2.7</td>\n",
              "      <td>1037.8</td>\n",
              "      <td>12.24</td>\n",
              "      <td>13.973330</td>\n",
              "    </tr>\n",
              "    <tr>\n",
              "      <th>2</th>\n",
              "      <td>12.24</td>\n",
              "      <td>3.33</td>\n",
              "      <td>2.7</td>\n",
              "      <td>1037.8</td>\n",
              "      <td>11.71</td>\n",
              "      <td>12.965997</td>\n",
              "    </tr>\n",
              "    <tr>\n",
              "      <th>3</th>\n",
              "      <td>11.71</td>\n",
              "      <td>3.33</td>\n",
              "      <td>2.7</td>\n",
              "      <td>1037.8</td>\n",
              "      <td>11.98</td>\n",
              "      <td>12.633583</td>\n",
              "    </tr>\n",
              "    <tr>\n",
              "      <th>4</th>\n",
              "      <td>11.98</td>\n",
              "      <td>3.33</td>\n",
              "      <td>2.7</td>\n",
              "      <td>1037.8</td>\n",
              "      <td>12.86</td>\n",
              "      <td>12.802716</td>\n",
              "    </tr>\n",
              "    <tr>\n",
              "      <th>...</th>\n",
              "      <td>...</td>\n",
              "      <td>...</td>\n",
              "      <td>...</td>\n",
              "      <td>...</td>\n",
              "      <td>...</td>\n",
              "      <td>...</td>\n",
              "    </tr>\n",
              "    <tr>\n",
              "      <th>330</th>\n",
              "      <td>12.04</td>\n",
              "      <td>5.00</td>\n",
              "      <td>0.0</td>\n",
              "      <td>1028.0</td>\n",
              "      <td>14.17</td>\n",
              "      <td>13.448442</td>\n",
              "    </tr>\n",
              "    <tr>\n",
              "      <th>331</th>\n",
              "      <td>14.17</td>\n",
              "      <td>5.00</td>\n",
              "      <td>0.0</td>\n",
              "      <td>1028.0</td>\n",
              "      <td>16.08</td>\n",
              "      <td>14.748272</td>\n",
              "    </tr>\n",
              "    <tr>\n",
              "      <th>332</th>\n",
              "      <td>16.08</td>\n",
              "      <td>5.00</td>\n",
              "      <td>0.0</td>\n",
              "      <td>1028.0</td>\n",
              "      <td>20.84</td>\n",
              "      <td>15.935281</td>\n",
              "    </tr>\n",
              "    <tr>\n",
              "      <th>333</th>\n",
              "      <td>20.84</td>\n",
              "      <td>5.00</td>\n",
              "      <td>0.0</td>\n",
              "      <td>1028.0</td>\n",
              "      <td>34.22</td>\n",
              "      <td>18.981508</td>\n",
              "    </tr>\n",
              "    <tr>\n",
              "      <th>334</th>\n",
              "      <td>34.22</td>\n",
              "      <td>5.00</td>\n",
              "      <td>0.0</td>\n",
              "      <td>1028.0</td>\n",
              "      <td>26.56</td>\n",
              "      <td>28.206671</td>\n",
              "    </tr>\n",
              "  </tbody>\n",
              "</table>\n",
              "<p>335 rows × 6 columns</p>\n",
              "</div>"
            ],
            "text/plain": [
              "     demand  wind  rain    mlsp  Targets  Predicted\n",
              "0     19.33  3.33   2.7  1037.8    13.83  17.574575\n",
              "1     13.83  3.33   2.7  1037.8    12.24  13.973330\n",
              "2     12.24  3.33   2.7  1037.8    11.71  12.965997\n",
              "3     11.71  3.33   2.7  1037.8    11.98  12.633583\n",
              "4     11.98  3.33   2.7  1037.8    12.86  12.802716\n",
              "..      ...   ...   ...     ...      ...        ...\n",
              "330   12.04  5.00   0.0  1028.0    14.17  13.448442\n",
              "331   14.17  5.00   0.0  1028.0    16.08  14.748272\n",
              "332   16.08  5.00   0.0  1028.0    20.84  15.935281\n",
              "333   20.84  5.00   0.0  1028.0    34.22  18.981508\n",
              "334   34.22  5.00   0.0  1028.0    26.56  28.206671\n",
              "\n",
              "[335 rows x 6 columns]"
            ]
          },
          "metadata": {
            "tags": []
          },
          "execution_count": 38
        }
      ]
    },
    {
      "cell_type": "code",
      "metadata": {
        "id": "GNwfJktVox6p"
      },
      "source": [
        "df_predicted = data.loc[:, ['Targets', 'Predicted']]"
      ],
      "execution_count": 39,
      "outputs": []
    },
    {
      "cell_type": "code",
      "metadata": {
        "colab": {
          "base_uri": "https://localhost:8080/",
          "height": 402
        },
        "id": "RWCk6B1KpeKE",
        "outputId": "144f71cc-e250-4cbd-92ca-180482773fb4"
      },
      "source": [
        "df_predicted"
      ],
      "execution_count": 40,
      "outputs": [
        {
          "output_type": "execute_result",
          "data": {
            "text/html": [
              "<div>\n",
              "<style scoped>\n",
              "    .dataframe tbody tr th:only-of-type {\n",
              "        vertical-align: middle;\n",
              "    }\n",
              "\n",
              "    .dataframe tbody tr th {\n",
              "        vertical-align: top;\n",
              "    }\n",
              "\n",
              "    .dataframe thead th {\n",
              "        text-align: right;\n",
              "    }\n",
              "</style>\n",
              "<table border=\"1\" class=\"dataframe\">\n",
              "  <thead>\n",
              "    <tr style=\"text-align: right;\">\n",
              "      <th></th>\n",
              "      <th>Targets</th>\n",
              "      <th>Predicted</th>\n",
              "    </tr>\n",
              "  </thead>\n",
              "  <tbody>\n",
              "    <tr>\n",
              "      <th>0</th>\n",
              "      <td>13.83</td>\n",
              "      <td>17.574575</td>\n",
              "    </tr>\n",
              "    <tr>\n",
              "      <th>1</th>\n",
              "      <td>12.24</td>\n",
              "      <td>13.973330</td>\n",
              "    </tr>\n",
              "    <tr>\n",
              "      <th>2</th>\n",
              "      <td>11.71</td>\n",
              "      <td>12.965997</td>\n",
              "    </tr>\n",
              "    <tr>\n",
              "      <th>3</th>\n",
              "      <td>11.98</td>\n",
              "      <td>12.633583</td>\n",
              "    </tr>\n",
              "    <tr>\n",
              "      <th>4</th>\n",
              "      <td>12.86</td>\n",
              "      <td>12.802716</td>\n",
              "    </tr>\n",
              "    <tr>\n",
              "      <th>...</th>\n",
              "      <td>...</td>\n",
              "      <td>...</td>\n",
              "    </tr>\n",
              "    <tr>\n",
              "      <th>330</th>\n",
              "      <td>14.17</td>\n",
              "      <td>13.448442</td>\n",
              "    </tr>\n",
              "    <tr>\n",
              "      <th>331</th>\n",
              "      <td>16.08</td>\n",
              "      <td>14.748272</td>\n",
              "    </tr>\n",
              "    <tr>\n",
              "      <th>332</th>\n",
              "      <td>20.84</td>\n",
              "      <td>15.935281</td>\n",
              "    </tr>\n",
              "    <tr>\n",
              "      <th>333</th>\n",
              "      <td>34.22</td>\n",
              "      <td>18.981508</td>\n",
              "    </tr>\n",
              "    <tr>\n",
              "      <th>334</th>\n",
              "      <td>26.56</td>\n",
              "      <td>28.206671</td>\n",
              "    </tr>\n",
              "  </tbody>\n",
              "</table>\n",
              "<p>335 rows × 2 columns</p>\n",
              "</div>"
            ],
            "text/plain": [
              "     Targets  Predicted\n",
              "0      13.83  17.574575\n",
              "1      12.24  13.973330\n",
              "2      11.71  12.965997\n",
              "3      11.98  12.633583\n",
              "4      12.86  12.802716\n",
              "..       ...        ...\n",
              "330    14.17  13.448442\n",
              "331    16.08  14.748272\n",
              "332    20.84  15.935281\n",
              "333    34.22  18.981508\n",
              "334    26.56  28.206671\n",
              "\n",
              "[335 rows x 2 columns]"
            ]
          },
          "metadata": {
            "tags": []
          },
          "execution_count": 40
        }
      ]
    },
    {
      "cell_type": "code",
      "metadata": {
        "id": "eBR-BknqTdvn"
      },
      "source": [
        "def interactive_plot(df, title):\r\n",
        "  fig = px.line(title = title)\r\n",
        "  for i in df.columns:\r\n",
        "    fig.add_scatter(x = df.index, y = df[i], name = i)\r\n",
        "  fig.show()"
      ],
      "execution_count": 41,
      "outputs": []
    },
    {
      "cell_type": "code",
      "metadata": {
        "id": "VGXDYw2NpYtV"
      },
      "source": [
        "import plotly.express as px"
      ],
      "execution_count": 42,
      "outputs": []
    },
    {
      "cell_type": "code",
      "metadata": {
        "colab": {
          "base_uri": "https://localhost:8080/",
          "height": 542
        },
        "id": "uDHiAKcHnjCN",
        "outputId": "f0fbe873-a5ea-4507-f900-04cfd3467b31"
      },
      "source": [
        "interactive_plot(df_predicted, \"Final Plot\")"
      ],
      "execution_count": 43,
      "outputs": [
        {
          "output_type": "display_data",
          "data": {
            "text/html": [
              "<html>\n",
              "<head><meta charset=\"utf-8\" /></head>\n",
              "<body>\n",
              "    <div>\n",
              "            <script src=\"https://cdnjs.cloudflare.com/ajax/libs/mathjax/2.7.5/MathJax.js?config=TeX-AMS-MML_SVG\"></script><script type=\"text/javascript\">if (window.MathJax) {MathJax.Hub.Config({SVG: {font: \"STIX-Web\"}});}</script>\n",
              "                <script type=\"text/javascript\">window.PlotlyConfig = {MathJaxConfig: 'local'};</script>\n",
              "        <script src=\"https://cdn.plot.ly/plotly-latest.min.js\"></script>    \n",
              "            <div id=\"dc48d360-26dd-4a9a-8b76-1feeacd43cab\" class=\"plotly-graph-div\" style=\"height:525px; width:100%;\"></div>\n",
              "            <script type=\"text/javascript\">\n",
              "                \n",
              "                    window.PLOTLYENV=window.PLOTLYENV || {};\n",
              "                    \n",
              "                if (document.getElementById(\"dc48d360-26dd-4a9a-8b76-1feeacd43cab\")) {\n",
              "                    Plotly.newPlot(\n",
              "                        'dc48d360-26dd-4a9a-8b76-1feeacd43cab',\n",
              "                        [{\"name\": \"Targets\", \"type\": \"scatter\", \"x\": [0, 1, 2, 3, 4, 5, 6, 7, 8, 9, 10, 11, 12, 13, 14, 15, 16, 17, 18, 19, 20, 21, 22, 23, 24, 25, 26, 27, 28, 29, 30, 31, 32, 33, 34, 35, 36, 37, 38, 39, 40, 41, 42, 43, 44, 45, 46, 47, 48, 49, 50, 51, 52, 53, 54, 55, 56, 57, 58, 59, 60, 61, 62, 63, 64, 65, 66, 67, 68, 69, 70, 71, 72, 73, 74, 75, 76, 77, 78, 79, 80, 81, 82, 83, 84, 85, 86, 87, 88, 89, 90, 91, 92, 93, 94, 95, 96, 97, 98, 99, 100, 101, 102, 103, 104, 105, 106, 107, 108, 109, 110, 111, 112, 113, 114, 115, 116, 117, 118, 119, 120, 121, 122, 123, 124, 125, 126, 127, 128, 129, 130, 131, 132, 133, 134, 135, 136, 137, 138, 139, 140, 141, 142, 143, 144, 145, 146, 147, 148, 149, 150, 151, 152, 153, 154, 155, 156, 157, 158, 159, 160, 161, 162, 163, 164, 165, 166, 167, 168, 169, 170, 171, 172, 173, 174, 175, 176, 177, 178, 179, 180, 181, 182, 183, 184, 185, 186, 187, 188, 189, 190, 191, 192, 193, 194, 195, 196, 197, 198, 199, 200, 201, 202, 203, 204, 205, 206, 207, 208, 209, 210, 211, 212, 213, 214, 215, 216, 217, 218, 219, 220, 221, 222, 223, 224, 225, 226, 227, 228, 229, 230, 231, 232, 233, 234, 235, 236, 237, 238, 239, 240, 241, 242, 243, 244, 245, 246, 247, 248, 249, 250, 251, 252, 253, 254, 255, 256, 257, 258, 259, 260, 261, 262, 263, 264, 265, 266, 267, 268, 269, 270, 271, 272, 273, 274, 275, 276, 277, 278, 279, 280, 281, 282, 283, 284, 285, 286, 287, 288, 289, 290, 291, 292, 293, 294, 295, 296, 297, 298, 299, 300, 301, 302, 303, 304, 305, 306, 307, 308, 309, 310, 311, 312, 313, 314, 315, 316, 317, 318, 319, 320, 321, 322, 323, 324, 325, 326, 327, 328, 329, 330, 331, 332, 333, 334], \"y\": [13.83, 12.24, 11.71, 11.98, 12.86, 15.05, 22.19, 9.76, 11.06, 15.82, 15.47, 12.19, 8.73, 11.17, 13.78, 11.17, 6.68, 7.01, 6.78, 11.01, 14.54, 27.06, 23.23, 15.9, 13.26, 12.5, 12.47, 12.53, 12.61, 14.37, 28.56, 10.21, 8.91, 9.52, 12.08, 11.0, 12.79, 16.33, 14.88, 7.55, 4.53, 3.51, 8.51, 12.56, 13.95, 23.43, 24.86, 17.84, 14.75, 13.86, 13.63, 12.8, 12.71, 14.32, 24.81, 23.9, 17.47, 21.29, 19.68, 20.69, 18.75, 22.89, 22.02, 16.88, 13.95, 15.72, 18.99, 19.8, 23.4, 17.09, 19.67, 19.07, 15.62, 13.72, 14.17, 13.73, 13.73, 16.67, 26.43, 33.12, 18.86, 19.68, 20.31, 21.12, 22.62, 25.5, 22.18, 14.24, 12.02, 16.26, 19.12, 21.91, 25.47, 28.04, 24.05, 21.55, 15.49, 14.17, 14.07, 13.18, 13.64, 16.45, 24.75, 24.13, 16.16, 14.04, 20.22, 17.56, 20.42, 22.47, 24.9, 18.96, 16.3, 16.09, 16.28, 15.39, 15.49, 21.67, 24.94, 20.26, 15.96, 14.94, 14.21, 14.11, 14.48, 17.95, 25.4, 32.16, 33.82, 37.59, 35.35, 37.14, 37.05, 37.13, 38.6, 32.87, 29.31, 29.21, 35.63, 38.8, 39.58, 35.1, 26.28, 20.71, 18.37, 17.14, 17.05, 15.87, 15.28, 18.06, 27.71, 38.43, 24.6, 20.05, 20.14, 20.6, 5.43, 19.83, 18.47, 10.8, 7.46, 9.01, 11.74, 17.62, 18.95, 22.74, 12.61, 18.0, 15.94, 14.35, 13.49, 13.83, 14.9, 15.67, 25.21, 40.27, 29.13, 23.73, 24.78, 21.38, 17.69, 24.02, 23.77, 20.1, 16.72, 17.81, 19.65, 23.11, 26.51, 29.65, 28.54, 19.14, 17.41, 14.66, 14.63, 14.63, 14.4, 17.82, 17.04, 16.61, 16.64, 16.05, 17.52, 17.53, 15.71, 20.34, 20.89, 15.21, 9.18, 8.14, 12.29, 17.13, 19.9, 21.17, 25.43, 20.38, 16.05, 15.72, 15.35, 15.72, 15.84, 19.84, 29.59, 19.8, 17.57, 19.63, 14.46, 15.84, 13.46, 16.14, 17.57, 13.25, 12.06, 6.36, 16.28, 20.13, 20.17, 16.34, 20.24, 18.0, 13.27, 11.06, 10.36, 10.57, 10.9, 15.1, 25.63, 36.41, 30.45, 25.59, 13.66, 14.58, 15.9, 20.49, 19.81, 8.51, 10.12, 12.29, 14.71, 18.24, 21.82, 14.25, 14.1, 19.34, 14.35, 13.55, 13.62, 13.39, 12.63, 17.49, 21.07, 14.62, 25.44, 18.54, 20.48, 25.93, 22.99, 23.52, 23.23, 10.76, 8.19, 6.59, 11.07, 15.71, 16.38, 25.77, 23.95, 20.88, 15.4, 11.32, 10.61, 10.48, 9.96, 11.56, 14.98, 20.12, 24.99, 18.6, 23.8, 21.57, 22.32, 13.98, 13.32, 10.05, 8.69, 10.97, 11.73, 12.02, 17.82, 20.93, 23.72, 18.95, 11.73, 9.91, 9.42, 10.27, 10.43, 14.13, 20.85, 13.23, 19.62, 14.5, 14.64, 15.07, 11.94, 15.81, 18.06, 12.21, 10.4, 12.04, 14.17, 16.08, 20.84, 34.22, 26.56]}, {\"name\": \"Predicted\", \"type\": \"scatter\", \"x\": [0, 1, 2, 3, 4, 5, 6, 7, 8, 9, 10, 11, 12, 13, 14, 15, 16, 17, 18, 19, 20, 21, 22, 23, 24, 25, 26, 27, 28, 29, 30, 31, 32, 33, 34, 35, 36, 37, 38, 39, 40, 41, 42, 43, 44, 45, 46, 47, 48, 49, 50, 51, 52, 53, 54, 55, 56, 57, 58, 59, 60, 61, 62, 63, 64, 65, 66, 67, 68, 69, 70, 71, 72, 73, 74, 75, 76, 77, 78, 79, 80, 81, 82, 83, 84, 85, 86, 87, 88, 89, 90, 91, 92, 93, 94, 95, 96, 97, 98, 99, 100, 101, 102, 103, 104, 105, 106, 107, 108, 109, 110, 111, 112, 113, 114, 115, 116, 117, 118, 119, 120, 121, 122, 123, 124, 125, 126, 127, 128, 129, 130, 131, 132, 133, 134, 135, 136, 137, 138, 139, 140, 141, 142, 143, 144, 145, 146, 147, 148, 149, 150, 151, 152, 153, 154, 155, 156, 157, 158, 159, 160, 161, 162, 163, 164, 165, 166, 167, 168, 169, 170, 171, 172, 173, 174, 175, 176, 177, 178, 179, 180, 181, 182, 183, 184, 185, 186, 187, 188, 189, 190, 191, 192, 193, 194, 195, 196, 197, 198, 199, 200, 201, 202, 203, 204, 205, 206, 207, 208, 209, 210, 211, 212, 213, 214, 215, 216, 217, 218, 219, 220, 221, 222, 223, 224, 225, 226, 227, 228, 229, 230, 231, 232, 233, 234, 235, 236, 237, 238, 239, 240, 241, 242, 243, 244, 245, 246, 247, 248, 249, 250, 251, 252, 253, 254, 255, 256, 257, 258, 259, 260, 261, 262, 263, 264, 265, 266, 267, 268, 269, 270, 271, 272, 273, 274, 275, 276, 277, 278, 279, 280, 281, 282, 283, 284, 285, 286, 287, 288, 289, 290, 291, 292, 293, 294, 295, 296, 297, 298, 299, 300, 301, 302, 303, 304, 305, 306, 307, 308, 309, 310, 311, 312, 313, 314, 315, 316, 317, 318, 319, 320, 321, 322, 323, 324, 325, 326, 327, 328, 329, 330, 331, 332, 333, 334], \"y\": [17.574575424194336, 13.9733304977417, 12.965996742248535, 12.633583068847656, 12.802716255187988, 13.356992721557617, 14.756524085998535, 19.518577575683594, 11.425025939941406, 12.228204727172852, 15.255424499511719, 15.02821159362793, 12.934565544128418, 10.795836448669434, 12.29662799835205, 13.941423416137695, 12.29662799835205, 9.562394142150879, 9.759256362915039, 9.621979713439941, 12.197124481201172, 14.42803955078125, 22.940040588378906, 20.237516403198242, 15.500797271728516, 13.864729881286621, 13.401012420654297, 13.382776260375977, 13.419255256652832, 13.467928886413574, 14.54783821105957, 23.88902473449707, 12.023417472839355, 11.254485130310059, 11.614109992980957, 13.146143913269043, 12.495325088500977, 13.5775728225708, 15.770994186401367, 14.86402702331543, 10.460208892822266, 8.73339557647705, 8.161630630493164, 11.01979923248291, 13.437504768371582, 14.288546562194824, 20.382482528686523, 21.345335006713867, 17.444002151489258, 15.50074577331543, 14.950778007507324, 14.80936050415039, 14.301448822021484, 14.246603012084961, 15.234485626220703, 22.019149780273438, 21.406835556030273, 17.208545684814453, 19.675525665283203, 18.62604522705078, 19.282760620117188, 18.026281356811523, 20.732481002807617, 20.156034469604492, 16.83465003967285, 15.006194114685059, 16.10511016845703, 18.180604934692383, 18.703779220581055, 21.07230567932129, 16.967514038085938, 18.619571685791016, 18.95086669921875, 16.719751358032227, 15.519286155700684, 15.801790237426758, 15.52554988861084, 15.52554988861084, 17.39179229736328, 23.92980194091797, 28.708738327026367, 18.813173294067383, 19.352218627929688, 19.76888656616211, 20.307819366455078, 21.31537437438965, 23.28436279296875, 21.0185489654541, 15.845836639404297, 14.462241172790527, 17.128644943237305, 18.983684539794922, 20.836923599243164, 23.26361846923828, 25.05818748474121, 22.287384033203125, 19.504579544067383, 15.622879981994629, 14.804342269897461, 14.742724418640137, 14.196784019470215, 14.478407859802246, 16.224252700805664, 21.635927200317383, 21.218605041503906, 16.04204559326172, 14.72425365447998, 18.635276794433594, 16.92595863342285, 18.7653751373291, 20.111597061157227, 21.737207412719727, 17.820722579956055, 16.12995147705078, 15.998138427734375, 16.117387771606445, 15.560530662536621, 15.622879981994629, 19.583494186401367, 21.764236450195312, 20.58861541748047, 17.304555892944336, 16.54441261291504, 16.004859924316406, 15.931241035461426, 16.20398712158203, 18.8084659576416, 24.680248260498047, 30.326974868774414, 31.757869720458984, 35.069366455078125, 33.091590881347656, 34.669681549072266, 34.58988952636719, 34.66081237792969, 35.97068405151367, 30.936904907226562, 27.910480499267578, 27.826629638671875, 33.33719253540039, 36.14985275268555, 36.85078048706055, 32.87269973754883, 25.398523330688477, 20.14190101623535, 18.615571975708008, 17.82516098022461, 17.767648696899414, 17.017663955688477, 16.645511627197266, 18.415590286254883, 24.88294792175293, 32.63591384887695, 22.74440574645996, 19.708404541015625, 19.767375946044922, 20.069488525390625, 10.712725639343262, 19.564424514770508, 18.68019676208496, 13.881572723388672, 11.89217472076416, 12.807836532592773, 14.452430725097656, 18.132640838623047, 18.991134643554688, 21.489913940429688, 14.98507308959961, 18.330326080322266, 17.030485153198242, 16.042682647705078, 15.514021873474121, 15.722556114196777, 16.38284683227539, 16.86179542541504, 23.05659294128418, 33.78567123413086, 25.7399845123291, 22.064157485961914, 22.767072677612305, 20.511878967285156, 18.13327407836914, 22.257719039916992, 22.09082794189453, 19.678613662719727, 17.519996643066406, 18.20949363708496, 19.387727737426758, 21.651805877685547, 23.937715530395508, 26.10186195373535, 25.3310604095459, 19.771404266357422, 18.5263614654541, 16.585952758789062, 16.565046310424805, 16.565046310424805, 16.404966354370117, 18.819732666015625, 18.262514114379883, 17.95696449279785, 17.978246688842773, 17.560781478881836, 18.60496711730957, 18.612117767333984, 17.32120704650879, 20.645994186401367, 21.049837112426758, 16.970216751098633, 12.862081527709961, 12.176926612854004, 14.952033042907715, 18.32661247253418, 20.324270248413086, 21.256145477294922, 24.45441246032715, 18.687332153320312, 15.92593765258789, 15.719735145568848, 15.489258766174316, 15.719736099243164, 15.794648170471191, 18.337308883666992, 24.902376174926758, 18.311443328857422, 16.883495330810547, 18.20162010192871, 14.937970161437988, 15.794648170471191, 14.323781967163086, 15.982276916503906, 16.883495330810547, 14.195504188537598, 13.473223686218262, 10.122152328491211, 16.070011138916016, 18.52508544921875, 18.551021575927734, 16.107641220092773, 18.5964298248291, 17.248336791992188, 14.317068099975586, 12.98937702178955, 12.574399948120117, 12.69861125946045, 12.894289016723633, 15.436663627624512, 22.23305892944336, 29.802318572998047, 25.542686462402344, 22.20610809326172, 14.5541353225708, 15.116665840148926, 15.931849479675293, 18.84043312072754, 18.402297973632812, 11.490540504455566, 12.432737350463867, 13.725025177001953, 15.196526527404785, 17.40032196044922, 19.704622268676758, 14.914359092712402, 14.822596549987793, 18.665157318115234, 15.546277046203613, 15.058626174926758, 15.10115909576416, 14.961508750915527, 14.50206184387207, 17.49336814880371, 19.777389526367188, 15.711633682250977, 22.65726661682129, 18.156200408935547, 19.396291732788086, 22.98642349243164, 21.030323028564453, 21.379606246948242, 21.188304901123047, 13.384737968444824, 11.879670143127441, 10.960470199584961, 13.568670272827148, 16.38313865661621, 16.799049377441406, 22.87881088256836, 21.664072036743164, 19.751596450805664, 16.234111785888672, 13.722192764282227, 13.294413566589355, 13.216388702392578, 12.905213356018066, 13.867420196533203, 15.971309661865234, 19.25397300720215, 22.496917724609375, 18.26817512512207, 21.692663192749023, 20.20610237121582, 20.703065872192383, 15.349489212036133, 14.942096710205078, 12.958963394165039, 12.15146541595459, 13.510971069335938, 13.97048282623291, 14.146659851074219, 17.76720428466797, 19.784442901611328, 21.63886833190918, 17.75696563720703, 13.261366844177246, 12.17380428314209, 11.884138107299805, 12.387468338012695, 12.482661247253418, 14.723628044128418, 18.9880428314209, 14.171530723571777, 18.188806533813477, 14.951910018920898, 15.038482666015625, 15.305070877075195, 13.38803768157959, 15.766253471374512, 17.187166213989258, 13.55125904083252, 12.464802742004395, 13.448442459106445, 14.748271942138672, 15.935280799865723, 18.981508255004883, 28.2066707611084]}],\n",
              "                        {\"legend\": {\"tracegroupgap\": 0}, \"template\": {\"data\": {\"bar\": [{\"error_x\": {\"color\": \"#2a3f5f\"}, \"error_y\": {\"color\": \"#2a3f5f\"}, \"marker\": {\"line\": {\"color\": \"#E5ECF6\", \"width\": 0.5}}, \"type\": \"bar\"}], \"barpolar\": [{\"marker\": {\"line\": {\"color\": \"#E5ECF6\", \"width\": 0.5}}, \"type\": \"barpolar\"}], \"carpet\": [{\"aaxis\": {\"endlinecolor\": \"#2a3f5f\", \"gridcolor\": \"white\", \"linecolor\": \"white\", \"minorgridcolor\": \"white\", \"startlinecolor\": \"#2a3f5f\"}, \"baxis\": {\"endlinecolor\": \"#2a3f5f\", \"gridcolor\": \"white\", \"linecolor\": \"white\", \"minorgridcolor\": \"white\", \"startlinecolor\": \"#2a3f5f\"}, \"type\": \"carpet\"}], \"choropleth\": [{\"colorbar\": {\"outlinewidth\": 0, \"ticks\": \"\"}, \"type\": \"choropleth\"}], \"contour\": [{\"colorbar\": {\"outlinewidth\": 0, \"ticks\": \"\"}, \"colorscale\": [[0.0, \"#0d0887\"], [0.1111111111111111, \"#46039f\"], [0.2222222222222222, \"#7201a8\"], [0.3333333333333333, \"#9c179e\"], [0.4444444444444444, \"#bd3786\"], [0.5555555555555556, \"#d8576b\"], [0.6666666666666666, \"#ed7953\"], [0.7777777777777778, \"#fb9f3a\"], [0.8888888888888888, \"#fdca26\"], [1.0, \"#f0f921\"]], \"type\": \"contour\"}], \"contourcarpet\": [{\"colorbar\": {\"outlinewidth\": 0, \"ticks\": \"\"}, \"type\": \"contourcarpet\"}], \"heatmap\": [{\"colorbar\": {\"outlinewidth\": 0, \"ticks\": \"\"}, \"colorscale\": [[0.0, \"#0d0887\"], [0.1111111111111111, \"#46039f\"], [0.2222222222222222, \"#7201a8\"], [0.3333333333333333, \"#9c179e\"], [0.4444444444444444, \"#bd3786\"], [0.5555555555555556, \"#d8576b\"], [0.6666666666666666, \"#ed7953\"], [0.7777777777777778, \"#fb9f3a\"], [0.8888888888888888, \"#fdca26\"], [1.0, \"#f0f921\"]], \"type\": \"heatmap\"}], \"heatmapgl\": [{\"colorbar\": {\"outlinewidth\": 0, \"ticks\": \"\"}, \"colorscale\": [[0.0, \"#0d0887\"], [0.1111111111111111, \"#46039f\"], [0.2222222222222222, \"#7201a8\"], [0.3333333333333333, \"#9c179e\"], [0.4444444444444444, \"#bd3786\"], [0.5555555555555556, \"#d8576b\"], [0.6666666666666666, \"#ed7953\"], [0.7777777777777778, \"#fb9f3a\"], [0.8888888888888888, \"#fdca26\"], [1.0, \"#f0f921\"]], \"type\": \"heatmapgl\"}], \"histogram\": [{\"marker\": {\"colorbar\": {\"outlinewidth\": 0, \"ticks\": \"\"}}, \"type\": \"histogram\"}], \"histogram2d\": [{\"colorbar\": {\"outlinewidth\": 0, \"ticks\": \"\"}, \"colorscale\": [[0.0, \"#0d0887\"], [0.1111111111111111, \"#46039f\"], [0.2222222222222222, \"#7201a8\"], [0.3333333333333333, \"#9c179e\"], [0.4444444444444444, \"#bd3786\"], [0.5555555555555556, \"#d8576b\"], [0.6666666666666666, \"#ed7953\"], [0.7777777777777778, \"#fb9f3a\"], [0.8888888888888888, \"#fdca26\"], [1.0, \"#f0f921\"]], \"type\": \"histogram2d\"}], \"histogram2dcontour\": [{\"colorbar\": {\"outlinewidth\": 0, \"ticks\": \"\"}, \"colorscale\": [[0.0, \"#0d0887\"], [0.1111111111111111, \"#46039f\"], [0.2222222222222222, \"#7201a8\"], [0.3333333333333333, \"#9c179e\"], [0.4444444444444444, \"#bd3786\"], [0.5555555555555556, \"#d8576b\"], [0.6666666666666666, \"#ed7953\"], [0.7777777777777778, \"#fb9f3a\"], [0.8888888888888888, \"#fdca26\"], [1.0, \"#f0f921\"]], \"type\": \"histogram2dcontour\"}], \"mesh3d\": [{\"colorbar\": {\"outlinewidth\": 0, \"ticks\": \"\"}, \"type\": \"mesh3d\"}], \"parcoords\": [{\"line\": {\"colorbar\": {\"outlinewidth\": 0, \"ticks\": \"\"}}, \"type\": \"parcoords\"}], \"pie\": [{\"automargin\": true, \"type\": \"pie\"}], \"scatter\": [{\"marker\": {\"colorbar\": {\"outlinewidth\": 0, \"ticks\": \"\"}}, \"type\": \"scatter\"}], \"scatter3d\": [{\"line\": {\"colorbar\": {\"outlinewidth\": 0, \"ticks\": \"\"}}, \"marker\": {\"colorbar\": {\"outlinewidth\": 0, \"ticks\": \"\"}}, \"type\": \"scatter3d\"}], \"scattercarpet\": [{\"marker\": {\"colorbar\": {\"outlinewidth\": 0, \"ticks\": \"\"}}, \"type\": \"scattercarpet\"}], \"scattergeo\": [{\"marker\": {\"colorbar\": {\"outlinewidth\": 0, \"ticks\": \"\"}}, \"type\": \"scattergeo\"}], \"scattergl\": [{\"marker\": {\"colorbar\": {\"outlinewidth\": 0, \"ticks\": \"\"}}, \"type\": \"scattergl\"}], \"scattermapbox\": [{\"marker\": {\"colorbar\": {\"outlinewidth\": 0, \"ticks\": \"\"}}, \"type\": \"scattermapbox\"}], \"scatterpolar\": [{\"marker\": {\"colorbar\": {\"outlinewidth\": 0, \"ticks\": \"\"}}, \"type\": \"scatterpolar\"}], \"scatterpolargl\": [{\"marker\": {\"colorbar\": {\"outlinewidth\": 0, \"ticks\": \"\"}}, \"type\": \"scatterpolargl\"}], \"scatterternary\": [{\"marker\": {\"colorbar\": {\"outlinewidth\": 0, \"ticks\": \"\"}}, \"type\": \"scatterternary\"}], \"surface\": [{\"colorbar\": {\"outlinewidth\": 0, \"ticks\": \"\"}, \"colorscale\": [[0.0, \"#0d0887\"], [0.1111111111111111, \"#46039f\"], [0.2222222222222222, \"#7201a8\"], [0.3333333333333333, \"#9c179e\"], [0.4444444444444444, \"#bd3786\"], [0.5555555555555556, \"#d8576b\"], [0.6666666666666666, \"#ed7953\"], [0.7777777777777778, \"#fb9f3a\"], [0.8888888888888888, \"#fdca26\"], [1.0, \"#f0f921\"]], \"type\": \"surface\"}], \"table\": [{\"cells\": {\"fill\": {\"color\": \"#EBF0F8\"}, \"line\": {\"color\": \"white\"}}, \"header\": {\"fill\": {\"color\": \"#C8D4E3\"}, \"line\": {\"color\": \"white\"}}, \"type\": \"table\"}]}, \"layout\": {\"annotationdefaults\": {\"arrowcolor\": \"#2a3f5f\", \"arrowhead\": 0, \"arrowwidth\": 1}, \"coloraxis\": {\"colorbar\": {\"outlinewidth\": 0, \"ticks\": \"\"}}, \"colorscale\": {\"diverging\": [[0, \"#8e0152\"], [0.1, \"#c51b7d\"], [0.2, \"#de77ae\"], [0.3, \"#f1b6da\"], [0.4, \"#fde0ef\"], [0.5, \"#f7f7f7\"], [0.6, \"#e6f5d0\"], [0.7, \"#b8e186\"], [0.8, \"#7fbc41\"], [0.9, \"#4d9221\"], [1, \"#276419\"]], \"sequential\": [[0.0, \"#0d0887\"], [0.1111111111111111, \"#46039f\"], [0.2222222222222222, \"#7201a8\"], [0.3333333333333333, \"#9c179e\"], [0.4444444444444444, \"#bd3786\"], [0.5555555555555556, \"#d8576b\"], [0.6666666666666666, \"#ed7953\"], [0.7777777777777778, \"#fb9f3a\"], [0.8888888888888888, \"#fdca26\"], [1.0, \"#f0f921\"]], \"sequentialminus\": [[0.0, \"#0d0887\"], [0.1111111111111111, \"#46039f\"], [0.2222222222222222, \"#7201a8\"], [0.3333333333333333, \"#9c179e\"], [0.4444444444444444, \"#bd3786\"], [0.5555555555555556, \"#d8576b\"], [0.6666666666666666, \"#ed7953\"], [0.7777777777777778, \"#fb9f3a\"], [0.8888888888888888, \"#fdca26\"], [1.0, \"#f0f921\"]]}, \"colorway\": [\"#636efa\", \"#EF553B\", \"#00cc96\", \"#ab63fa\", \"#FFA15A\", \"#19d3f3\", \"#FF6692\", \"#B6E880\", \"#FF97FF\", \"#FECB52\"], \"font\": {\"color\": \"#2a3f5f\"}, \"geo\": {\"bgcolor\": \"white\", \"lakecolor\": \"white\", \"landcolor\": \"#E5ECF6\", \"showlakes\": true, \"showland\": true, \"subunitcolor\": \"white\"}, \"hoverlabel\": {\"align\": \"left\"}, \"hovermode\": \"closest\", \"mapbox\": {\"style\": \"light\"}, \"paper_bgcolor\": \"white\", \"plot_bgcolor\": \"#E5ECF6\", \"polar\": {\"angularaxis\": {\"gridcolor\": \"white\", \"linecolor\": \"white\", \"ticks\": \"\"}, \"bgcolor\": \"#E5ECF6\", \"radialaxis\": {\"gridcolor\": \"white\", \"linecolor\": \"white\", \"ticks\": \"\"}}, \"scene\": {\"xaxis\": {\"backgroundcolor\": \"#E5ECF6\", \"gridcolor\": \"white\", \"gridwidth\": 2, \"linecolor\": \"white\", \"showbackground\": true, \"ticks\": \"\", \"zerolinecolor\": \"white\"}, \"yaxis\": {\"backgroundcolor\": \"#E5ECF6\", \"gridcolor\": \"white\", \"gridwidth\": 2, \"linecolor\": \"white\", \"showbackground\": true, \"ticks\": \"\", \"zerolinecolor\": \"white\"}, \"zaxis\": {\"backgroundcolor\": \"#E5ECF6\", \"gridcolor\": \"white\", \"gridwidth\": 2, \"linecolor\": \"white\", \"showbackground\": true, \"ticks\": \"\", \"zerolinecolor\": \"white\"}}, \"shapedefaults\": {\"line\": {\"color\": \"#2a3f5f\"}}, \"ternary\": {\"aaxis\": {\"gridcolor\": \"white\", \"linecolor\": \"white\", \"ticks\": \"\"}, \"baxis\": {\"gridcolor\": \"white\", \"linecolor\": \"white\", \"ticks\": \"\"}, \"bgcolor\": \"#E5ECF6\", \"caxis\": {\"gridcolor\": \"white\", \"linecolor\": \"white\", \"ticks\": \"\"}}, \"title\": {\"x\": 0.05}, \"xaxis\": {\"automargin\": true, \"gridcolor\": \"white\", \"linecolor\": \"white\", \"ticks\": \"\", \"title\": {\"standoff\": 15}, \"zerolinecolor\": \"white\", \"zerolinewidth\": 2}, \"yaxis\": {\"automargin\": true, \"gridcolor\": \"white\", \"linecolor\": \"white\", \"ticks\": \"\", \"title\": {\"standoff\": 15}, \"zerolinecolor\": \"white\", \"zerolinewidth\": 2}}}, \"title\": {\"text\": \"Final Plot\"}, \"xaxis\": {\"anchor\": \"y\", \"domain\": [0.0, 1.0]}, \"yaxis\": {\"anchor\": \"x\", \"domain\": [0.0, 1.0]}},\n",
              "                        {\"responsive\": true}\n",
              "                    ).then(function(){\n",
              "                            \n",
              "var gd = document.getElementById('dc48d360-26dd-4a9a-8b76-1feeacd43cab');\n",
              "var x = new MutationObserver(function (mutations, observer) {{\n",
              "        var display = window.getComputedStyle(gd).display;\n",
              "        if (!display || display === 'none') {{\n",
              "            console.log([gd, 'removed!']);\n",
              "            Plotly.purge(gd);\n",
              "            observer.disconnect();\n",
              "        }}\n",
              "}});\n",
              "\n",
              "// Listen for the removal of the full notebook cells\n",
              "var notebookContainer = gd.closest('#notebook-container');\n",
              "if (notebookContainer) {{\n",
              "    x.observe(notebookContainer, {childList: true});\n",
              "}}\n",
              "\n",
              "// Listen for the clearing of the current output cell\n",
              "var outputEl = gd.closest('.output');\n",
              "if (outputEl) {{\n",
              "    x.observe(outputEl, {childList: true});\n",
              "}}\n",
              "\n",
              "                        })\n",
              "                };\n",
              "                \n",
              "            </script>\n",
              "        </div>\n",
              "</body>\n",
              "</html>"
            ]
          },
          "metadata": {
            "tags": []
          }
        }
      ]
    },
    {
      "cell_type": "markdown",
      "metadata": {
        "id": "wGQwbHjdWDua"
      },
      "source": [
        "# Observations\r\n",
        "\r\n",
        "1. Model conservatively predicts lower demands.\r\n",
        "2. Model under predicts higher demands.\r\n",
        "3. There is very less diffrence between training Data Loss and testing data loss(loss: MSE) which shows model is not overfitting the data."
      ]
    },
    {
      "cell_type": "code",
      "metadata": {
        "id": "tlgnNB31pTvJ"
      },
      "source": [
        ""
      ],
      "execution_count": 43,
      "outputs": []
    }
  ]
}